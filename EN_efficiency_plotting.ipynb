{
 "cells": [
  {
   "cell_type": "code",
   "execution_count": 1,
   "metadata": {},
   "outputs": [],
   "source": [
    "# to read ROOT files with python\n",
    "import uproot\n",
    "# use numpy for arrays\n",
    "import numpy as np\n",
    "\n",
    "import awkward as ak\n",
    "\n",
    "# library to make and plot histograms\n",
    "import hist\n",
    "\n",
    "import matplotlib.pyplot as plt\n",
    "\n",
    "# style library\n",
    "import mplhep as hep\n",
    "\n",
    "#used for curve fitting\n",
    "from scipy.stats import norm\n",
    "\n",
    "#used to make data four vectors\n",
    "import vector\n",
    "\n",
    "import matplotlib.colors as colors\n",
    "\n",
    "#used for four vectors\n",
    "import coffea\n",
    "\n",
    "#used for efficiency plots\n",
    "from hist.intervals import clopper_pearson_interval"
   ]
  },
  {
   "cell_type": "code",
   "execution_count": 2,
   "metadata": {},
   "outputs": [],
   "source": [
    "filename = \"ldmx_genie_G18_02a_02_11b_Ti_8GeV_110197_ntup.root\"\n",
    "open = uproot.open(filename)[\"Events\"]"
   ]
  },
  {
   "cell_type": "code",
   "execution_count": 3,
   "metadata": {},
   "outputs": [
    {
     "data": {
      "text/plain": [
       "['genie_truth_interaction_type',\n",
       " 'genie_truth_scattering_type',\n",
       " 'genie_truth_rescatter_code',\n",
       " 'nElectron',\n",
       " 'maxE',\n",
       " 'maxPt',\n",
       " 'Electron_e',\n",
       " 'Electron_eClus',\n",
       " 'Electron_zClus',\n",
       " 'Electron_px',\n",
       " 'Electron_py',\n",
       " 'Electron_pz',\n",
       " 'Electron_dx',\n",
       " 'Electron_dy',\n",
       " 'Electron_x',\n",
       " 'Electron_y',\n",
       " 'Electron_tp',\n",
       " 'Electron_depth',\n",
       " 'Truth_x',\n",
       " 'Truth_y',\n",
       " 'Truth_px',\n",
       " 'Truth_py',\n",
       " 'Truth_pz',\n",
       " 'Truth_e',\n",
       " 'Truth_pdgId',\n",
       " 'TruthEcal_x',\n",
       " 'TruthEcal_y',\n",
       " 'TruthEcal_px',\n",
       " 'TruthEcal_py',\n",
       " 'TruthEcal_pz',\n",
       " 'TruthEcal_e',\n",
       " 'TruthEcal_pdgId',\n",
       " 'Ecal_e_afterLayer',\n",
       " 'Ecal_e_nLayer',\n",
       " 'Hcal_e_afterLayer',\n",
       " 'Hcal_e_nLayer']"
      ]
     },
     "execution_count": 3,
     "metadata": {},
     "output_type": "execute_result"
    }
   ],
   "source": [
    "open.keys()"
   ]
  },
  {
   "cell_type": "markdown",
   "metadata": {},
   "source": [
    "reco data\n",
    "- run through ak.firsts to create lists all of one dimension"
   ]
  },
  {
   "cell_type": "code",
   "execution_count": 4,
   "metadata": {},
   "outputs": [],
   "source": [
    "nElectron = np.asarray(open[\"nElectron\"])\n",
    "Electron_e = ak.firsts(open[\"Electron_e\"].array()).to_numpy().data\n",
    "Electron_eClus = ak.firsts(open[\"Electron_eClus\"].array()).to_numpy().data\n",
    "Electron_zClus = ak.firsts(open[\"Electron_zClus\"].array()).to_numpy().data\n",
    "Electron_px = ak.firsts(open[\"Electron_px\"].array()).to_numpy().data\n",
    "Electron_py = ak.firsts(open[\"Electron_py\"].array()).to_numpy().data\n",
    "Electron_pz = ak.firsts(open[\"Electron_pz\"].array()).to_numpy().data\n",
    "Electron_dx = ak.firsts(open[\"Electron_dx\"].array()).to_numpy().data\n",
    "Electron_dy = ak.firsts(open[\"Electron_dy\"].array()).to_numpy().data\n",
    "Electron_x = ak.firsts(open[\"Electron_x\"].array()).to_numpy().data\n",
    "Electron_y = ak.firsts(open[\"Electron_y\"].array()).to_numpy().data\n",
    "Electron_tp = ak.firsts(open[\"Electron_tp\"].array()).to_numpy().data\n",
    "Electron_depth = ak.firsts(open[\"Electron_depth\"].array()).to_numpy().data\n",
    "Electron_ecal_x = Electron_dx+Electron_x\n",
    "Electron_ecal_y = Electron_dy+Electron_y\n",
    "Electron_pT = np.sqrt(Electron_px**2 + Electron_py**2)\n",
    "afterLayer = ak.firsts(open[\"Ecal_e_afterLayer\"].array()).to_numpy().data"
   ]
  },
  {
   "cell_type": "markdown",
   "metadata": {},
   "source": [
    "truth data"
   ]
  },
  {
   "cell_type": "code",
   "execution_count": 5,
   "metadata": {},
   "outputs": [],
   "source": [
    "Truth_x = np.asarray(open[\"Truth_x\"])\n",
    "Truth_y = np.asarray(open[\"Truth_y\"])\n",
    "Truth_px = np.asarray(open[\"Truth_px\"])\n",
    "Truth_py = np.asarray(open[\"Truth_py\"])\n",
    "Truth_pz = np.asarray(open[\"Truth_pz\"])\n",
    "Truth_e = np.asarray(open[\"Truth_e\"])\n",
    "TruthEcal_x = np.asarray(open[\"TruthEcal_x\"])\n",
    "TruthEcal_y = np.asarray(open[\"TruthEcal_y\"])\n",
    "TruthEcal_px = np.asarray(open[\"TruthEcal_px\"])\n",
    "TruthEcal_py = np.asarray(open[\"TruthEcal_py\"])\n",
    "TruthEcal_pz = np.asarray(open[\"TruthEcal_pz\"])\n",
    "TruthEcal_e = np.asarray(open[\"TruthEcal_e\"])\n",
    "Truth_pdgId = np.asarray(open[\"Truth_pdgId\"])\n",
    "TruthEcal_pdgId = np.asarray(open[\"TruthEcal_pdgId\"])\n",
    "Ecal_e_afterLayer = ak.firsts(open[\"Ecal_e_afterLayer\"].array()).to_numpy().data\n",
    "TruthEcal_dx = TruthEcal_x - Truth_x\n",
    "TruthEcal_dy = TruthEcal_y - Truth_y\n",
    "TruthEcal_pT = np.sqrt(TruthEcal_px**2 + TruthEcal_py**2)\n",
    "\n",
    "# truth info on scattering/interaction types\n",
    "genie_truth_interaction_type = np.asarray(open[\"genie_truth_interaction_type\"])\n",
    "genie_truth_scattering_type = np.asarray(open[\"genie_truth_scattering_type\"])\n",
    "genie_truth_rescatter_code = np.asarray(open[\"genie_truth_rescatter_code\"])"
   ]
  },
  {
   "cell_type": "markdown",
   "metadata": {},
   "source": [
    "Quality cuts\n",
    "- run all of the particle information through position & displacement (beam spot), energy, pdgID, z position, and depth quality cuts"
   ]
  },
  {
   "cell_type": "code",
   "execution_count": 7,
   "metadata": {},
   "outputs": [],
   "source": [
    "p_Electron_x = Electron_x\n",
    "p_Electron_y = Electron_y\n",
    "p_Electron_dx = Electron_dx\n",
    "p_Electron_dy = Electron_dy\n",
    "p_Truth_x = Truth_x\n",
    "p_Truth_y = Truth_y\n",
    "p_TruthEcal_x = TruthEcal_x\n",
    "p_TruthEcal_y = TruthEcal_y\n",
    "p_Electron_depth = Electron_depth\n",
    "p_Electron_py = Electron_py\n",
    "p_Electron_zClus = Electron_zClus"
   ]
  },
  {
   "cell_type": "markdown",
   "metadata": {},
   "source": [
    "electron_x #1"
   ]
  },
  {
   "cell_type": "code",
   "execution_count": 8,
   "metadata": {},
   "outputs": [],
   "source": [
    "pad_Electron_E = Electron_e[abs(p_Electron_x)<10]\n",
    "pad_Electron_px = Electron_px[abs(p_Electron_x)<10]\n",
    "pad_Electron_py = Electron_py[abs(p_Electron_x)<10]\n",
    "pad_Electron_dx = Electron_dx[abs(p_Electron_x)<10]\n",
    "pad_Electron_dy = Electron_dy[abs(p_Electron_x)<10]\n",
    "pad_Electron_x = Electron_x[abs(p_Electron_x)<10]\n",
    "pad_Electron_y = Electron_y[abs(p_Electron_x)<10]\n",
    "pad_Electron_pT = Electron_pT[abs(p_Electron_x)<10]\n",
    "pad_Electron_depth = Electron_depth[abs(p_Electron_x)<10]\n",
    "pad_Electron_zClus = Electron_zClus[abs(p_Electron_x)<10]\n",
    "pad_Electron_tp = Electron_tp[abs(p_Electron_x)<10]\n",
    "pad_afterLayer = afterLayer[abs(p_Electron_x)<10]\n",
    "pad_TruthEcal_E = TruthEcal_e[abs(p_Electron_x)<10]\n",
    "pad_TruthEcal_px = TruthEcal_px[abs(p_Electron_x)<10]\n",
    "pad_TruthEcal_py = TruthEcal_py[abs(p_Electron_x)<10]\n",
    "pad_TruthEcal_dx = TruthEcal_dx[abs(p_Electron_x)<10]\n",
    "pad_TruthEcal_dy = TruthEcal_dy[abs(p_Electron_x)<10]\n",
    "pad_TruthEcal_x = TruthEcal_x[abs(p_Electron_x)<10]\n",
    "pad_TruthEcal_y = TruthEcal_y[abs(p_Electron_x)<10]\n",
    "pad_TruthEcal_pT = TruthEcal_pT[abs(p_Electron_x)<10]\n",
    "pad_Truth_x = Truth_x[abs(p_Electron_x)<10]\n",
    "pad_Truth_y = Truth_y[abs(p_Electron_x)<10]\n",
    "pad_nElectron = nElectron[abs(p_Electron_x)<10]\n",
    "cut_Truth_pdgID = Truth_pdgId[abs(p_Electron_x)<10]\n",
    "pad_scattering_type = genie_truth_scattering_type[abs(p_Electron_x)<10]\n",
    "p_Electron_zClus = p_Electron_zClus[abs(p_Electron_x)<10]\n",
    "p_Electron_y = p_Electron_y[abs(p_Electron_x)<10]\n",
    "p_Electron_dx = p_Electron_dx[abs(p_Electron_x)<10]\n",
    "p_Electron_dy = p_Electron_dy[abs(p_Electron_x)<10]\n",
    "p_Truth_x = p_Truth_x[abs(p_Electron_x)<10]\n",
    "p_Truth_y = p_Truth_y[abs(p_Electron_x)<10]\n",
    "p_TruthEcal_x = p_TruthEcal_x[abs(p_Electron_x)<10]\n",
    "p_TruthEcal_y = p_TruthEcal_y[abs(p_Electron_x)<10]\n",
    "p_Electron_depth = p_Electron_depth[abs(p_Electron_x)<10]\n",
    "p_Electron_py = p_Electron_py[abs(p_Electron_x)<10]\n",
    "p_Electron_x = p_Electron_x[abs(p_Electron_x)<10]"
   ]
  },
  {
   "cell_type": "markdown",
   "metadata": {},
   "source": [
    "electron_x #2"
   ]
  },
  {
   "cell_type": "code",
   "execution_count": 9,
   "metadata": {},
   "outputs": [],
   "source": [
    "pad_Electron_E = pad_Electron_E[abs(p_Electron_x)>1e-6]\n",
    "pad_Electron_px = pad_Electron_px[abs(p_Electron_x)>1e-6]\n",
    "pad_Electron_py = pad_Electron_py[abs(p_Electron_x)>1e-6]\n",
    "pad_Electron_dx = pad_Electron_dx[abs(p_Electron_x)>1e-6]\n",
    "pad_Electron_dy = pad_Electron_dy[abs(p_Electron_x)>1e-6]\n",
    "pad_Electron_pT = pad_Electron_pT[abs(p_Electron_x)>1e-6]\n",
    "pad_Electron_x = pad_Electron_x[abs(p_Electron_x)>1e-6]\n",
    "pad_Electron_y = pad_Electron_y[abs(p_Electron_x)>1e-6]\n",
    "pad_Electron_depth = pad_Electron_depth[abs(p_Electron_x)>1e-6]\n",
    "pad_Electron_zClus = pad_Electron_zClus[abs(p_Electron_x)>1e-6]\n",
    "pad_Electron_tp = pad_Electron_tp[abs(p_Electron_x)>1e-6]\n",
    "pad_afterLayer = pad_afterLayer[abs(p_Electron_x)>1e-6]\n",
    "pad_TruthEcal_E = pad_TruthEcal_E[abs(p_Electron_x)>1e-6]\n",
    "pad_TruthEcal_px = pad_TruthEcal_px[abs(p_Electron_x)>1e-6]\n",
    "pad_TruthEcal_py = pad_TruthEcal_py[abs(p_Electron_x)>1e-6]\n",
    "pad_TruthEcal_dx = pad_TruthEcal_dx[abs(p_Electron_x)>1e-6]\n",
    "pad_TruthEcal_dy = pad_TruthEcal_dy[abs(p_Electron_x)>1e-6]\n",
    "pad_TruthEcal_pT = pad_TruthEcal_pT[abs(p_Electron_x)>1e-6]\n",
    "pad_TruthEcal_x = pad_TruthEcal_x[abs(p_Electron_x)>1e-6]\n",
    "pad_TruthEcal_y = pad_TruthEcal_y[abs(p_Electron_x)>1e-6]\n",
    "pad_Truth_x = pad_Truth_x[abs(p_Electron_x)>1e-6]\n",
    "pad_Truth_y = pad_Truth_y[abs(p_Electron_x)>1e-6]\n",
    "pad_nElectron = pad_nElectron[abs(p_Electron_x)>1e-6]\n",
    "cut_Truth_pdgID = cut_Truth_pdgID[abs(p_Electron_x)>1e-6]\n",
    "pad_scattering_type = pad_scattering_type[abs(p_Electron_x)>1e-6]\n",
    "p_Electron_zClus = p_Electron_zClus[abs(p_Electron_x)>1e-6]\n",
    "p_Electron_y = p_Electron_y[abs(p_Electron_x)>1e-6]\n",
    "p_Electron_dx = p_Electron_dx[abs(p_Electron_x)>1e-6]\n",
    "p_Electron_dy = p_Electron_dy[abs(p_Electron_x)>1e-6]\n",
    "p_Truth_x = p_Truth_x[abs(p_Electron_x)>1e-6]\n",
    "p_Truth_y = p_Truth_y[abs(p_Electron_x)>1e-6]\n",
    "p_TruthEcal_x = p_TruthEcal_x[abs(p_Electron_x)>1e-6]\n",
    "p_TruthEcal_y = p_TruthEcal_y[abs(p_Electron_x)>1e-6]\n",
    "p_Electron_depth = p_Electron_depth[abs(p_Electron_x)>1e-6]\n",
    "p_Electron_py = p_Electron_py[abs(p_Electron_x)>1e-6]\n",
    "p_Electron_x = p_Electron_x[abs(p_Electron_x)>1e-6]"
   ]
  },
  {
   "cell_type": "markdown",
   "metadata": {},
   "source": [
    "electron_y"
   ]
  },
  {
   "cell_type": "code",
   "execution_count": 10,
   "metadata": {},
   "outputs": [],
   "source": [
    "pad_Electron_E = pad_Electron_E[abs(p_Electron_y)<40]\n",
    "pad_Electron_px = pad_Electron_px[abs(p_Electron_y)<40]\n",
    "pad_Electron_py = pad_Electron_py[abs(p_Electron_y)<40]\n",
    "pad_Electron_dx = pad_Electron_dx[abs(p_Electron_y)<40]\n",
    "pad_Electron_dy = pad_Electron_dy[abs(p_Electron_y)<40]\n",
    "pad_Electron_pT = pad_Electron_pT[abs(p_Electron_y)<40]\n",
    "pad_Electron_x = pad_Electron_x[abs(p_Electron_y)<40]\n",
    "pad_Electron_y = pad_Electron_y[abs(p_Electron_y)<40]\n",
    "pad_Electron_depth = pad_Electron_depth[abs(p_Electron_y)<40]\n",
    "pad_Electron_zClus = pad_Electron_zClus[abs(p_Electron_y)<40]\n",
    "pad_Electron_tp = pad_Electron_tp[abs(p_Electron_y)<40]\n",
    "pad_afterLayer = pad_afterLayer[abs(p_Electron_y)<40]\n",
    "pad_TruthEcal_E = pad_TruthEcal_E[abs(p_Electron_y)<40]\n",
    "pad_TruthEcal_px = pad_TruthEcal_px[abs(p_Electron_y)<40]\n",
    "pad_TruthEcal_py = pad_TruthEcal_py[abs(p_Electron_y)<40]\n",
    "pad_TruthEcal_dx = pad_TruthEcal_dx[abs(p_Electron_y)<40]\n",
    "pad_TruthEcal_dy = pad_TruthEcal_dy[abs(p_Electron_y)<40]\n",
    "pad_TruthEcal_pT = pad_TruthEcal_pT[abs(p_Electron_y)<40]\n",
    "pad_TruthEcal_x = pad_TruthEcal_x[abs(p_Electron_y)<40]\n",
    "pad_TruthEcal_y = pad_TruthEcal_y[abs(p_Electron_y)<40]\n",
    "pad_Truth_x = pad_Truth_x[abs(p_Electron_y)<40]\n",
    "pad_Truth_y = pad_Truth_y[abs(p_Electron_y)<40]\n",
    "pad_nElectron = pad_nElectron[abs(p_Electron_y)<40]\n",
    "cut_Truth_pdgID = cut_Truth_pdgID[abs(p_Electron_y)<40]\n",
    "pad_scattering_type = pad_scattering_type[abs(p_Electron_y)<40]\n",
    "p_Electron_zClus = p_Electron_zClus[abs(p_Electron_y)<40]\n",
    "p_Electron_dy = p_Electron_dy[abs(p_Electron_y)<40]\n",
    "p_Truth_x = p_Truth_x[abs(p_Electron_y)<40]\n",
    "p_Truth_y = p_Truth_y[abs(p_Electron_y)<40]\n",
    "p_TruthEcal_x = p_TruthEcal_x[abs(p_Electron_y)<40]\n",
    "p_TruthEcal_y = p_TruthEcal_y[abs(p_Electron_y)<40]\n",
    "p_Electron_depth = p_Electron_depth[abs(p_Electron_y)<40]\n",
    "p_Electron_py = p_Electron_py[abs(p_Electron_y)<40]\n",
    "p_Electron_dx = p_Electron_dx[abs(p_Electron_y)<40]\n",
    "p_Electron_x = p_Electron_x[abs(p_Electron_y)<40]\n",
    "p_Electron_y = p_Electron_y[abs(p_Electron_y)<40]"
   ]
  },
  {
   "cell_type": "markdown",
   "metadata": {},
   "source": [
    "electron_dx"
   ]
  },
  {
   "cell_type": "code",
   "execution_count": 11,
   "metadata": {},
   "outputs": [],
   "source": [
    "pad_Electron_E = pad_Electron_E[abs(p_Electron_x+p_Electron_dx)<100]\n",
    "pad_Electron_px = pad_Electron_px[abs(p_Electron_x+p_Electron_dx)<100]\n",
    "pad_Electron_py = pad_Electron_py[abs(p_Electron_x+p_Electron_dx)<100]\n",
    "pad_Electron_dx = pad_Electron_dx[abs(p_Electron_x+p_Electron_dx)<100]\n",
    "pad_Electron_dy = pad_Electron_dy[abs(p_Electron_x+p_Electron_dx)<100]\n",
    "pad_Electron_pT = pad_Electron_pT[abs(p_Electron_x+p_Electron_dx)<100]\n",
    "pad_Electron_x = pad_Electron_x[abs(p_Electron_x+p_Electron_dx)<100]\n",
    "pad_Electron_y = pad_Electron_y[abs(p_Electron_x+p_Electron_dx)<100]\n",
    "pad_Electron_depth = pad_Electron_depth[abs(p_Electron_x+p_Electron_dx)<100]\n",
    "pad_Electron_zClus = pad_Electron_zClus[abs(p_Electron_x+p_Electron_dx)<100]\n",
    "pad_Electron_tp = pad_Electron_tp[abs(p_Electron_x+p_Electron_dx)<100]\n",
    "pad_afterLayer = pad_afterLayer[abs(p_Electron_x+p_Electron_dx)<100]\n",
    "pad_TruthEcal_E = pad_TruthEcal_E[abs(p_Electron_x+p_Electron_dx)<100]\n",
    "pad_TruthEcal_px = pad_TruthEcal_px[abs(p_Electron_x+p_Electron_dx)<100]\n",
    "pad_TruthEcal_py = pad_TruthEcal_py[abs(p_Electron_x+p_Electron_dx)<100]\n",
    "pad_TruthEcal_dx = pad_TruthEcal_dx[abs(p_Electron_x+p_Electron_dx)<100]\n",
    "pad_TruthEcal_dy = pad_TruthEcal_dy[abs(p_Electron_x+p_Electron_dx)<100]\n",
    "pad_TruthEcal_pT = pad_TruthEcal_pT[abs(p_Electron_x+p_Electron_dx)<100]\n",
    "pad_TruthEcal_x = pad_TruthEcal_x[abs(p_Electron_x+p_Electron_dx)<100]\n",
    "pad_TruthEcal_y = pad_TruthEcal_y[abs(p_Electron_x+p_Electron_dx)<100]\n",
    "pad_nElectron = pad_nElectron[abs(p_Electron_x+p_Electron_dx)<100]\n",
    "pad_Truth_x = pad_Truth_x[abs(p_Electron_x+p_Electron_dx)<100]\n",
    "pad_Truth_y = pad_Truth_y[abs(p_Electron_x+p_Electron_dx)<100]\n",
    "cut_Truth_pdgID = cut_Truth_pdgID[abs(p_Electron_x+p_Electron_dx)<100]\n",
    "pad_scattering_type = pad_scattering_type[abs(p_Electron_x+p_Electron_dx)<100]\n",
    "p_Electron_zClus = p_Electron_zClus[abs(p_Electron_x+p_Electron_dx)<100]\n",
    "p_Truth_x = p_Truth_x[abs(p_Electron_x+p_Electron_dx)<100]\n",
    "p_Truth_y = p_Truth_y[abs(p_Electron_x+p_Electron_dx)<100]\n",
    "p_TruthEcal_x = p_TruthEcal_x[abs(p_Electron_x+p_Electron_dx)<100]\n",
    "p_TruthEcal_y = p_TruthEcal_y[abs(p_Electron_x+p_Electron_dx)<100]\n",
    "p_Electron_depth = p_Electron_depth[abs(p_Electron_x+p_Electron_dx)<100]\n",
    "p_Electron_py = p_Electron_py[abs(p_Electron_x+p_Electron_dx)<100]\n",
    "p_Electron_y = p_Electron_y[abs(p_Electron_x+p_Electron_dx)<100]\n",
    "p_Electron_dy = p_Electron_dy[abs(p_Electron_x+p_Electron_dx)<100]"
   ]
  },
  {
   "cell_type": "markdown",
   "metadata": {},
   "source": [
    "electron_dy"
   ]
  },
  {
   "cell_type": "code",
   "execution_count": 12,
   "metadata": {},
   "outputs": [],
   "source": [
    "pad_Electron_E = pad_Electron_E[abs(p_Electron_y+p_Electron_dy)<120]\n",
    "pad_Electron_px = pad_Electron_px[abs(p_Electron_y+p_Electron_dy)<120]\n",
    "pad_Electron_py = pad_Electron_py[abs(p_Electron_y+p_Electron_dy)<120]\n",
    "pad_Electron_dx = pad_Electron_dx[abs(p_Electron_y+p_Electron_dy)<120]\n",
    "pad_Electron_dy = pad_Electron_dy[abs(p_Electron_y+p_Electron_dy)<120]\n",
    "pad_Electron_pT = pad_Electron_pT[abs(p_Electron_y+p_Electron_dy)<120]\n",
    "pad_Electron_x = pad_Electron_x[abs(p_Electron_y+p_Electron_dy)<120]\n",
    "pad_Electron_y = pad_Electron_y[abs(p_Electron_y+p_Electron_dy)<120]\n",
    "pad_Electron_depth = pad_Electron_depth[abs(p_Electron_y+p_Electron_dy)<120]\n",
    "pad_Electron_zClus = pad_Electron_zClus[abs(p_Electron_y+p_Electron_dy)<120]\n",
    "pad_Electron_tp = pad_Electron_tp[abs(p_Electron_y+p_Electron_dy)<120]\n",
    "pad_afterLayer = pad_afterLayer[abs(p_Electron_y+p_Electron_dy)<120]\n",
    "pad_TruthEcal_E = pad_TruthEcal_E[abs(p_Electron_y+p_Electron_dy)<120]\n",
    "pad_TruthEcal_px = pad_TruthEcal_px[abs(p_Electron_y+p_Electron_dy)<120]\n",
    "pad_TruthEcal_py = pad_TruthEcal_py[abs(p_Electron_y+p_Electron_dy)<120]\n",
    "pad_TruthEcal_dx = pad_TruthEcal_dx[abs(p_Electron_y+p_Electron_dy)<120]\n",
    "pad_TruthEcal_dy = pad_TruthEcal_dy[abs(p_Electron_y+p_Electron_dy)<120]\n",
    "pad_TruthEcal_pT = pad_TruthEcal_pT[abs(p_Electron_y+p_Electron_dy)<120]\n",
    "pad_TruthEcal_x = pad_TruthEcal_x[abs(p_Electron_y+p_Electron_dy)<120]\n",
    "pad_TruthEcal_y = pad_TruthEcal_y[abs(p_Electron_y+p_Electron_dy)<120]\n",
    "pad_Truth_x = pad_Truth_x[abs(p_Electron_y+p_Electron_dy)<120]\n",
    "pad_Truth_y = pad_Truth_y[abs(p_Electron_y+p_Electron_dy)<120]\n",
    "pad_nElectron = pad_nElectron[abs(p_Electron_y+p_Electron_dy)<120]\n",
    "cut_Truth_pdgID = cut_Truth_pdgID[abs(p_Electron_y+p_Electron_dy)<120]\n",
    "pad_scattering_type = pad_scattering_type[abs(p_Electron_y+p_Electron_dy)<120]\n",
    "p_Electron_zClus = p_Electron_zClus[abs(p_Electron_y+p_Electron_dy)<120]\n",
    "p_Truth_x = p_Truth_x[abs(p_Electron_y+p_Electron_dy)<120]\n",
    "p_Truth_y = p_Truth_y[abs(p_Electron_y+p_Electron_dy)<120]\n",
    "p_TruthEcal_x = p_TruthEcal_x[abs(p_Electron_y+p_Electron_dy)<120]\n",
    "p_TruthEcal_y = p_TruthEcal_y[abs(p_Electron_y+p_Electron_dy)<120]\n",
    "p_Electron_depth = p_Electron_depth[abs(p_Electron_y+p_Electron_dy)<120]\n",
    "p_Electron_py = p_Electron_py[abs(p_Electron_y+p_Electron_dy)<120]"
   ]
  },
  {
   "cell_type": "markdown",
   "metadata": {},
   "source": [
    "truth_x #1"
   ]
  },
  {
   "cell_type": "code",
   "execution_count": 13,
   "metadata": {},
   "outputs": [],
   "source": [
    "pad_Electron_E = pad_Electron_E[abs(p_Truth_x)<10]\n",
    "pad_Electron_px = pad_Electron_px[abs(p_Truth_x)<10]\n",
    "pad_Electron_py = pad_Electron_py[abs(p_Truth_x)<10]\n",
    "pad_Electron_dx = pad_Electron_dx[abs(p_Truth_x)<10]\n",
    "pad_Electron_dy = pad_Electron_dy[abs(p_Truth_x)<10]\n",
    "pad_Electron_pT = pad_Electron_pT[abs(p_Truth_x)<10]\n",
    "pad_Electron_x = pad_Electron_x[abs(p_Truth_x)<10]\n",
    "pad_Electron_y = pad_Electron_y[abs(p_Truth_x)<10]\n",
    "pad_Electron_depth = pad_Electron_depth[abs(p_Truth_x)<10]\n",
    "pad_Electron_zClus = pad_Electron_zClus[abs(p_Truth_x)<10]\n",
    "pad_Electron_tp = pad_Electron_tp[abs(p_Truth_x)<10]\n",
    "pad_afterLayer = pad_afterLayer[abs(p_Truth_x)<10]\n",
    "pad_TruthEcal_E = pad_TruthEcal_E[abs(p_Truth_x)<10]\n",
    "pad_TruthEcal_px = pad_TruthEcal_px[abs(p_Truth_x)<10]\n",
    "pad_TruthEcal_py = pad_TruthEcal_py[abs(p_Truth_x)<10]\n",
    "pad_TruthEcal_dx = pad_TruthEcal_dx[abs(p_Truth_x)<10]\n",
    "pad_TruthEcal_dy = pad_TruthEcal_dy[abs(p_Truth_x)<10]\n",
    "pad_TruthEcal_pT = pad_TruthEcal_pT[abs(p_Truth_x)<10]\n",
    "pad_TruthEcal_x = pad_TruthEcal_x[abs(p_Truth_x)<10]\n",
    "pad_TruthEcal_y = pad_TruthEcal_y[abs(p_Truth_x)<10]\n",
    "pad_Truth_x = pad_Truth_x[abs(p_Truth_x)<10]\n",
    "pad_Truth_y = pad_Truth_y[abs(p_Truth_x)<10]\n",
    "pad_nElectron = pad_nElectron[abs(p_Truth_x)<10]\n",
    "cut_Truth_pdgID = cut_Truth_pdgID[abs(p_Truth_x)<10]\n",
    "pad_scattering_type = pad_scattering_type[abs(p_Truth_x)<10]\n",
    "p_Electron_zClus = p_Electron_zClus[abs(p_Truth_x)<10]\n",
    "p_Truth_y = p_Truth_y[abs(p_Truth_x)<10]\n",
    "p_TruthEcal_x = p_TruthEcal_x[abs(p_Truth_x)<10]\n",
    "p_TruthEcal_y = p_TruthEcal_y[abs(p_Truth_x)<10]\n",
    "p_Electron_depth = p_Electron_depth[abs(p_Truth_x)<10]\n",
    "p_Electron_py = p_Electron_py[abs(p_Truth_x)<10]\n",
    "p_Truth_x = p_Truth_x[abs(p_Truth_x)<10]"
   ]
  },
  {
   "cell_type": "markdown",
   "metadata": {},
   "source": [
    "truth_x #2"
   ]
  },
  {
   "cell_type": "code",
   "execution_count": 14,
   "metadata": {},
   "outputs": [],
   "source": [
    "pad_Electron_E = pad_Electron_E[abs(p_Truth_x)>1e-6]\n",
    "pad_Electron_px = pad_Electron_px[abs(p_Truth_x)>1e-6]\n",
    "pad_Electron_py = pad_Electron_py[abs(p_Truth_x)>1e-6]\n",
    "pad_Electron_dx = pad_Electron_dx[abs(p_Truth_x)>1e-6]\n",
    "pad_Electron_dy = pad_Electron_dy[abs(p_Truth_x)>1e-6]\n",
    "pad_Electron_pT = pad_Electron_pT[abs(p_Truth_x)>1e-6]\n",
    "pad_Electron_x = pad_Electron_x[abs(p_Truth_x)>1e-6]\n",
    "pad_Electron_y = pad_Electron_y[abs(p_Truth_x)>1e-6]\n",
    "pad_Electron_depth = pad_Electron_depth[abs(p_Truth_x)>1e-6]\n",
    "pad_Electron_zClus = pad_Electron_zClus[abs(p_Truth_x)>1e-6]\n",
    "pad_Electron_tp = pad_Electron_tp[abs(p_Truth_x)>1e-6]\n",
    "pad_afterLayer = pad_afterLayer[abs(p_Truth_x)>1e-6]\n",
    "pad_TruthEcal_E = pad_TruthEcal_E[abs(p_Truth_x)>1e-6]\n",
    "pad_TruthEcal_px = pad_TruthEcal_px[abs(p_Truth_x)>1e-6]\n",
    "pad_TruthEcal_py = pad_TruthEcal_py[abs(p_Truth_x)>1e-6]\n",
    "pad_TruthEcal_dx = pad_TruthEcal_dx[abs(p_Truth_x)>1e-6]\n",
    "pad_TruthEcal_dy = pad_TruthEcal_dy[abs(p_Truth_x)>1e-6]\n",
    "pad_TruthEcal_pT = pad_TruthEcal_pT[abs(p_Truth_x)>1e-6]\n",
    "pad_TruthEcal_x = pad_TruthEcal_x[abs(p_Truth_x)>1e-6]\n",
    "pad_TruthEcal_y = pad_TruthEcal_y[abs(p_Truth_x)>1e-6]\n",
    "pad_Truth_x = pad_Truth_x[abs(p_Truth_x)>1e-6]\n",
    "pad_Truth_y = pad_Truth_y[abs(p_Truth_x)>1e-6]\n",
    "pad_nElectron = pad_nElectron[abs(p_Truth_x)>1e-6]\n",
    "cut_Truth_pdgID = cut_Truth_pdgID[abs(p_Truth_x)>1e-6]\n",
    "pad_scattering_type = pad_scattering_type[abs(p_Truth_x)>1e-6]\n",
    "p_Electron_zClus = p_Electron_zClus[abs(p_Truth_x)>1e-6]\n",
    "p_Truth_y = p_Truth_y[abs(p_Truth_x)>1e-6]\n",
    "p_TruthEcal_x = p_TruthEcal_x[abs(p_Truth_x)>1e-6]\n",
    "p_TruthEcal_y = p_TruthEcal_y[abs(p_Truth_x)>1e-6]\n",
    "p_Electron_depth = p_Electron_depth[abs(p_Truth_x)>1e-6]\n",
    "p_Electron_py = p_Electron_py[abs(p_Truth_x)>1e-6]"
   ]
  },
  {
   "cell_type": "markdown",
   "metadata": {},
   "source": [
    "truth_y"
   ]
  },
  {
   "cell_type": "code",
   "execution_count": 15,
   "metadata": {},
   "outputs": [],
   "source": [
    "pad_Electron_E = pad_Electron_E[abs(p_Truth_y)<40]\n",
    "pad_Electron_px = pad_Electron_px[abs(p_Truth_y)<40]\n",
    "pad_Electron_py = pad_Electron_py[abs(p_Truth_y)<40]\n",
    "pad_Electron_dx = pad_Electron_dx[abs(p_Truth_y)<40]\n",
    "pad_Electron_dy = pad_Electron_dy[abs(p_Truth_y)<40]\n",
    "pad_Electron_pT = pad_Electron_pT[abs(p_Truth_y)<40]\n",
    "pad_Electron_x = pad_Electron_x[abs(p_Truth_y)<40]\n",
    "pad_Electron_y = pad_Electron_y[abs(p_Truth_y)<40]\n",
    "pad_Electron_depth = pad_Electron_depth[abs(p_Truth_y)<40]\n",
    "pad_Electron_zClus = pad_Electron_zClus[abs(p_Truth_y)<40]\n",
    "pad_Electron_tp = pad_Electron_tp[abs(p_Truth_y)<40]\n",
    "pad_afterLayer = pad_afterLayer[abs(p_Truth_y)<40]\n",
    "pad_TruthEcal_E = pad_TruthEcal_E[abs(p_Truth_y)<40]\n",
    "pad_TruthEcal_px = pad_TruthEcal_px[abs(p_Truth_y)<40]\n",
    "pad_TruthEcal_py = pad_TruthEcal_py[abs(p_Truth_y)<40]\n",
    "pad_TruthEcal_dx = pad_TruthEcal_dx[abs(p_Truth_y)<40]\n",
    "pad_TruthEcal_dy = pad_TruthEcal_dy[abs(p_Truth_y)<40]\n",
    "pad_TruthEcal_pT = pad_TruthEcal_pT[abs(p_Truth_y)<40]\n",
    "pad_TruthEcal_x = pad_TruthEcal_x[abs(p_Truth_y)<40]\n",
    "pad_TruthEcal_y = pad_TruthEcal_y[abs(p_Truth_y)<40]\n",
    "pad_Truth_x = pad_Truth_x[abs(p_Truth_y)<40]\n",
    "pad_Truth_y = pad_Truth_y[abs(p_Truth_y)<40]\n",
    "pad_nElectron = pad_nElectron[abs(p_Truth_y)<40]\n",
    "cut_Truth_pdgID = cut_Truth_pdgID[abs(p_Truth_y)<40]\n",
    "pad_scattering_type = pad_scattering_type[abs(p_Truth_y)<40]\n",
    "p_Electron_zClus = p_Electron_zClus[abs(p_Truth_y)<40]\n",
    "p_TruthEcal_x = p_TruthEcal_x[abs(p_Truth_y)<40]\n",
    "p_TruthEcal_y = p_TruthEcal_y[abs(p_Truth_y)<40]\n",
    "p_Electron_depth = p_Electron_depth[abs(p_Truth_y)<40]\n",
    "p_Electron_py = p_Electron_py[abs(p_Truth_y)<40]"
   ]
  },
  {
   "cell_type": "markdown",
   "metadata": {},
   "source": [
    "truthEcal_x"
   ]
  },
  {
   "cell_type": "code",
   "execution_count": 16,
   "metadata": {},
   "outputs": [],
   "source": [
    "pad_Electron_E = pad_Electron_E[abs(p_TruthEcal_x)<40]\n",
    "pad_Electron_px = pad_Electron_px[abs(p_TruthEcal_x)<40]\n",
    "pad_Electron_py = pad_Electron_py[abs(p_TruthEcal_x)<40]\n",
    "pad_Electron_dx = pad_Electron_dx[abs(p_TruthEcal_x)<40]\n",
    "pad_Electron_dy = pad_Electron_dy[abs(p_TruthEcal_x)<40]\n",
    "pad_Electron_pT = pad_Electron_pT[abs(p_TruthEcal_x)<40]\n",
    "pad_Electron_x = pad_Electron_x[abs(p_TruthEcal_x)<40]\n",
    "pad_Electron_y = pad_Electron_y[abs(p_TruthEcal_x)<40]\n",
    "pad_Electron_depth = pad_Electron_depth[abs(p_TruthEcal_x)<40]\n",
    "pad_Electron_zClus = pad_Electron_zClus[abs(p_TruthEcal_x)<40]\n",
    "pad_Electron_tp = pad_Electron_tp[abs(p_TruthEcal_x)<40]\n",
    "pad_afterLayer = pad_afterLayer[abs(p_TruthEcal_x)<40]\n",
    "pad_TruthEcal_E = pad_TruthEcal_E[abs(p_TruthEcal_x)<40]\n",
    "pad_TruthEcal_px = pad_TruthEcal_px[abs(p_TruthEcal_x)<40]\n",
    "pad_TruthEcal_py = pad_TruthEcal_py[abs(p_TruthEcal_x)<40]\n",
    "pad_TruthEcal_dx = pad_TruthEcal_dx[abs(p_TruthEcal_x)<40]\n",
    "pad_TruthEcal_dy = pad_TruthEcal_dy[abs(p_TruthEcal_x)<40]\n",
    "pad_TruthEcal_pT = pad_TruthEcal_pT[abs(p_TruthEcal_x)<40]\n",
    "pad_TruthEcal_x = pad_TruthEcal_x[abs(p_TruthEcal_x)<40]\n",
    "pad_TruthEcal_y = pad_TruthEcal_y[abs(p_TruthEcal_x)<40]\n",
    "pad_Truth_x = pad_Truth_x[abs(p_TruthEcal_x)<40]\n",
    "pad_Truth_y = pad_Truth_y[abs(p_TruthEcal_x)<40]\n",
    "pad_nElectron = pad_nElectron[abs(p_TruthEcal_x)<40]\n",
    "cut_Truth_pdgID = cut_Truth_pdgID[abs(p_TruthEcal_x)<40]\n",
    "pad_scattering_type = pad_scattering_type[abs(p_TruthEcal_x)<40]\n",
    "p_Electron_zClus = p_Electron_zClus[abs(p_TruthEcal_x)<40]\n",
    "p_TruthEcal_y = p_TruthEcal_y[abs(p_TruthEcal_x)<40]\n",
    "p_Electron_depth = p_Electron_depth[abs(p_TruthEcal_x)<40]\n",
    "p_Electron_py = p_Electron_py[abs(p_TruthEcal_x)<40]"
   ]
  },
  {
   "cell_type": "markdown",
   "metadata": {},
   "source": [
    "truthEcal_y"
   ]
  },
  {
   "cell_type": "code",
   "execution_count": 17,
   "metadata": {},
   "outputs": [],
   "source": [
    "pad_Electron_E = pad_Electron_E[abs(p_TruthEcal_y)<40]\n",
    "pad_Electron_px = pad_Electron_px[abs(p_TruthEcal_y)<40]\n",
    "pad_Electron_py = pad_Electron_py[abs(p_TruthEcal_y)<40]\n",
    "pad_Electron_dx = pad_Electron_dx[abs(p_TruthEcal_y)<40]\n",
    "pad_Electron_dy = pad_Electron_dy[abs(p_TruthEcal_y)<40]\n",
    "pad_Electron_pT = pad_Electron_pT[abs(p_TruthEcal_y)<40]\n",
    "pad_Electron_x = pad_Electron_x[abs(p_TruthEcal_y)<40]\n",
    "pad_Electron_y = pad_Electron_y[abs(p_TruthEcal_y)<40]\n",
    "pad_Electron_depth = pad_Electron_depth[abs(p_TruthEcal_y)<40]\n",
    "pad_Electron_zClus = pad_Electron_zClus[abs(p_TruthEcal_y)<40]\n",
    "pad_Electron_tp = pad_Electron_tp[abs(p_TruthEcal_y)<40]\n",
    "pad_afterLayer = pad_afterLayer[abs(p_TruthEcal_y)<40]\n",
    "pad_TruthEcal_E = pad_TruthEcal_E[abs(p_TruthEcal_y)<40]\n",
    "pad_TruthEcal_px = pad_TruthEcal_px[abs(p_TruthEcal_y)<40]\n",
    "pad_TruthEcal_py = pad_TruthEcal_py[abs(p_TruthEcal_y)<40]\n",
    "pad_TruthEcal_dx = pad_TruthEcal_dx[abs(p_TruthEcal_y)<40]\n",
    "pad_TruthEcal_dy = pad_TruthEcal_dy[abs(p_TruthEcal_y)<40]\n",
    "pad_TruthEcal_pT = pad_TruthEcal_pT[abs(p_TruthEcal_y)<40]\n",
    "pad_TruthEcal_x = pad_TruthEcal_x[abs(p_TruthEcal_y)<40]\n",
    "pad_TruthEcal_y = pad_TruthEcal_y[abs(p_TruthEcal_y)<40]\n",
    "pad_Truth_x = pad_Truth_x[abs(p_TruthEcal_y)<40]\n",
    "pad_Truth_y = pad_Truth_y[abs(p_TruthEcal_y)<40]\n",
    "pad_nElectron = pad_nElectron[abs(p_TruthEcal_y)<40]\n",
    "cut_Truth_pdgID = cut_Truth_pdgID[abs(p_TruthEcal_y)<40]\n",
    "pad_scattering_type = pad_scattering_type[abs(p_TruthEcal_y)<40]\n",
    "p_Electron_zClus = p_Electron_zClus[abs(p_TruthEcal_y)<40]\n",
    "p_Electron_depth = p_Electron_depth[abs(p_TruthEcal_y)<40]\n",
    "p_Electron_py = p_Electron_py[abs(p_TruthEcal_y)<40]"
   ]
  },
  {
   "cell_type": "markdown",
   "metadata": {},
   "source": [
    "energy"
   ]
  },
  {
   "cell_type": "code",
   "execution_count": 18,
   "metadata": {},
   "outputs": [],
   "source": [
    "pad_Electron_E = pad_Electron_E[pad_TruthEcal_E>3e3]\n",
    "pad_Electron_px = pad_Electron_px[pad_TruthEcal_E>3e3]\n",
    "pad_Electron_py = pad_Electron_py[pad_TruthEcal_E>3e3]\n",
    "pad_Electron_dx = pad_Electron_dx[pad_TruthEcal_E>3e3]\n",
    "pad_Electron_dy = pad_Electron_dy[pad_TruthEcal_E>3e3]\n",
    "pad_Electron_pT = pad_Electron_pT[pad_TruthEcal_E>3e3]\n",
    "pad_Electron_x = pad_Electron_x[pad_TruthEcal_E>3e3]\n",
    "pad_Electron_y = pad_Electron_y[pad_TruthEcal_E>3e3]\n",
    "pad_Electron_depth = pad_Electron_depth[pad_TruthEcal_E>3e3]\n",
    "pad_Electron_zClus = pad_Electron_zClus[pad_TruthEcal_E>3e3]\n",
    "pad_Electron_tp = pad_Electron_tp[pad_TruthEcal_E>3e3]\n",
    "pad_afterLayer = pad_afterLayer[pad_TruthEcal_E>3e3]\n",
    "pad_TruthEcal_px = pad_TruthEcal_px[pad_TruthEcal_E>3e3]\n",
    "pad_TruthEcal_py = pad_TruthEcal_py[pad_TruthEcal_E>3e3]\n",
    "pad_TruthEcal_dx = pad_TruthEcal_dx[pad_TruthEcal_E>3e3]\n",
    "pad_TruthEcal_dy = pad_TruthEcal_dy[pad_TruthEcal_E>3e3]\n",
    "pad_TruthEcal_pT = pad_TruthEcal_pT[pad_TruthEcal_E>3e3]\n",
    "pad_TruthEcal_x = pad_TruthEcal_x[pad_TruthEcal_E>3e3]\n",
    "pad_TruthEcal_y = pad_TruthEcal_y[pad_TruthEcal_E>3e3]\n",
    "pad_Truth_x = pad_Truth_x[pad_TruthEcal_E>3e3]\n",
    "pad_Truth_y = pad_Truth_y[pad_TruthEcal_E>3e3]\n",
    "pad_nElectron = pad_nElectron[pad_TruthEcal_E>3e3]\n",
    "cut_Truth_pdgID = cut_Truth_pdgID[pad_TruthEcal_E>3e3]\n",
    "pad_scattering_type = pad_scattering_type[pad_TruthEcal_E>3e3]\n",
    "p_Electron_zClus = p_Electron_zClus[pad_TruthEcal_E>3e3]\n",
    "p_Electron_depth = p_Electron_depth[pad_TruthEcal_E>3e3]\n",
    "p_Electron_py = p_Electron_py[pad_TruthEcal_E>3e3]\n",
    "pad_TruthEcal_E = pad_TruthEcal_E[pad_TruthEcal_E>3e3]"
   ]
  },
  {
   "cell_type": "markdown",
   "metadata": {},
   "source": [
    "pdgID"
   ]
  },
  {
   "cell_type": "code",
   "execution_count": 19,
   "metadata": {},
   "outputs": [],
   "source": [
    "pad_Electron_E = pad_Electron_E[cut_Truth_pdgID==11]\n",
    "pad_Electron_px = pad_Electron_px[cut_Truth_pdgID==11]\n",
    "pad_Electron_py = pad_Electron_py[cut_Truth_pdgID==11]\n",
    "pad_Electron_dx = pad_Electron_dx[cut_Truth_pdgID==11]\n",
    "pad_Electron_dy = pad_Electron_dy[cut_Truth_pdgID==11]\n",
    "pad_Electron_pT = pad_Electron_pT[cut_Truth_pdgID==11]\n",
    "pad_Electron_x = pad_Electron_x[cut_Truth_pdgID==11]\n",
    "pad_Electron_y = pad_Electron_y[cut_Truth_pdgID==11]\n",
    "pad_Electron_depth = pad_Electron_depth[cut_Truth_pdgID==11]\n",
    "pad_Electron_zClus = pad_Electron_zClus[cut_Truth_pdgID==11]\n",
    "pad_Electron_tp = pad_Electron_tp[cut_Truth_pdgID==11]\n",
    "pad_afterLayer = pad_afterLayer[cut_Truth_pdgID==11]\n",
    "pad_TruthEcal_px = pad_TruthEcal_px[cut_Truth_pdgID==11]\n",
    "pad_TruthEcal_py = pad_TruthEcal_py[cut_Truth_pdgID==11]\n",
    "pad_TruthEcal_dx = pad_TruthEcal_dx[cut_Truth_pdgID==11]\n",
    "pad_TruthEcal_dy = pad_TruthEcal_dy[cut_Truth_pdgID==11]\n",
    "pad_TruthEcal_pT = pad_TruthEcal_pT[cut_Truth_pdgID==11]\n",
    "pad_TruthEcal_x = pad_TruthEcal_x[cut_Truth_pdgID==11]\n",
    "pad_TruthEcal_y = pad_TruthEcal_y[cut_Truth_pdgID==11]\n",
    "pad_Truth_x = pad_Truth_x[cut_Truth_pdgID==11]\n",
    "pad_Truth_y = pad_Truth_y[cut_Truth_pdgID==11]\n",
    "pad_nElectron = pad_nElectron[cut_Truth_pdgID==11]\n",
    "pad_scattering_type = pad_scattering_type[cut_Truth_pdgID==11]\n",
    "p_Electron_zClus = p_Electron_zClus[cut_Truth_pdgID==11]\n",
    "p_Electron_depth = p_Electron_depth[cut_Truth_pdgID==11]\n",
    "p_Electron_py = p_Electron_py[cut_Truth_pdgID==11]\n",
    "pad_TruthEcal_E = pad_TruthEcal_E[cut_Truth_pdgID==11]"
   ]
  },
  {
   "cell_type": "markdown",
   "metadata": {},
   "source": [
    "depth\n",
    "- created to account for weird energy peak below 600 MeV"
   ]
  },
  {
   "cell_type": "code",
   "execution_count": 20,
   "metadata": {},
   "outputs": [],
   "source": [
    "cut_Electron_E = pad_Electron_E[abs(p_Electron_depth)>8]\n",
    "cut_Electron_px = pad_Electron_px[abs(p_Electron_depth)>8]\n",
    "cut_Electron_py = pad_Electron_py[abs(p_Electron_depth)>8]\n",
    "cut_Electron_dx = pad_Electron_dx[abs(p_Electron_depth)>8]\n",
    "cut_Electron_dy = pad_Electron_dy[abs(p_Electron_depth)>8]\n",
    "cut_Electron_pT = pad_Electron_pT[abs(p_Electron_depth)>8]\n",
    "cut_Electron_x = pad_Electron_x[abs(p_Electron_depth)>8]\n",
    "cut_Electron_y = pad_Electron_y[abs(p_Electron_depth)>8]\n",
    "cut_Electron_depth = pad_Electron_depth[abs(p_Electron_depth)>8]\n",
    "cut_Electron_zClus = pad_Electron_zClus[abs(p_Electron_depth)>8]\n",
    "cut_Electron_tp = pad_Electron_tp[abs(p_Electron_depth)>8]\n",
    "cut_afterLayer = pad_afterLayer[abs(p_Electron_depth)>8]\n",
    "cut_TruthEcal_E = pad_TruthEcal_E[abs(p_Electron_depth)>8]\n",
    "cut_TruthEcal_px = pad_TruthEcal_px[abs(p_Electron_depth)>8]\n",
    "cut_TruthEcal_py = pad_TruthEcal_py[abs(p_Electron_depth)>8]\n",
    "cut_TruthEcal_dx = pad_TruthEcal_dx[abs(p_Electron_depth)>8]\n",
    "cut_TruthEcal_dy = pad_TruthEcal_dy[abs(p_Electron_depth)>8]\n",
    "cut_TruthEcal_pT = pad_TruthEcal_pT[abs(p_Electron_depth)>8]\n",
    "cut_TruthEcal_x = pad_TruthEcal_x[abs(p_Electron_depth)>8]\n",
    "cut_TruthEcal_y = pad_TruthEcal_y[abs(p_Electron_depth)>8]\n",
    "cut_Truth_x = pad_Truth_x[abs(p_Electron_depth)>8]\n",
    "cut_Truth_y = pad_Truth_y[abs(p_Electron_depth)>8]\n",
    "cut_nElectron = pad_nElectron[abs(p_Electron_depth)>8]\n",
    "cut_scattering_type = pad_scattering_type[abs(p_Electron_depth)>8]\n",
    "p_Electron_zClus = p_Electron_zClus[abs(p_Electron_depth)>8]\n",
    "p_Electron_py = p_Electron_py[abs(p_Electron_depth)>8]"
   ]
  },
  {
   "cell_type": "markdown",
   "metadata": {},
   "source": [
    "this is the point in cuts through which all events should pass"
   ]
  },
  {
   "cell_type": "markdown",
   "metadata": {},
   "source": [
    "z pos\n",
    "- works as a control for py trigger to decrease trigger threshold"
   ]
  },
  {
   "cell_type": "code",
   "execution_count": 21,
   "metadata": {},
   "outputs": [],
   "source": [
    "cut_Electron_E_z = cut_Electron_E[abs(p_Electron_zClus)<400]\n",
    "cut_Electron_px_z = cut_Electron_px[abs(p_Electron_zClus)<400]\n",
    "cut_Electron_py_z = cut_Electron_py[abs(p_Electron_zClus)<400]\n",
    "cut_Electron_dx_z = cut_Electron_dx[abs(p_Electron_zClus)<400]\n",
    "cut_Electron_dy_z = cut_Electron_dy[abs(p_Electron_zClus)<400]\n",
    "cut_Electron_pT_z = cut_Electron_pT[abs(p_Electron_zClus)<400]\n",
    "cut_Electron_x_z = cut_Electron_x[abs(p_Electron_zClus)<400]\n",
    "cut_Electron_y_z = cut_Electron_y[abs(p_Electron_zClus)<400]\n",
    "cut_Electron_depth_z = cut_Electron_depth[abs(p_Electron_zClus)<400]\n",
    "cut_Electron_zClus_z = cut_Electron_zClus[abs(p_Electron_zClus)<400]\n",
    "cut_Electron_tp_z = cut_Electron_tp[abs(p_Electron_zClus)<400]\n",
    "cut_afterLayer_z = cut_afterLayer[abs(p_Electron_zClus)<400]\n",
    "cut_TruthEcal_E_z = cut_TruthEcal_E[abs(p_Electron_zClus)<400]\n",
    "cut_TruthEcal_px_z = cut_TruthEcal_px[abs(p_Electron_zClus)<400]\n",
    "cut_TruthEcal_py_z = cut_TruthEcal_py[abs(p_Electron_zClus)<400]\n",
    "cut_TruthEcal_dx_z = cut_TruthEcal_dx[abs(p_Electron_zClus)<400]\n",
    "cut_TruthEcal_dy_z = cut_TruthEcal_dy[abs(p_Electron_zClus)<400]\n",
    "cut_TruthEcal_pT_z = cut_TruthEcal_pT[abs(p_Electron_zClus)<400]\n",
    "cut_TruthEcal_x_z = cut_TruthEcal_x[abs(p_Electron_zClus)<400]\n",
    "cut_TruthEcal_y_z = cut_TruthEcal_y[abs(p_Electron_zClus)<400]\n",
    "cut_nElectron_z = cut_nElectron[abs(p_Electron_zClus)<400]\n",
    "cut_Truth_x_z = cut_Truth_x[abs(p_Electron_zClus)<400]\n",
    "cut_Truth_y_z = cut_Truth_y[abs(p_Electron_zClus)<400]\n",
    "cut_scattering_type = cut_scattering_type[abs(p_Electron_zClus)<400]"
   ]
  },
  {
   "cell_type": "markdown",
   "metadata": {},
   "source": [
    "ecal position\n",
    "- calculations for reco position at ecal information"
   ]
  },
  {
   "cell_type": "code",
   "execution_count": 22,
   "metadata": {},
   "outputs": [],
   "source": [
    "pad_Electron_ecal_x = pad_Electron_dx+pad_Electron_x\n",
    "pad_Electron_ecal_y = pad_Electron_dy+pad_Electron_y\n",
    "\n",
    "cut_Electron_ecal_x = cut_Electron_dx_z+cut_Electron_x_z\n",
    "cut_Electron_ecal_y = cut_Electron_dy_z+cut_Electron_y_z"
   ]
  },
  {
   "cell_type": "markdown",
   "metadata": {},
   "source": [
    "scattering type masks"
   ]
  },
  {
   "cell_type": "code",
   "execution_count": 23,
   "metadata": {},
   "outputs": [],
   "source": [
    "# quasi-elastic scattering\n",
    "cut_TruthEcal_py_z_q = cut_TruthEcal_py_z[cut_scattering_type==1]\n",
    "# deep inelastic scattering\n",
    "cut_TruthEcal_py_z_d = cut_TruthEcal_py_z[cut_scattering_type==3]\n",
    "# resonance\n",
    "cut_TruthEcal_py_z_r = cut_TruthEcal_py_z[cut_scattering_type==4]\n",
    "# meson exchange current\n",
    "cut_TruthEcal_py_z_m = cut_TruthEcal_py_z[cut_scattering_type==10]\n",
    "\n",
    "cut_Electron_py_z_q = cut_Electron_py_z[cut_scattering_type==1]\n",
    "cut_Electron_py_z_d = cut_Electron_py_z[cut_scattering_type==3]\n",
    "cut_Electron_py_z_r = cut_Electron_py_z[cut_scattering_type==4]\n",
    "cut_Electron_py_z_m = cut_Electron_py_z[cut_scattering_type==10]\n",
    "\n",
    "pad_TruthEcal_py_q = pad_TruthEcal_py[pad_scattering_type==1]\n",
    "pad_TruthEcal_py_d = pad_TruthEcal_py[pad_scattering_type==3]\n",
    "pad_TruthEcal_py_r = pad_TruthEcal_py[pad_scattering_type==4]\n",
    "pad_TruthEcal_py_m = pad_TruthEcal_py[pad_scattering_type==10]"
   ]
  },
  {
   "cell_type": "markdown",
   "metadata": {},
   "source": [
    "plotting"
   ]
  },
  {
   "cell_type": "markdown",
   "metadata": {},
   "source": [
    "trigger threshold: \n",
    "2kHz: 293 MeV\n",
    "1kHz: 325 MeV"
   ]
  },
  {
   "cell_type": "code",
   "execution_count": 45,
   "metadata": {},
   "outputs": [
    {
     "data": {
      "text/html": [
       "<html>\n",
       "<div style=\"display:flex; align-items:center;\">\n",
       "<div style=\"width:290px;\">\n",
       "<svg xmlns=\"http://www.w3.org/2000/svg\" viewBox=\"-10 -105 270 120\">\n",
       "<line x1=\"-5\" y1=\"0\" x2=\"255\" y2=\"0\" style=\"fill:none;stroke-width:2;stroke:currentColor\"/>\n",
       "<text text-anchor=\"middle\" x=\"0\" y=\"15\" style=\"fill:currentColor;\">\n",
       "0\n",
       "</text>\n",
       "<text text-anchor=\"middle\" x=\"250\" y=\"15\" style=\"fill:currentColor;\">\n",
       "1e+03\n",
       "</text>\n",
       "<text text-anchor=\"middle\" x=\"125.0\" y=\"15\" style=\"fill:currentColor;\">\n",
       "py [MeV]\n",
       "</text>\n",
       "<polyline points=\"  0,0   0,-66.2 6.25,-66.2 6.25,-66.7 12.5,-66.7 12.5,-75.5 18.75,-75.5 18.75,-79.8  25,-79.8  25,-89.1 31.25,-89.1 31.25,-100 37.5,-100 37.5,-81.2 43.75,-81.2 43.75,-55  50,-55  50,-38.2 56.25,-38.2 56.25,-28.3 62.5,-28.3 62.5,-22.6 68.75,-22.6 68.75,-14.7  75,-14.7  75,-12.4 81.25,-12.4 81.25,-9.3 87.5,-9.3 87.5,-8.92 93.75,-8.92 93.75,-5.4 100,-5.4 100,-6.28 106.25,-6.28 106.25,-3.02 112.5,-3.02 112.5,-2.39 118.75,-2.39 118.75,-1.63 125,-1.63 125,-2.14 131.25,-2.14 131.25,-1.76 137.5,-1.76 137.5,-0.754 143.75,-0.754 143.75,-0.628 150,-0.628 150,-0.503 156.25,-0.503 156.25,-0.628 162.5,-0.628 162.5,-0.251 168.75,-0.251 168.75,-0.377 175,-0.377 175,-0.126 181.25,-0.126 181.25,-0.126 187.5,-0.126 187.5,-0 193.75,-0 193.75,-0.126 200,-0.126 200,-0.126 206.25,-0.126 206.25,-0 212.5,-0 212.5,-0 218.75,-0 218.75,-0 225,-0 225,-0.251 231.25,-0.251 231.25,-0 237.5,-0 237.5,-0 243.75,-0 243.75,-0 250,-0 250,0\" style=\"fill:none; stroke:currentColor;\"/>\n",
       "</svg>\n",
       "</div>\n",
       "<div style=\"flex=grow:1;\">\n",
       "Regular(40, 0, 1000, name='residuals', label='py [MeV]')<br/>\n",
       "<hr style=\"margin-top:.2em; margin-bottom:.2em;\"/>\n",
       "Double() Σ=6164.0\n",
       "\n",
       "</div>\n",
       "</div>\n",
       "</html>"
      ],
      "text/plain": [
       "Hist(Regular(40, 0, 1000, name='residuals', label='py [MeV]'), storage=Double()) # Sum: 6164.0"
      ]
     },
     "execution_count": 45,
     "metadata": {},
     "output_type": "execute_result"
    }
   ],
   "source": [
    "gen_axis = hist.axis.Regular(40, 0, 1000, name='residuals', label=r'py [MeV]')\n",
    "h1 = hist.Hist(gen_axis)\n",
    "h2 = hist.Hist(gen_axis)\n",
    "h1.fill(abs(cut_TruthEcal_py_z_q[abs(cut_Electron_py_z_q)>325]))\n",
    "h2.fill(abs(pad_TruthEcal_py_q))"
   ]
  },
  {
   "cell_type": "code",
   "execution_count": 46,
   "metadata": {},
   "outputs": [],
   "source": [
    "numerator = h1\n",
    "denominator = h2"
   ]
  },
  {
   "cell_type": "code",
   "execution_count": 51,
   "metadata": {},
   "outputs": [
    {
     "data": {
      "text/html": [
       "<html>\n",
       "<div style=\"display:flex; align-items:center;\">\n",
       "<div style=\"width:290px;\">\n",
       "<svg xmlns=\"http://www.w3.org/2000/svg\" viewBox=\"-10 -105 270 120\">\n",
       "<line x1=\"-5\" y1=\"0\" x2=\"255\" y2=\"0\" style=\"fill:none;stroke-width:2;stroke:currentColor\"/>\n",
       "<text text-anchor=\"middle\" x=\"0\" y=\"15\" style=\"fill:currentColor;\">\n",
       "0\n",
       "</text>\n",
       "<text text-anchor=\"middle\" x=\"250\" y=\"15\" style=\"fill:currentColor;\">\n",
       "1e+03\n",
       "</text>\n",
       "<text text-anchor=\"middle\" x=\"125.0\" y=\"15\" style=\"fill:currentColor;\">\n",
       "px [MeV]\n",
       "</text>\n",
       "<polyline points=\"  0,0   0,-72.9 6.25,-72.9 6.25,-68.9 12.5,-68.9 12.5,-78.5 18.75,-78.5 18.75,-93.9  25,-93.9  25,-100 31.25,-100 31.25,-99.5 37.5,-99.5 37.5,-78.7 43.75,-78.7 43.75,-67.5  50,-67.5  50,-47.9 56.25,-47.9 56.25,-44.9 62.5,-44.9 62.5,-30.6 68.75,-30.6 68.75,-31.1  75,-31.1  75,-24.7 81.25,-24.7 81.25,-18.5 87.5,-18.5 87.5,-16.3 93.75,-16.3 93.75,-13.1 100,-13.1 100,-13.8 106.25,-13.8 106.25,-9.79 112.5,-9.79 112.5,-8.92 118.75,-8.92 118.75,-6.99 125,-6.99 125,-6.64 131.25,-6.64 131.25,-5.94 137.5,-5.94 137.5,-5.42 143.75,-5.42 143.75,-1.75 150,-1.75 150,-3.5 156.25,-3.5 156.25,-2.97 162.5,-2.97 162.5,-1.22 168.75,-1.22 168.75,-1.05 175,-1.05 175,-1.75 181.25,-1.75 181.25,-1.4 187.5,-1.4 187.5,-1.22 193.75,-1.22 193.75,-0.524 200,-0.524 200,-0.524 206.25,-0.524 206.25,-1.05 212.5,-1.05 212.5,-0.524 218.75,-0.524 218.75,-0.35 225,-0.35 225,-0.175 231.25,-0.175 231.25,-0.35 237.5,-0.35 237.5,-0.175 243.75,-0.175 243.75,-0.175 250,-0.175 250,0\" style=\"fill:none; stroke:currentColor;\"/>\n",
       "</svg>\n",
       "</div>\n",
       "<div style=\"flex=grow:1;\">\n",
       "Regular(40, 0, 1000, name='residuals', label='px [MeV]')<br/>\n",
       "<hr style=\"margin-top:.2em; margin-bottom:.2em;\"/>\n",
       "Double() Σ=5509.0 <em>(5516.0 with flow)</em>\n",
       "\n",
       "</div>\n",
       "</div>\n",
       "</html>"
      ],
      "text/plain": [
       "Hist(Regular(40, 0, 1000, name='residuals', label='px [MeV]'), storage=Double()) # Sum: 5509.0 (5516.0 with flow)"
      ]
     },
     "execution_count": 51,
     "metadata": {},
     "output_type": "execute_result"
    }
   ],
   "source": [
    "gen_axis = hist.axis.Regular(40, 0, 1000, name='residuals', label=r'px [MeV]')\n",
    "h3 = hist.Hist(gen_axis)\n",
    "h4 = hist.Hist(gen_axis)\n",
    "h3.fill(abs(cut_TruthEcal_py_z_d[abs(cut_Electron_py_z_d)>325]))\n",
    "h4.fill(abs(pad_TruthEcal_py_d))"
   ]
  },
  {
   "cell_type": "code",
   "execution_count": 52,
   "metadata": {},
   "outputs": [],
   "source": [
    "numerator1 = h3\n",
    "denominator1 = h4"
   ]
  },
  {
   "cell_type": "code",
   "execution_count": 53,
   "metadata": {},
   "outputs": [
    {
     "data": {
      "text/html": [
       "<html>\n",
       "<div style=\"display:flex; align-items:center;\">\n",
       "<div style=\"width:290px;\">\n",
       "<svg xmlns=\"http://www.w3.org/2000/svg\" viewBox=\"-10 -105 270 120\">\n",
       "<line x1=\"-5\" y1=\"0\" x2=\"255\" y2=\"0\" style=\"fill:none;stroke-width:2;stroke:currentColor\"/>\n",
       "<text text-anchor=\"middle\" x=\"0\" y=\"15\" style=\"fill:currentColor;\">\n",
       "0\n",
       "</text>\n",
       "<text text-anchor=\"middle\" x=\"250\" y=\"15\" style=\"fill:currentColor;\">\n",
       "1e+03\n",
       "</text>\n",
       "<text text-anchor=\"middle\" x=\"125.0\" y=\"15\" style=\"fill:currentColor;\">\n",
       "px [MeV]\n",
       "</text>\n",
       "<polyline points=\"  0,0   0,-70 6.25,-70 6.25,-70.3 12.5,-70.3 12.5,-75.8 18.75,-75.8 18.75,-75.4  25,-75.4  25,-78.1 31.25,-78.1 31.25,-100 37.5,-100 37.5,-79 43.75,-79 43.75,-62.4  50,-62.4  50,-47.2 56.25,-47.2 56.25,-42.5 62.5,-42.5 62.5,-31.5 68.75,-31.5 68.75,-24.1  75,-24.1  75,-21.2 81.25,-21.2 81.25,-19 87.5,-19 87.5,-14.5 93.75,-14.5 93.75,-12.3 100,-12.3 100,-9.22 106.25,-9.22 106.25,-7.23 112.5,-7.23 112.5,-5.42 118.75,-5.42 118.75,-5.61 125,-5.61 125,-4.7 131.25,-4.7 131.25,-3.07 137.5,-3.07 137.5,-2.71 143.75,-2.71 143.75,-1.27 150,-1.27 150,-0.904 156.25,-0.904 156.25,-2.35 162.5,-2.35 162.5,-1.45 168.75,-1.45 168.75,-1.08 175,-1.08 175,-0.723 181.25,-0.723 181.25,-0.362 187.5,-0.362 187.5,-0.542 193.75,-0.542 193.75,-0.362 200,-0.362 200,-0.362 206.25,-0.362 206.25,-0.181 212.5,-0.181 212.5,-0.181 218.75,-0.181 218.75,-0.181 225,-0.181 225,-0 231.25,-0 231.25,-0 237.5,-0 237.5,-0 243.75,-0 243.75,-0 250,-0 250,0\" style=\"fill:none; stroke:currentColor;\"/>\n",
       "</svg>\n",
       "</div>\n",
       "<div style=\"flex=grow:1;\">\n",
       "Regular(40, 0, 1000, name='residuals', label='px [MeV]')<br/>\n",
       "<hr style=\"margin-top:.2em; margin-bottom:.2em;\"/>\n",
       "Double() Σ=4817.0 <em>(4820.0 with flow)</em>\n",
       "\n",
       "</div>\n",
       "</div>\n",
       "</html>"
      ],
      "text/plain": [
       "Hist(Regular(40, 0, 1000, name='residuals', label='px [MeV]'), storage=Double()) # Sum: 4817.0 (4820.0 with flow)"
      ]
     },
     "execution_count": 53,
     "metadata": {},
     "output_type": "execute_result"
    }
   ],
   "source": [
    "gen_axis = hist.axis.Regular(40, 0, 1000, name='residuals', label=r'px [MeV]')\n",
    "h5 = hist.Hist(gen_axis)\n",
    "h6 = hist.Hist(gen_axis)\n",
    "h5.fill(abs(cut_TruthEcal_py_z_r[abs(cut_Electron_py_z_r)>325]))\n",
    "h6.fill(abs(pad_TruthEcal_py_r))"
   ]
  },
  {
   "cell_type": "code",
   "execution_count": 54,
   "metadata": {},
   "outputs": [],
   "source": [
    "numerator2 = h5\n",
    "denominator2 = h6"
   ]
  },
  {
   "cell_type": "code",
   "execution_count": 55,
   "metadata": {},
   "outputs": [
    {
     "name": "stderr",
     "output_type": "stream",
     "text": [
      "/var/folders/ql/y_8f_9610zndt10_t5xg_vbm0000gn/T/ipykernel_13782/3383908721.py:12: RuntimeWarning: invalid value encountered in divide\n",
      "  - numerator.view() / denominator.view()\n",
      "/var/folders/ql/y_8f_9610zndt10_t5xg_vbm0000gn/T/ipykernel_13782/3383908721.py:38: RuntimeWarning: invalid value encountered in divide\n",
      "  - numerator2.view() / denominator2.view()\n"
     ]
    },
    {
     "data": {
      "image/png": "[encoded data removed]",
      "text/plain": [
       "<Figure size 800x600 with 1 Axes>"
      ]
     },
     "metadata": {},
     "output_type": "display_data"
    }
   ],
   "source": [
    "plt.style.use(hep.style.ROOT)\n",
    "plt.rcParams.update({'font.size': 32})\n",
    "\n",
    "#make real histogram\n",
    "fig, axs = plt.subplots(1, 1, figsize=(8, 6))\n",
    "\n",
    "hep.histplot(\n",
    "                h1/h2,\n",
    "                # yerr is the relative shift from the y value\n",
    "                yerr=abs(\n",
    "                    clopper_pearson_interval(numerator.view(), denominator.view())\n",
    "                    - numerator.view() / denominator.view()\n",
    "                ),\n",
    "                ax=axs,\n",
    "                histtype=\"errorbar\",\n",
    "                capsize=4,\n",
    "                linewidth=1,\n",
    "                label = \"quasi-elastic\"\n",
    "            )\n",
    "hep.histplot(\n",
    "                h3/h4,\n",
    "                # yerr is the relative shift from the y value\n",
    "                yerr=abs(\n",
    "                    clopper_pearson_interval(numerator1.view(), denominator1.view())\n",
    "                    - numerator1.view() / denominator1.view()\n",
    "                ),\n",
    "                ax=axs,\n",
    "                histtype=\"errorbar\",\n",
    "                capsize=4,\n",
    "                linewidth=1,\n",
    "                label = \"deep-inelastic\"\n",
    "            )\n",
    "hep.histplot(\n",
    "                h5/h6,\n",
    "                # yerr is the relative shift from the y value\n",
    "                yerr=abs(\n",
    "                    clopper_pearson_interval(numerator2.view(), denominator2.view())\n",
    "                    - numerator2.view() / denominator2.view()\n",
    "                ),\n",
    "                ax=axs,\n",
    "                histtype=\"errorbar\",\n",
    "                capsize=4,\n",
    "                linewidth=1,\n",
    "                label = \"resonant\"\n",
    "            )\n",
    "\n",
    "axs.set_xlabel(\"py [MeV]\")\n",
    "axs.set_ylabel(\"efficiency\")\n",
    "axs.legend(fontsize=12,bbox_to_anchor=(0.3, 0.5))\n",
    "# plt.title(\"deep-inelastic efficiency\")\n",
    "# plt.text(10, 0.75 ,'cuts in num: pos, E, pdgID, trig', fontsize = 10)\n",
    "# plt.text(10, 0.70 ,'cuts in denom: pos, E, pdgID', fontsize = 10)\n",
    "fig.tight_layout()\n",
    "fig.savefig(\"E_efficiency.png\")"
   ]
  },
  {
   "cell_type": "code",
   "execution_count": null,
   "metadata": {},
   "outputs": [],
   "source": [
    "reco_E_trig = pad_Electron_E[pad_Electron_py>325]\n",
    "truth_E_trig = pad_TruthEcal_E[pad_Electron_py>325]\n",
    "reco_E_trig_f = pad_Electron_E[pad_Electron_py<=325]\n",
    "truth_E_trig_f = pad_TruthEcal_E[pad_Electron_py<=325]\n",
    "trig_py = pad_TruthEcal_py[pad_Electron_py>325]\n",
    "trig_py_f = pad_TruthEcal_py[pad_Electron_py<=325]\n",
    "\n",
    "reco_x_trig = pad_Electron_ecal_x[pad_Electron_py>325]\n",
    "truth_x_trig = pad_TruthEcal_x[pad_Electron_py>325]\n",
    "\n",
    "reco_y_trig = pad_Electron_ecal_y[pad_Electron_py>325]\n",
    "truth_y_trig = pad_TruthEcal_y[pad_Electron_py>325]"
   ]
  },
  {
   "cell_type": "code",
   "execution_count": null,
   "metadata": {},
   "outputs": [
    {
     "data": {
      "image/png": "[encoded data removed]",
      "text/plain": [
       "<Figure size 800x800 with 1 Axes>"
      ]
     },
     "metadata": {},
     "output_type": "display_data"
    }
   ],
   "source": [
    "plt.style.use(hep.style.ROOT)\n",
    "plt.rcParams.update({'font.size': 32})\n",
    "\n",
    "#create axis\n",
    "gen_axis = hist.axis.Regular(80, -500, 500, name='residuals', label=r'py [MeV]')\n",
    "h1 = hist.Hist(gen_axis)\n",
    "h2 = hist.Hist(gen_axis)\n",
    "h3 = hist.Hist(gen_axis)\n",
    "\n",
    "#fill\n",
    "h1.fill(pad_Electron_py_y)\n",
    "h2.fill(pad_TruthEcal_py_y)\n",
    "# h3.fill(abs(cut_Electron_ecal_y_y)[abs(cut_Electron_py_y)>325] - abs(cut_TruthEcal_y_y)[abs(cut_Electron_py_y)>325])\n",
    "\n",
    "#print out histogram\n",
    "h1\n",
    "h2\n",
    "\n",
    "\n",
    "#make real histogram\n",
    "fig, axs = plt.subplots(1, 1, figsize=(8, 8))\n",
    "\n",
    "# # use mplhep to directly plot the histogram\n",
    "hep.histplot(\n",
    "    h1, # histogram\n",
    "    ax=axs,  # axis\n",
    "    density=True, # whether to normalize the histogram to 1 or not\n",
    "    label=\"reco\", # label of histogram\n",
    "    flow=\"none\"\n",
    ")\n",
    "hep.histplot(\n",
    "    h2, # histogram\n",
    "    ax=axs,  # axis\n",
    "    density=True, # whether to normalize the histogram to 1 or not\n",
    "    label=\"truth\", # label of histogram\n",
    "    flow=\"none\"\n",
    ")\n",
    "# hep.histplot(\n",
    "#     h3, # histogram\n",
    "#     ax=axs,  # axis\n",
    "#     density=True, # whether to normalize the histogram to 1 or not\n",
    "#     label=\"abs(y)<40\", # label of histogram\n",
    "#     flow=\"none\"\n",
    "# )\n",
    "\n",
    "\n",
    "axs.set_ylabel(\"Electrons (Density)\")\n",
    "axs.legend(fontsize=12,bbox_to_anchor=(0.49, 0.8))\n",
    "plt.title(\"abs(y position residual) < 5\", fontsize = 14)\n",
    "fig.tight_layout()\n",
    "fig.savefig(\"ecal_x.png\")"
   ]
  },
  {
   "cell_type": "markdown",
   "metadata": {},
   "source": []
  }
 ],
 "metadata": {
  "kernelspec": {
   "display_name": "Python 3",
   "language": "python",
   "name": "python3"
  },
  "language_info": {
   "codemirror_mode": {
    "name": "ipython",
    "version": 3
   },
   "file_extension": ".py",
   "mimetype": "text/x-python",
   "name": "python",
   "nbconvert_exporter": "python",
   "pygments_lexer": "ipython3",
   "version": "3.12.3"
  }
 },
 "nbformat": 4,
 "nbformat_minor": 2
}
