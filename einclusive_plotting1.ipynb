{
 "cells": [
  {
   "cell_type": "markdown",
   "metadata": {},
   "source": [
    "All libraries to be imported:"
   ]
  },
  {
   "cell_type": "markdown",
   "metadata": {},
   "source": [
    "will find plotting much further down in file!"
   ]
  },
  {
   "cell_type": "code",
   "execution_count": null,
   "metadata": {},
   "outputs": [],
   "source": [
    "# to read ROOT files with python\n",
    "import uproot\n",
    "# use numpy for arrays\n",
    "import numpy as np\n",
    "\n",
    "import awkward as ak\n",
    "\n",
    "# library to make and plot histograms\n",
    "import hist\n",
    "\n",
    "import matplotlib.pyplot as plt\n",
    "# style library\n",
    "import mplhep as hep\n",
    "\n",
    "from scipy.stats import norm\n",
    "\n",
    "import vector\n",
    "\n",
    "import matplotlib.colors as colors\n",
    "\n",
    "import coffea"
   ]
  },
  {
   "cell_type": "markdown",
   "metadata": {},
   "source": [
    "Open file"
   ]
  },
  {
   "cell_type": "code",
   "execution_count": null,
   "metadata": {},
   "outputs": [],
   "source": [
    "filename = \"einclusive_240611.root\"\n",
    "events = uproot.open(filename)[\"Events\"]"
   ]
  },
  {
   "cell_type": "code",
   "execution_count": null,
   "metadata": {},
   "outputs": [
    {
     "data": {
      "text/plain": [
       "['nElectron',\n",
       " 'maxE',\n",
       " 'maxPt',\n",
       " 'Electron_e',\n",
       " 'Electron_eClus',\n",
       " 'Electron_zClus',\n",
       " 'Electron_px',\n",
       " 'Electron_py',\n",
       " 'Electron_pz',\n",
       " 'Electron_dx',\n",
       " 'Electron_dy',\n",
       " 'Electron_x',\n",
       " 'Electron_y',\n",
       " 'Electron_tp',\n",
       " 'Electron_depth',\n",
       " 'Truth_x',\n",
       " 'Truth_y',\n",
       " 'Truth_px',\n",
       " 'Truth_py',\n",
       " 'Truth_pz',\n",
       " 'Truth_e',\n",
       " 'Truth_pdgId',\n",
       " 'TruthEcal_x',\n",
       " 'TruthEcal_y',\n",
       " 'TruthEcal_px',\n",
       " 'TruthEcal_py',\n",
       " 'TruthEcal_pz',\n",
       " 'TruthEcal_e',\n",
       " 'TruthEcal_pdgId',\n",
       " 'Ecal_e_afterLayer',\n",
       " 'Ecal_e_nLayer',\n",
       " 'Hcal_e_afterLayer',\n",
       " 'Hcal_e_nLayer']"
      ]
     },
     "metadata": {},
     "output_type": "display_data"
    }
   ],
   "source": [
    "events.keys()"
   ]
  },
  {
   "cell_type": "markdown",
   "metadata": {},
   "source": [
    "Electron Data Sets:"
   ]
  },
  {
   "cell_type": "code",
   "execution_count": null,
   "metadata": {},
   "outputs": [],
   "source": [
    "nElectron = np.asarray(events[\"nElectron\"])\n",
    "Electron_e = ak.firsts(events[\"Electron_e\"].array()).to_numpy().data\n",
    "Electron_eClus = ak.firsts(events[\"Electron_eClus\"].array()).to_numpy().data\n",
    "Electron_zClus = ak.firsts(events[\"Electron_zClus\"].array()).to_numpy().data\n",
    "Electron_px = ak.firsts(events[\"Electron_px\"].array()).to_numpy().data\n",
    "Electron_py = ak.firsts(events[\"Electron_py\"].array()).to_numpy().data\n",
    "Electron_pz = ak.firsts(events[\"Electron_pz\"].array()).to_numpy().data\n",
    "Electron_dx = ak.firsts(events[\"Electron_dx\"].array()).to_numpy().data\n",
    "Electron_dy = ak.firsts(events[\"Electron_dy\"].array()).to_numpy().data\n",
    "Electron_x = ak.firsts(events[\"Electron_x\"].array()).to_numpy().data\n",
    "Electron_y = ak.firsts(events[\"Electron_y\"].array()).to_numpy().data\n",
    "Electron_tp = ak.firsts(events[\"Electron_tp\"].array()).to_numpy().data\n",
    "Electron_depth = ak.firsts(events[\"Electron_depth\"].array()).to_numpy().data\n",
    "Electron_ecal_x = Electron_dx+Electron_x\n",
    "\n",
    "px_squared=np.square(Electron_px)\n",
    "py_squared=np.square(Electron_py)\n",
    "\n",
    "squared_pT=px_squared+py_squared\n",
    "\n",
    "Electron_pT=np.sqrt(squared_pT)\n",
    "\n",
    "reco_pT_E = np.sqrt((Electron_px)**2 + (Electron_py)**2)"
   ]
  },
  {
   "cell_type": "markdown",
   "metadata": {},
   "source": [
    "Truth Data Sets:"
   ]
  },
  {
   "cell_type": "code",
   "execution_count": null,
   "metadata": {},
   "outputs": [],
   "source": [
    "Truth_x = np.asarray(events[\"Truth_x\"])\n",
    "Truth_y = np.asarray(events[\"Truth_y\"])\n",
    "Truth_px = events[\"Truth_px\"].array().to_numpy().data\n",
    "Truth_py = events[\"Truth_py\"].array().to_numpy().data\n",
    "Truth_pz = events[\"Truth_pz\"].array().to_numpy().data\n",
    "Truth_e = events[\"Truth_e\"].array().to_numpy().data\n",
    "TruthEcal_x = np.asarray(events[\"TruthEcal_x\"])\n",
    "TruthEcal_y = np.asarray(events[\"TruthEcal_y\"])\n",
    "TruthEcal_px = np.asarray(events[\"TruthEcal_px\"])\n",
    "TruthEcal_py = np.asarray(events[\"TruthEcal_py\"])\n",
    "TruthEcal_pz = events[\"TruthEcal_pz\"].array().to_numpy().data\n",
    "TruthEcal_e = np.asarray(events[\"TruthEcal_e\"])\n",
    "Truth_pdgId = np.asarray(events[\"Truth_pdgId\"])\n",
    "TruthEcal_pdgId = np.asarray(events[\"TruthEcal_pdgId\"])\n",
    "Ecal_e_afterLayer = ak.firsts(events[\"Ecal_e_afterLayer\"].array()).to_numpy().data\n",
    "\n",
    "Truth_px_squared=np.square(Truth_px)\n",
    "Truth_py_squared=np.square(Truth_py)\n",
    "\n",
    "squared_Truth_pT=Truth_px_squared+Truth_py_squared\n",
    "\n",
    "TruthEcal_pT=np.sqrt(squared_Truth_pT)\n",
    "\n",
    "TruthEcal_dx = TruthEcal_x - Truth_x\n",
    "TruthEcal_dy = TruthEcal_y - Truth_y"
   ]
  },
  {
   "cell_type": "markdown",
   "metadata": {},
   "source": [
    "Coffea Vector Data"
   ]
  },
  {
   "cell_type": "code",
   "execution_count": null,
   "metadata": {},
   "outputs": [
    {
     "name": "stderr",
     "output_type": "stream",
     "text": [
      "/var/folders/ql/y_8f_9610zndt10_t5xg_vbm0000gn/T/ipykernel_49026/3333050664.py:1: FutureWarning: In version 2024.7.0 (target date: 2024-06-30 11:59:59-05:00), this will be an error.\n",
      "To raise these warnings as errors (and get stack traces to find out where they're called), run\n",
      "    import warnings\n",
      "    warnings.filterwarnings(\"error\", module=\"coffea.*\")\n",
      "after the first `import coffea` or use `@pytest.mark.filterwarnings(\"error:::coffea.*\")` in pytest.\n",
      "Issue: coffea.nanoevents.methods.vector will be removed and replaced with scikit-hep vector. Nanoevents schemas internal to coffea will be migrated. Otherwise please consider using that package!.\n",
      "  from coffea.nanoevents.methods import vector\n"
     ]
    }
   ],
   "source": [
    "from coffea.nanoevents.methods import vector\n",
    "\n",
    "reco = ak.zip(\n",
    "    {\n",
    "        \"x\": events[\"Electron_px\"].array(),\n",
    "        \"y\": events[\"Electron_py\"].array(),\n",
    "        \"z\": events[\"Electron_pz\"].array(),\n",
    "    },\n",
    "    with_name=\"ThreeVector\",\n",
    "    behavior=vector.behavior,\n",
    ")\n",
    "\n",
    "truth = ak.zip(\n",
    "    {\"x\": events[\"TruthEcal_px\"].array(),\n",
    "     \"y\": events[\"TruthEcal_py\"].array(),\n",
    "     \"z\": events[\"TruthEcal_pz\"].array(),\n",
    "    },\n",
    "    with_name=\"ThreeVector\",\n",
    "    behavior=vector.behavior,\n",
    ")"
   ]
  },
  {
   "cell_type": "markdown",
   "metadata": {},
   "source": [
    "Closest in x&y ordering\n",
    "- will use delta phi to pick particle that has been displaced the least"
   ]
  },
  {
   "cell_type": "code",
   "execution_count": null,
   "metadata": {},
   "outputs": [
    {
     "name": "stderr",
     "output_type": "stream",
     "text": [
      "/Library/Frameworks/Python.framework/Versions/3.12/lib/python3.12/site-packages/numba/np/ufunc/dufunc.py:287: RuntimeWarning: invalid value encountered in delta_phi\n",
      "  return super().__call__(*args, **kws)\n"
     ]
    }
   ],
   "source": [
    "# need to get the abs value minimum and not the negative minimum\n",
    "abs_reco_phi = abs(reco.delta_phi(truth))"
   ]
  },
  {
   "cell_type": "code",
   "execution_count": null,
   "metadata": {},
   "outputs": [
    {
     "data": {
      "text/html": [
       "<pre>[[0],\n",
       " [1],\n",
       " [0],\n",
       " [1],\n",
       " [0],\n",
       " [0],\n",
       " [0],\n",
       " [0],\n",
       " [0],\n",
       " [0],\n",
       " ...,\n",
       " [1],\n",
       " [0],\n",
       " [0],\n",
       " [0],\n",
       " [1],\n",
       " [0],\n",
       " [0],\n",
       " [0],\n",
       " [0]]\n",
       "--------------------------\n",
       "type: 9999979 * 1 * ?int64</pre>"
      ],
      "text/plain": [
       "<Array [[0], [1], [0], [1], ..., [0], [0], [0]] type='9999979 * 1 * ?int64'>"
      ]
     },
     "metadata": {},
     "output_type": "display_data"
    }
   ],
   "source": [
    "phi_index = ak.argmin(abs_reco_phi, axis=1, keepdims=True)\n",
    "phi_index"
   ]
  },
  {
   "cell_type": "code",
   "execution_count": null,
   "metadata": {},
   "outputs": [],
   "source": [
    "# creating ordered data based off position\n",
    "Electron_E_pos = ak.firsts(events[\"Electron_e\"].array()[phi_index]).to_numpy().data\n",
    "Electron_x_pos = ak.firsts(events[\"Electron_x\"].array()[phi_index]).to_numpy().data\n",
    "Electron_y_pos = ak.firsts(events[\"Electron_y\"].array()[phi_index]).to_numpy().data\n",
    "Electron_px_pos = ak.firsts(events[\"Electron_px\"].array()[phi_index]).to_numpy().data\n",
    "Electron_py_pos = ak.firsts(events[\"Electron_py\"].array()[phi_index]).to_numpy().data\n",
    "Electron_pT_pos = np.sqrt(Electron_px_pos**2 + Electron_py_pos**2)\n",
    "Electron_dx_pos = ak.firsts(events[\"Electron_dx\"].array()[phi_index]).to_numpy().data\n",
    "Electron_dy_pos = ak.firsts(events[\"Electron_dy\"].array()[phi_index]).to_numpy().data\n",
    "Electron_depth_pos = ak.firsts(events[\"Electron_depth\"].array()[phi_index]).to_numpy().data"
   ]
  },
  {
   "cell_type": "markdown",
   "metadata": {},
   "source": [
    "depth cut"
   ]
  },
  {
   "cell_type": "code",
   "execution_count": null,
   "metadata": {},
   "outputs": [],
   "source": [
    "Electron_depth_pos>8\n",
    "Electron_E_pos_d = Electron_E_pos[Electron_depth_pos>8]\n",
    "Electron_x_pos_d = Electron_x_pos[Electron_depth_pos>8]\n",
    "Electron_y_pos_d = Electron_y_pos[Electron_depth_pos>8]\n",
    "Electron_px_pos_d = Electron_px_pos[Electron_depth_pos>8]\n",
    "Electron_py_pos_d = Electron_py_pos[Electron_depth_pos>8]\n",
    "Electron_pT_pos_d = Electron_pT_pos[Electron_depth_pos>8]\n",
    "Electron_dx_pos_d = Electron_dx[Electron_depth_pos>8]\n",
    "Electron_dy_pos_d = Electron_dy_pos[Electron_depth_pos>8]"
   ]
  },
  {
   "cell_type": "code",
   "execution_count": null,
   "metadata": {},
   "outputs": [],
   "source": [
    "TruthEcal_e_pos = TruthEcal_e[Electron_depth_pos>8]\n",
    "TruthEcal_x_pos = TruthEcal_x[Electron_depth_pos>8]\n",
    "TruthEcal_y_pos = TruthEcal_y[Electron_depth_pos>8]\n",
    "TruthEcal_px_pos = TruthEcal_px[Electron_depth_pos>8]\n",
    "TruthEcal_py_pos = TruthEcal_py[Electron_depth_pos>8]\n",
    "TruthEcal_pT_pos = TruthEcal_pT[Electron_depth_pos>8]\n",
    "TruthEcal_dx_pos = TruthEcal_dx[Electron_depth_pos>8]\n",
    "TruthEcal_dy_pos = TruthEcal_dy[Electron_depth_pos>8]"
   ]
  },
  {
   "cell_type": "markdown",
   "metadata": {},
   "source": [
    "Max in pT\n",
    "- will create pT data and use argmax to order by pT"
   ]
  },
  {
   "cell_type": "code",
   "execution_count": null,
   "metadata": {},
   "outputs": [],
   "source": [
    "# creating pT\n",
    "Electron_pT_full = np.sqrt(events[\"Electron_px\"].array()**2 + events[\"Electron_py\"].array()**2)"
   ]
  },
  {
   "cell_type": "code",
   "execution_count": null,
   "metadata": {},
   "outputs": [
    {
     "data": {
      "text/html": [
       "<pre>[[0],\n",
       " [1],\n",
       " [0],\n",
       " [0],\n",
       " [0],\n",
       " [1],\n",
       " [0],\n",
       " [0],\n",
       " [0],\n",
       " [0],\n",
       " ...,\n",
       " [2],\n",
       " [0],\n",
       " [0],\n",
       " [0],\n",
       " [0],\n",
       " [0],\n",
       " [0],\n",
       " [0],\n",
       " [0]]\n",
       "--------------------------\n",
       "type: 9999979 * 1 * ?int64</pre>"
      ],
      "text/plain": [
       "<Array [[0], [1], [0], [0], ..., [0], [0], [0]] type='9999979 * 1 * ?int64'>"
      ]
     },
     "metadata": {},
     "output_type": "display_data"
    }
   ],
   "source": [
    "pT_index = ak.argmax(Electron_pT_full, axis=1, keepdims=True)\n",
    "pT_index"
   ]
  },
  {
   "cell_type": "code",
   "execution_count": null,
   "metadata": {},
   "outputs": [],
   "source": [
    "# creating ordered data based off pT\n",
    "Electron_E_pT = ak.firsts(events[\"Electron_e\"].array()[pT_index]).to_numpy().data\n",
    "Electron_x_pT = ak.firsts(events[\"Electron_x\"].array()[pT_index]).to_numpy().data\n",
    "Electron_y_pT = ak.firsts(events[\"Electron_y\"].array()[pT_index]).to_numpy().data\n",
    "Electron_px_pT = ak.firsts(events[\"Electron_px\"].array()[pT_index]).to_numpy().data\n",
    "Electron_py_pT = ak.firsts(events[\"Electron_py\"].array()[pT_index]).to_numpy().data\n",
    "Electron_pT_pT = np.sqrt(Electron_px_pT**2 + Electron_py_pT**2)\n",
    "Electron_dx_pT = ak.firsts(events[\"Electron_dx\"].array()[pT_index]).to_numpy().data\n",
    "Electron_dy_pT = ak.firsts(events[\"Electron_dy\"].array()[pT_index]).to_numpy().data\n",
    "Electron_depth_pT = ak.firsts(events[\"Electron_depth\"].array()[pT_index]).to_numpy().data"
   ]
  },
  {
   "cell_type": "code",
   "execution_count": null,
   "metadata": {},
   "outputs": [],
   "source": [
    "Electron_E = (events[\"Electron_e\"].array()[pT_index])"
   ]
  },
  {
   "cell_type": "markdown",
   "metadata": {},
   "source": [
    "Cut/Data Manipulation Functions"
   ]
  },
  {
   "cell_type": "code",
   "execution_count": null,
   "metadata": {},
   "outputs": [],
   "source": [
    "#removes zeros from an array (will change array size)\n",
    "#takes in a np array\n",
    "def remove_zero_real(truth_mask):\n",
    "    truth = truth_mask[np.nonzero(truth_mask)]\n",
    "    return truth\n",
    "\n",
    "#applies a cut mask to data\n",
    "#takes in two np arrays, one the data you wish to apply cut to and the other is the cut mask\n",
    "def cut(data, cut_mask):\n",
    "    data = data * cut_mask\n",
    "    return data\n",
    "\n",
    "#takes nan data points and transforms them to 0\n",
    "#takes a np array\n",
    "def nan_to_num(data):\n",
    "    data = np.nan_to_num(data, nan=0)\n",
    "    return data\n",
    "\n",
    "#will take two data sets, remove 0 values, and subtract one from the other creating a residual data set\n",
    "# takes two np arrays, will subtract first array from second\n",
    "def compare(truth_mask, elec_mask):\n",
    "    truth = truth_mask[np.nonzero(truth_mask)]\n",
    "    elec = elec_mask[np.nonzero(truth_mask)]\n",
    "    compare=elec-truth\n",
    "    return compare\n",
    "\n",
    "#will take two data sets, remove 0 values, and divide one by the other creating a residual data set\n",
    "# takes two np arrays, will divide second array by first\n",
    "def reco_div_truth(truth_in, elec_in):\n",
    "    truth = nan_to_num(truth_in)\n",
    "    elec = nan_to_num(elec_in)\n",
    "    truth = truth[np.nonzero(truth)]\n",
    "    elec = elec[np.nonzero(truth)]\n",
    "    compare=elec/truth\n",
    "    return compare\n",
    "\n",
    "def cut_for_fit(data, high, low):\n",
    "    temp_mask = data < high\n",
    "    data_temp = data * temp_mask\n",
    "    temp_mask = data_temp > low\n",
    "    data_cut = temp_mask * data\n",
    "    data_cut = remove_zero_real(data_cut)\n",
    "    return data_cut\n",
    "\n",
    "def apply_mask(data, mask):\n",
    "    result1 = data * mask\n",
    "    result2 = nan_to_num(result1)\n",
    "    result3 = remove_zero_real(result2)\n",
    "    return result3\n",
    "\n",
    "def create_mask(data, high, low):\n",
    "    temp_mask = data < high\n",
    "    temp_data = data * temp_mask\n",
    "    mask = temp_data > low\n",
    "    return mask"
   ]
  },
  {
   "cell_type": "markdown",
   "metadata": {},
   "source": [
    "py index\n",
    "-  ordering data within each event by py, high to low"
   ]
  },
  {
   "cell_type": "code",
   "execution_count": null,
   "metadata": {},
   "outputs": [],
   "source": [
    "def padding(array):\n",
    "    return ak.fill_none(ak.pad_none(array, target=8, axis=1), 0, axis=1)\n",
    "\n",
    "def padding_aL(array):\n",
    "    return ak.fill_none(ak.pad_none(array, target=34, axis=1), 0, axis=1)\n",
    "\n",
    "def repeatarray(array):\n",
    "    return ak.concatenate([\n",
    "        ak.singletons(array), \n",
    "        ak.singletons(array),\n",
    "        ak.singletons(array),\n",
    "        ak.singletons(array),\n",
    "        ak.singletons(array),\n",
    "        ak.singletons(array),\n",
    "        ak.singletons(array),\n",
    "        ak.singletons(array),\n",
    "    ], axis=1)"
   ]
  },
  {
   "cell_type": "code",
   "execution_count": null,
   "metadata": {},
   "outputs": [],
   "source": [
    "Electron_py_full = padding(events[\"Electron_py\"].array())"
   ]
  },
  {
   "cell_type": "code",
   "execution_count": null,
   "metadata": {},
   "outputs": [
    {
     "data": {
      "text/html": [
       "<pre>[[12.8, 0, 0, 0, 0, 0, 0, 0],\n",
       " [6.97, 0.106, 0, 0, 0, 0, 0, 0],\n",
       " [1.32, 0, 0, 0, 0, 0, 0, 0],\n",
       " [63.2, 45, 0, 0, 0, 0, 0, 0],\n",
       " [100, 0, 0, 0, 0, 0, 0, 0],\n",
       " [62.5, 83.3, 0, 0, 0, 0, 0, 0],\n",
       " [23.1, 0, 0, 0, 0, 0, 0, 0],\n",
       " [31.7, 0, 0, 0, 0, 0, 0, 0],\n",
       " [29.3, 0, 0, 0, 0, 0, 0, 0],\n",
       " [80, 0, 0, 0, 0, 0, 0, 0],\n",
       " ...,\n",
       " [12.8, 8.19, 24.5, 0, 0, 0, 0, 0],\n",
       " [36.7, 0, 0, 0, 0, 0, 0, 0],\n",
       " [22.7, 0, 0, 0, 0, 0, 0, 0],\n",
       " [18.6, 0, 0, 0, 0, 0, 0, 0],\n",
       " [11.2, 69.6, nan, 0, 0, 0, 0, 0],\n",
       " [175, 19.3, 0, 0, 0, 0, 0, 0],\n",
       " [43.9, 0, 0, 0, 0, 0, 0, 0],\n",
       " [48.2, 0, 0, 0, 0, 0, 0, 0],\n",
       " [12.6, 0, 0, 0, 0, 0, 0, 0]]\n",
       "-----------------------------------\n",
       "type: 9999979 * var * float64</pre>"
      ],
      "text/plain": [
       "<Array [[12.8, 0, 0, 0, 0, 0, 0, 0], ..., [...]] type='9999979 * var * float64'>"
      ]
     },
     "metadata": {},
     "output_type": "display_data"
    }
   ],
   "source": [
    "abs(Electron_py_full)"
   ]
  },
  {
   "cell_type": "code",
   "execution_count": null,
   "metadata": {},
   "outputs": [],
   "source": [
    "py_index = ak.argsort(abs(Electron_py_full), axis=1, ascending = False)"
   ]
  },
  {
   "cell_type": "code",
   "execution_count": null,
   "metadata": {},
   "outputs": [
    {
     "data": {
      "text/html": [
       "<pre>[[0, 1, 2, 3, 4, 5, 6, 7],\n",
       " [0, 1, 2, 3, 4, 5, 6, 7],\n",
       " [0, 1, 2, 3, 4, 5, 6, 7],\n",
       " [0, 1, 2, 3, 4, 5, 6, 7],\n",
       " [0, 1, 2, 3, 4, 5, 6, 7],\n",
       " [1, 0, 2, 3, 4, 5, 6, 7],\n",
       " [0, 1, 2, 3, 4, 5, 6, 7],\n",
       " [0, 1, 2, 3, 4, 5, 6, 7],\n",
       " [0, 1, 2, 3, 4, 5, 6, 7],\n",
       " [0, 1, 2, 3, 4, 5, 6, 7],\n",
       " ...,\n",
       " [2, 0, 1, 3, 4, 5, 6, 7],\n",
       " [0, 1, 2, 3, 4, 5, 6, 7],\n",
       " [0, 1, 2, 3, 4, 5, 6, 7],\n",
       " [0, 1, 2, 3, 4, 5, 6, 7],\n",
       " [2, 1, 0, 3, 4, 5, 6, 7],\n",
       " [0, 1, 2, 3, 4, 5, 6, 7],\n",
       " [0, 1, 2, 3, 4, 5, 6, 7],\n",
       " [0, 1, 2, 3, 4, 5, 6, 7],\n",
       " [0, 1, 2, 3, 4, 5, 6, 7]]\n",
       "---------------------------\n",
       "type: 9999979 * var * int64</pre>"
      ],
      "text/plain": [
       "<Array [[0, 1, 2, 3, 4, 5, 6, 7], ..., [0, ...]] type='9999979 * var * int64'>"
      ]
     },
     "metadata": {},
     "output_type": "display_data"
    }
   ],
   "source": [
    "py_index"
   ]
  },
  {
   "cell_type": "markdown",
   "metadata": {},
   "source": [
    "HERE IS WHERE QUALITY CUTS ARE APPLIED BEFORE PLOTTING"
   ]
  },
  {
   "cell_type": "markdown",
   "metadata": {},
   "source": [
    "creating padded data sets (will go up to 8)\n",
    "- all particle properties will have the same size arrays"
   ]
  },
  {
   "cell_type": "markdown",
   "metadata": {},
   "source": [
    "energy ordering on padded data"
   ]
  },
  {
   "cell_type": "code",
   "execution_count": null,
   "metadata": {},
   "outputs": [],
   "source": [
    "pad_Electron_E = padding(events[\"Electron_e\"].array())\n",
    "pad_Electron_px = padding(events[\"Electron_px\"].array())\n",
    "pad_Electron_py = padding(events[\"Electron_py\"].array())\n",
    "pad_Electron_dx = padding(events[\"Electron_dx\"].array())\n",
    "pad_Electron_dy = padding(events[\"Electron_dy\"].array())\n",
    "pad_Electron_x = padding(events[\"Electron_x\"].array())\n",
    "pad_Electron_y = padding(events[\"Electron_y\"].array())\n",
    "pad_Electron_ecal_x = (pad_Electron_dx+pad_Electron_x)\n",
    "pad_Electron_ecal_y = (pad_Electron_dy+pad_Electron_y)\n",
    "pad_Electron_depth = padding(events[\"Electron_depth\"].array())\n",
    "pad_Electron_zClus = padding(events[\"Electron_zClus\"].array())\n",
    "pad_Electron_tp = padding(events[\"Electron_tp\"].array())\n",
    "pad_afterLayer = padding_aL(events[\"Ecal_e_afterLayer\"].array())"
   ]
  },
  {
   "cell_type": "markdown",
   "metadata": {},
   "source": [
    "py ordering on padded data"
   ]
  },
  {
   "cell_type": "code",
   "execution_count": null,
   "metadata": {},
   "outputs": [],
   "source": [
    "pad_Electron_E = padding(events[\"Electron_e\"].array())[py_index]\n",
    "pad_Electron_px = padding(events[\"Electron_px\"].array())[py_index]\n",
    "pad_Electron_py = padding(events[\"Electron_py\"].array())[py_index]\n",
    "pad_Electron_dx = padding(events[\"Electron_dx\"].array())[py_index]\n",
    "pad_Electron_dy = padding(events[\"Electron_dy\"].array())[py_index]\n",
    "pad_Electron_x = padding(events[\"Electron_x\"].array())[py_index]\n",
    "pad_Electron_y = padding(events[\"Electron_y\"].array())[py_index]\n",
    "pad_Electron_ecal_x = (pad_Electron_dx+pad_Electron_x)[py_index]\n",
    "pad_Electron_ecal_y = (pad_Electron_dy+pad_Electron_y)[py_index]\n",
    "pad_Electron_depth = padding(events[\"Electron_depth\"].array())[py_index]\n",
    "pad_Electron_zClus = padding(events[\"Electron_zClus\"].array())[py_index]\n",
    "pad_Electron_tp = padding(events[\"Electron_tp\"].array())[py_index]\n",
    "pad_afterLayer = padding_aL(events[\"Ecal_e_afterLayer\"].array())[py_index]"
   ]
  },
  {
   "cell_type": "code",
   "execution_count": null,
   "metadata": {},
   "outputs": [],
   "source": [
    "pad_Electron_pT = np.sqrt(pad_Electron_px**2 + pad_Electron_py**2)"
   ]
  },
  {
   "cell_type": "code",
   "execution_count": null,
   "metadata": {},
   "outputs": [],
   "source": [
    "pad_TruthEcal_E = repeatarray(events[\"TruthEcal_e\"].array())\n",
    "pad_TruthEcal_px = repeatarray(events[\"TruthEcal_px\"].array())\n",
    "pad_TruthEcal_py = repeatarray(events[\"TruthEcal_py\"].array())\n",
    "pad_TruthEcal_dx = repeatarray(TruthEcal_dx)\n",
    "pad_TruthEcal_dy = repeatarray(TruthEcal_dy)\n",
    "pad_TruthEcal_x = repeatarray(events[\"TruthEcal_x\"].array())\n",
    "pad_TruthEcal_y = repeatarray(events[\"TruthEcal_y\"].array())\n",
    "pad_Truth_x = repeatarray(events[\"Truth_x\"].array())\n",
    "pad_Truth_y = repeatarray(events[\"Truth_y\"].array())"
   ]
  },
  {
   "cell_type": "code",
   "execution_count": null,
   "metadata": {},
   "outputs": [],
   "source": [
    "pad_TruthEcal_pT = np.sqrt(pad_TruthEcal_px**2 + pad_TruthEcal_py**2)"
   ]
  },
  {
   "cell_type": "code",
   "execution_count": null,
   "metadata": {},
   "outputs": [],
   "source": [
    "p_Electron_x = Electron_x\n",
    "p_Electron_y = Electron_y\n",
    "p_Electron_dx = Electron_dx\n",
    "p_Electron_dy = Electron_dy\n",
    "p_Truth_x = Truth_x\n",
    "p_Truth_y = Truth_y\n",
    "p_TruthEcal_x = TruthEcal_x\n",
    "p_TruthEcal_y = TruthEcal_y\n",
    "p_Electron_depth = Electron_depth\n",
    "p_Electron_py = Electron_py\n",
    "p_Electron_zClus = Electron_zClus"
   ]
  },
  {
   "cell_type": "markdown",
   "metadata": {},
   "source": [
    "Making padded data fit all cuts (position & displacement, depth, py, z pos)"
   ]
  },
  {
   "cell_type": "markdown",
   "metadata": {},
   "source": [
    "electron_x #1"
   ]
  },
  {
   "cell_type": "code",
   "execution_count": null,
   "metadata": {},
   "outputs": [],
   "source": [
    "pad_Electron_E = pad_Electron_E[abs(p_Electron_x)<10]\n",
    "pad_Electron_px = pad_Electron_px[abs(p_Electron_x)<10]\n",
    "pad_Electron_py = pad_Electron_py[abs(p_Electron_x)<10]\n",
    "pad_Electron_dx = pad_Electron_dx[abs(p_Electron_x)<10]\n",
    "pad_Electron_dy = pad_Electron_dy[abs(p_Electron_x)<10]\n",
    "pad_Electron_x = pad_Electron_x[abs(p_Electron_x)<10]\n",
    "pad_Electron_y = pad_Electron_y[abs(p_Electron_x)<10]\n",
    "pad_Electron_pT = pad_Electron_pT[abs(p_Electron_x)<10]\n",
    "pad_Electron_depth = pad_Electron_depth[abs(p_Electron_x)<10]\n",
    "pad_Electron_zClus = pad_Electron_zClus[abs(p_Electron_x)<10]\n",
    "pad_Electron_tp = pad_Electron_tp[abs(p_Electron_x)<10]\n",
    "pad_afterLayer = pad_afterLayer[abs(p_Electron_x)<10]\n",
    "pad_TruthEcal_E = pad_TruthEcal_E[abs(p_Electron_x)<10]\n",
    "pad_TruthEcal_px = pad_TruthEcal_px[abs(p_Electron_x)<10]\n",
    "pad_TruthEcal_py = pad_TruthEcal_py[abs(p_Electron_x)<10]\n",
    "pad_TruthEcal_dx = pad_TruthEcal_dx[abs(p_Electron_x)<10]\n",
    "pad_TruthEcal_dy = pad_TruthEcal_dy[abs(p_Electron_x)<10]\n",
    "pad_TruthEcal_x = pad_TruthEcal_x[abs(p_Electron_x)<10]\n",
    "pad_TruthEcal_y = pad_TruthEcal_y[abs(p_Electron_x)<10]\n",
    "pad_TruthEcal_pT = pad_TruthEcal_pT[abs(p_Electron_x)<10]\n",
    "pad_Truth_x = pad_Truth_x[abs(p_Electron_x)<10]\n",
    "pad_Truth_y = pad_Truth_y[abs(p_Electron_x)<10]\n",
    "pad_nElectron = nElectron[abs(p_Electron_x)<10]\n",
    "p_Electron_zClus = p_Electron_zClus[abs(p_Electron_x)<10]\n",
    "p_Electron_y = p_Electron_y[abs(p_Electron_x)<10]\n",
    "p_Electron_dx = p_Electron_dx[abs(p_Electron_x)<10]\n",
    "p_Electron_dy = p_Electron_dy[abs(p_Electron_x)<10]\n",
    "p_Truth_x = p_Truth_x[abs(p_Electron_x)<10]\n",
    "p_Truth_y = p_Truth_y[abs(p_Electron_x)<10]\n",
    "p_TruthEcal_x = p_TruthEcal_x[abs(p_Electron_x)<10]\n",
    "p_TruthEcal_y = p_TruthEcal_y[abs(p_Electron_x)<10]\n",
    "p_Electron_depth = p_Electron_depth[abs(p_Electron_x)<10]\n",
    "p_Electron_py = p_Electron_py[abs(p_Electron_x)<10]\n",
    "p_Electron_x = p_Electron_x[abs(p_Electron_x)<10]"
   ]
  },
  {
   "cell_type": "markdown",
   "metadata": {},
   "source": [
    "Electron_x #2"
   ]
  },
  {
   "cell_type": "code",
   "execution_count": null,
   "metadata": {},
   "outputs": [],
   "source": [
    "pad_Electron_E = pad_Electron_E[abs(p_Electron_x)>1e-6]\n",
    "pad_Electron_px = pad_Electron_px[abs(p_Electron_x)>1e-6]\n",
    "pad_Electron_py = pad_Electron_py[abs(p_Electron_x)>1e-6]\n",
    "pad_Electron_dx = pad_Electron_dx[abs(p_Electron_x)>1e-6]\n",
    "pad_Electron_dy = pad_Electron_dy[abs(p_Electron_x)>1e-6]\n",
    "pad_Electron_pT = pad_Electron_pT[abs(p_Electron_x)>1e-6]\n",
    "pad_Electron_x = pad_Electron_x[abs(p_Electron_x)>1e-6]\n",
    "pad_Electron_y = pad_Electron_y[abs(p_Electron_x)>1e-6]\n",
    "pad_Electron_depth = pad_Electron_depth[abs(p_Electron_x)>1e-6]\n",
    "pad_Electron_zClus = pad_Electron_zClus[abs(p_Electron_x)>1e-6]\n",
    "pad_Electron_tp = pad_Electron_tp[abs(p_Electron_x)>1e-6]\n",
    "pad_afterLayer = pad_afterLayer[abs(p_Electron_x)>1e-6]\n",
    "pad_TruthEcal_E = pad_TruthEcal_E[abs(p_Electron_x)>1e-6]\n",
    "pad_TruthEcal_px = pad_TruthEcal_px[abs(p_Electron_x)>1e-6]\n",
    "pad_TruthEcal_py = pad_TruthEcal_py[abs(p_Electron_x)>1e-6]\n",
    "pad_TruthEcal_dx = pad_TruthEcal_dx[abs(p_Electron_x)>1e-6]\n",
    "pad_TruthEcal_dy = pad_TruthEcal_dy[abs(p_Electron_x)>1e-6]\n",
    "pad_TruthEcal_pT = pad_TruthEcal_pT[abs(p_Electron_x)>1e-6]\n",
    "pad_TruthEcal_x = pad_TruthEcal_x[abs(p_Electron_x)>1e-6]\n",
    "pad_TruthEcal_y = pad_TruthEcal_y[abs(p_Electron_x)>1e-6]\n",
    "pad_Truth_x = pad_Truth_x[abs(p_Electron_x)>1e-6]\n",
    "pad_Truth_y = pad_Truth_y[abs(p_Electron_x)>1e-6]\n",
    "pad_nElectron = pad_nElectron[abs(p_Electron_x)>1e-6]\n",
    "p_Electron_zClus = p_Electron_zClus[abs(p_Electron_x)>1e-6]\n",
    "p_Electron_y = p_Electron_y[abs(p_Electron_x)>1e-6]\n",
    "p_Electron_dx = p_Electron_dx[abs(p_Electron_x)>1e-6]\n",
    "p_Electron_dy = p_Electron_dy[abs(p_Electron_x)>1e-6]\n",
    "p_Truth_x = p_Truth_x[abs(p_Electron_x)>1e-6]\n",
    "p_Truth_y = p_Truth_y[abs(p_Electron_x)>1e-6]\n",
    "p_TruthEcal_x = p_TruthEcal_x[abs(p_Electron_x)>1e-6]\n",
    "p_TruthEcal_y = p_TruthEcal_y[abs(p_Electron_x)>1e-6]\n",
    "p_Electron_depth = p_Electron_depth[abs(p_Electron_x)>1e-6]\n",
    "p_Electron_py = p_Electron_py[abs(p_Electron_x)>1e-6]\n",
    "p_Electron_x = p_Electron_x[abs(p_Electron_x)>1e-6]"
   ]
  },
  {
   "cell_type": "markdown",
   "metadata": {},
   "source": [
    "electron_y #1"
   ]
  },
  {
   "cell_type": "code",
   "execution_count": null,
   "metadata": {},
   "outputs": [],
   "source": [
    "pad_Electron_E = pad_Electron_E[abs(p_Electron_y)<40]\n",
    "pad_Electron_px = pad_Electron_px[abs(p_Electron_y)<40]\n",
    "pad_Electron_py = pad_Electron_py[abs(p_Electron_y)<40]\n",
    "pad_Electron_dx = pad_Electron_dx[abs(p_Electron_y)<40]\n",
    "pad_Electron_dy = pad_Electron_dy[abs(p_Electron_y)<40]\n",
    "pad_Electron_pT = pad_Electron_pT[abs(p_Electron_y)<40]\n",
    "pad_Electron_x = pad_Electron_x[abs(p_Electron_y)<40]\n",
    "pad_Electron_y = pad_Electron_y[abs(p_Electron_y)<40]\n",
    "pad_Electron_depth = pad_Electron_depth[abs(p_Electron_y)<40]\n",
    "pad_Electron_zClus = pad_Electron_zClus[abs(p_Electron_y)<40]\n",
    "pad_Electron_tp = pad_Electron_tp[abs(p_Electron_y)<40]\n",
    "pad_afterLayer = pad_afterLayer[abs(p_Electron_y)<40]\n",
    "pad_TruthEcal_E = pad_TruthEcal_E[abs(p_Electron_y)<40]\n",
    "pad_TruthEcal_px = pad_TruthEcal_px[abs(p_Electron_y)<40]\n",
    "pad_TruthEcal_py = pad_TruthEcal_py[abs(p_Electron_y)<40]\n",
    "pad_TruthEcal_dx = pad_TruthEcal_dx[abs(p_Electron_y)<40]\n",
    "pad_TruthEcal_dy = pad_TruthEcal_dy[abs(p_Electron_y)<40]\n",
    "pad_TruthEcal_pT = pad_TruthEcal_pT[abs(p_Electron_y)<40]\n",
    "pad_TruthEcal_x = pad_TruthEcal_x[abs(p_Electron_y)<40]\n",
    "pad_TruthEcal_y = pad_TruthEcal_y[abs(p_Electron_y)<40]\n",
    "pad_Truth_x = pad_Truth_x[abs(p_Electron_y)<40]\n",
    "pad_Truth_y = pad_Truth_y[abs(p_Electron_y)<40]\n",
    "pad_nElectron = pad_nElectron[abs(p_Electron_y)<40]\n",
    "p_Electron_zClus = p_Electron_zClus[abs(p_Electron_y)<40]\n",
    "p_Electron_dy = p_Electron_dy[abs(p_Electron_y)<40]\n",
    "p_Truth_x = p_Truth_x[abs(p_Electron_y)<40]\n",
    "p_Truth_y = p_Truth_y[abs(p_Electron_y)<40]\n",
    "p_TruthEcal_x = p_TruthEcal_x[abs(p_Electron_y)<40]\n",
    "p_TruthEcal_y = p_TruthEcal_y[abs(p_Electron_y)<40]\n",
    "p_Electron_depth = p_Electron_depth[abs(p_Electron_y)<40]\n",
    "p_Electron_py = p_Electron_py[abs(p_Electron_y)<40]\n",
    "p_Electron_dx = p_Electron_dx[abs(p_Electron_y)<40]\n",
    "p_Electron_x = p_Electron_x[abs(p_Electron_y)<40]\n",
    "p_Electron_y = p_Electron_y[abs(p_Electron_y)<40]"
   ]
  },
  {
   "cell_type": "markdown",
   "metadata": {},
   "source": [
    "electron_dx #1"
   ]
  },
  {
   "cell_type": "code",
   "execution_count": null,
   "metadata": {},
   "outputs": [],
   "source": [
    "pad_Electron_E = pad_Electron_E[abs(p_Electron_x+p_Electron_dx)<100]\n",
    "pad_Electron_px = pad_Electron_px[abs(p_Electron_x+p_Electron_dx)<100]\n",
    "pad_Electron_py = pad_Electron_py[abs(p_Electron_x+p_Electron_dx)<100]\n",
    "pad_Electron_dx = pad_Electron_dx[abs(p_Electron_x+p_Electron_dx)<100]\n",
    "pad_Electron_dy = pad_Electron_dy[abs(p_Electron_x+p_Electron_dx)<100]\n",
    "pad_Electron_pT = pad_Electron_pT[abs(p_Electron_x+p_Electron_dx)<100]\n",
    "pad_Electron_x = pad_Electron_x[abs(p_Electron_x+p_Electron_dx)<100]\n",
    "pad_Electron_y = pad_Electron_y[abs(p_Electron_x+p_Electron_dx)<100]\n",
    "pad_Electron_depth = pad_Electron_depth[abs(p_Electron_x+p_Electron_dx)<100]\n",
    "pad_Electron_zClus = pad_Electron_zClus[abs(p_Electron_x+p_Electron_dx)<100]\n",
    "pad_Electron_tp = pad_Electron_tp[abs(p_Electron_x+p_Electron_dx)<100]\n",
    "pad_afterLayer = pad_afterLayer[abs(p_Electron_x+p_Electron_dx)<100]\n",
    "pad_TruthEcal_E = pad_TruthEcal_E[abs(p_Electron_x+p_Electron_dx)<100]\n",
    "pad_TruthEcal_px = pad_TruthEcal_px[abs(p_Electron_x+p_Electron_dx)<100]\n",
    "pad_TruthEcal_py = pad_TruthEcal_py[abs(p_Electron_x+p_Electron_dx)<100]\n",
    "pad_TruthEcal_dx = pad_TruthEcal_dx[abs(p_Electron_x+p_Electron_dx)<100]\n",
    "pad_TruthEcal_dy = pad_TruthEcal_dy[abs(p_Electron_x+p_Electron_dx)<100]\n",
    "pad_TruthEcal_pT = pad_TruthEcal_pT[abs(p_Electron_x+p_Electron_dx)<100]\n",
    "pad_TruthEcal_x = pad_TruthEcal_x[abs(p_Electron_x+p_Electron_dx)<100]\n",
    "pad_TruthEcal_y = pad_TruthEcal_y[abs(p_Electron_x+p_Electron_dx)<100]\n",
    "pad_nElectron = pad_nElectron[abs(p_Electron_x+p_Electron_dx)<100]\n",
    "pad_Truth_x = pad_Truth_x[abs(p_Electron_x+p_Electron_dx)<100]\n",
    "pad_Truth_y = pad_Truth_y[abs(p_Electron_x+p_Electron_dx)<100]\n",
    "p_Electron_zClus = p_Electron_zClus[abs(p_Electron_x+p_Electron_dx)<100]\n",
    "p_Truth_x = p_Truth_x[abs(p_Electron_x+p_Electron_dx)<100]\n",
    "p_Truth_y = p_Truth_y[abs(p_Electron_x+p_Electron_dx)<100]\n",
    "p_TruthEcal_x = p_TruthEcal_x[abs(p_Electron_x+p_Electron_dx)<100]\n",
    "p_TruthEcal_y = p_TruthEcal_y[abs(p_Electron_x+p_Electron_dx)<100]\n",
    "p_Electron_depth = p_Electron_depth[abs(p_Electron_x+p_Electron_dx)<100]\n",
    "p_Electron_py = p_Electron_py[abs(p_Electron_x+p_Electron_dx)<100]\n",
    "p_Electron_y = p_Electron_y[abs(p_Electron_x+p_Electron_dx)<100]\n",
    "p_Electron_dy = p_Electron_dy[abs(p_Electron_x+p_Electron_dx)<100]"
   ]
  },
  {
   "cell_type": "markdown",
   "metadata": {},
   "source": [
    "electron_dy #1"
   ]
  },
  {
   "cell_type": "code",
   "execution_count": null,
   "metadata": {},
   "outputs": [],
   "source": [
    "pad_Electron_E = pad_Electron_E[abs(p_Electron_y+p_Electron_dy)<120]\n",
    "pad_Electron_px = pad_Electron_px[abs(p_Electron_y+p_Electron_dy)<120]\n",
    "pad_Electron_py = pad_Electron_py[abs(p_Electron_y+p_Electron_dy)<120]\n",
    "pad_Electron_dx = pad_Electron_dx[abs(p_Electron_y+p_Electron_dy)<120]\n",
    "pad_Electron_dy = pad_Electron_dy[abs(p_Electron_y+p_Electron_dy)<120]\n",
    "pad_Electron_pT = pad_Electron_pT[abs(p_Electron_y+p_Electron_dy)<120]\n",
    "pad_Electron_x = pad_Electron_x[abs(p_Electron_y+p_Electron_dy)<120]\n",
    "pad_Electron_y = pad_Electron_y[abs(p_Electron_y+p_Electron_dy)<120]\n",
    "pad_Electron_depth = pad_Electron_depth[abs(p_Electron_y+p_Electron_dy)<120]\n",
    "pad_Electron_zClus = pad_Electron_zClus[abs(p_Electron_y+p_Electron_dy)<120]\n",
    "pad_Electron_tp = pad_Electron_tp[abs(p_Electron_y+p_Electron_dy)<120]\n",
    "pad_afterLayer = pad_afterLayer[abs(p_Electron_y+p_Electron_dy)<120]\n",
    "pad_TruthEcal_E = pad_TruthEcal_E[abs(p_Electron_y+p_Electron_dy)<120]\n",
    "pad_TruthEcal_px = pad_TruthEcal_px[abs(p_Electron_y+p_Electron_dy)<120]\n",
    "pad_TruthEcal_py = pad_TruthEcal_py[abs(p_Electron_y+p_Electron_dy)<120]\n",
    "pad_TruthEcal_dx = pad_TruthEcal_dx[abs(p_Electron_y+p_Electron_dy)<120]\n",
    "pad_TruthEcal_dy = pad_TruthEcal_dy[abs(p_Electron_y+p_Electron_dy)<120]\n",
    "pad_TruthEcal_pT = pad_TruthEcal_pT[abs(p_Electron_y+p_Electron_dy)<120]\n",
    "pad_TruthEcal_x = pad_TruthEcal_x[abs(p_Electron_y+p_Electron_dy)<120]\n",
    "pad_TruthEcal_y = pad_TruthEcal_y[abs(p_Electron_y+p_Electron_dy)<120]\n",
    "pad_Truth_x = pad_Truth_x[abs(p_Electron_y+p_Electron_dy)<120]\n",
    "pad_Truth_y = pad_Truth_y[abs(p_Electron_y+p_Electron_dy)<120]\n",
    "pad_nElectron = pad_nElectron[abs(p_Electron_y+p_Electron_dy)<120]\n",
    "p_Electron_zClus = p_Electron_zClus[abs(p_Electron_y+p_Electron_dy)<120]\n",
    "p_Truth_x = p_Truth_x[abs(p_Electron_y+p_Electron_dy)<120]\n",
    "p_Truth_y = p_Truth_y[abs(p_Electron_y+p_Electron_dy)<120]\n",
    "p_TruthEcal_x = p_TruthEcal_x[abs(p_Electron_y+p_Electron_dy)<120]\n",
    "p_TruthEcal_y = p_TruthEcal_y[abs(p_Electron_y+p_Electron_dy)<120]\n",
    "p_Electron_depth = p_Electron_depth[abs(p_Electron_y+p_Electron_dy)<120]\n",
    "p_Electron_py = p_Electron_py[abs(p_Electron_y+p_Electron_dy)<120]"
   ]
  },
  {
   "cell_type": "markdown",
   "metadata": {},
   "source": [
    "truth_x #1"
   ]
  },
  {
   "cell_type": "code",
   "execution_count": null,
   "metadata": {},
   "outputs": [],
   "source": [
    "pad_Electron_E = pad_Electron_E[abs(p_Truth_x)<10]\n",
    "pad_Electron_px = pad_Electron_px[abs(p_Truth_x)<10]\n",
    "pad_Electron_py = pad_Electron_py[abs(p_Truth_x)<10]\n",
    "pad_Electron_dx = pad_Electron_dx[abs(p_Truth_x)<10]\n",
    "pad_Electron_dy = pad_Electron_dy[abs(p_Truth_x)<10]\n",
    "pad_Electron_pT = pad_Electron_pT[abs(p_Truth_x)<10]\n",
    "pad_Electron_x = pad_Electron_x[abs(p_Truth_x)<10]\n",
    "pad_Electron_y = pad_Electron_y[abs(p_Truth_x)<10]\n",
    "pad_Electron_depth = pad_Electron_depth[abs(p_Truth_x)<10]\n",
    "pad_Electron_zClus = pad_Electron_zClus[abs(p_Truth_x)<10]\n",
    "pad_Electron_tp = pad_Electron_tp[abs(p_Truth_x)<10]\n",
    "pad_afterLayer = pad_afterLayer[abs(p_Truth_x)<10]\n",
    "pad_TruthEcal_E = pad_TruthEcal_E[abs(p_Truth_x)<10]\n",
    "pad_TruthEcal_px = pad_TruthEcal_px[abs(p_Truth_x)<10]\n",
    "pad_TruthEcal_py = pad_TruthEcal_py[abs(p_Truth_x)<10]\n",
    "pad_TruthEcal_dx = pad_TruthEcal_dx[abs(p_Truth_x)<10]\n",
    "pad_TruthEcal_dy = pad_TruthEcal_dy[abs(p_Truth_x)<10]\n",
    "pad_TruthEcal_pT = pad_TruthEcal_pT[abs(p_Truth_x)<10]\n",
    "pad_TruthEcal_x = pad_TruthEcal_x[abs(p_Truth_x)<10]\n",
    "pad_TruthEcal_y = pad_TruthEcal_y[abs(p_Truth_x)<10]\n",
    "pad_Truth_x = pad_Truth_x[abs(p_Truth_x)<10]\n",
    "pad_Truth_y = pad_Truth_y[abs(p_Truth_x)<10]\n",
    "pad_nElectron = pad_nElectron[abs(p_Truth_x)<10]\n",
    "p_Electron_zClus = p_Electron_zClus[abs(p_Truth_x)<10]\n",
    "p_Truth_y = p_Truth_y[abs(p_Truth_x)<10]\n",
    "p_TruthEcal_x = p_TruthEcal_x[abs(p_Truth_x)<10]\n",
    "p_TruthEcal_y = p_TruthEcal_y[abs(p_Truth_x)<10]\n",
    "p_Electron_depth = p_Electron_depth[abs(p_Truth_x)<10]\n",
    "p_Electron_py = p_Electron_py[abs(p_Truth_x)<10]\n",
    "p_Truth_x = p_Truth_x[abs(p_Truth_x)<10]"
   ]
  },
  {
   "cell_type": "markdown",
   "metadata": {},
   "source": [
    "truth_x #2"
   ]
  },
  {
   "cell_type": "code",
   "execution_count": null,
   "metadata": {},
   "outputs": [],
   "source": [
    "pad_Electron_E = pad_Electron_E[abs(p_Truth_x)>1e-6]\n",
    "pad_Electron_px = pad_Electron_px[abs(p_Truth_x)>1e-6]\n",
    "pad_Electron_py = pad_Electron_py[abs(p_Truth_x)>1e-6]\n",
    "pad_Electron_dx = pad_Electron_dx[abs(p_Truth_x)>1e-6]\n",
    "pad_Electron_dy = pad_Electron_dy[abs(p_Truth_x)>1e-6]\n",
    "pad_Electron_pT = pad_Electron_pT[abs(p_Truth_x)>1e-6]\n",
    "pad_Electron_x = pad_Electron_x[abs(p_Truth_x)>1e-6]\n",
    "pad_Electron_y = pad_Electron_y[abs(p_Truth_x)>1e-6]\n",
    "pad_Electron_depth = pad_Electron_depth[abs(p_Truth_x)>1e-6]\n",
    "pad_Electron_zClus = pad_Electron_zClus[abs(p_Truth_x)>1e-6]\n",
    "pad_Electron_tp = pad_Electron_tp[abs(p_Truth_x)>1e-6]\n",
    "pad_afterLayer = pad_afterLayer[abs(p_Truth_x)>1e-6]\n",
    "pad_TruthEcal_E = pad_TruthEcal_E[abs(p_Truth_x)>1e-6]\n",
    "pad_TruthEcal_px = pad_TruthEcal_px[abs(p_Truth_x)>1e-6]\n",
    "pad_TruthEcal_py = pad_TruthEcal_py[abs(p_Truth_x)>1e-6]\n",
    "pad_TruthEcal_dx = pad_TruthEcal_dx[abs(p_Truth_x)>1e-6]\n",
    "pad_TruthEcal_dy = pad_TruthEcal_dy[abs(p_Truth_x)>1e-6]\n",
    "pad_TruthEcal_pT = pad_TruthEcal_pT[abs(p_Truth_x)>1e-6]\n",
    "pad_TruthEcal_x = pad_TruthEcal_x[abs(p_Truth_x)>1e-6]\n",
    "pad_TruthEcal_y = pad_TruthEcal_y[abs(p_Truth_x)>1e-6]\n",
    "pad_Truth_x = pad_Truth_x[abs(p_Truth_x)>1e-6]\n",
    "pad_Truth_y = pad_Truth_y[abs(p_Truth_x)>1e-6]\n",
    "pad_nElectron = pad_nElectron[abs(p_Truth_x)>1e-6]\n",
    "p_Electron_zClus = p_Electron_zClus[abs(p_Truth_x)>1e-6]\n",
    "p_Truth_y = p_Truth_y[abs(p_Truth_x)>1e-6]\n",
    "p_TruthEcal_x = p_TruthEcal_x[abs(p_Truth_x)>1e-6]\n",
    "p_TruthEcal_y = p_TruthEcal_y[abs(p_Truth_x)>1e-6]\n",
    "p_Electron_depth = p_Electron_depth[abs(p_Truth_x)>1e-6]\n",
    "p_Electron_py = p_Electron_py[abs(p_Truth_x)>1e-6]"
   ]
  },
  {
   "cell_type": "markdown",
   "metadata": {},
   "source": [
    "truth_y #1"
   ]
  },
  {
   "cell_type": "code",
   "execution_count": null,
   "metadata": {},
   "outputs": [],
   "source": [
    "pad_Electron_E = pad_Electron_E[abs(p_Truth_y)<40]\n",
    "pad_Electron_px = pad_Electron_px[abs(p_Truth_y)<40]\n",
    "pad_Electron_py = pad_Electron_py[abs(p_Truth_y)<40]\n",
    "pad_Electron_dx = pad_Electron_dx[abs(p_Truth_y)<40]\n",
    "pad_Electron_dy = pad_Electron_dy[abs(p_Truth_y)<40]\n",
    "pad_Electron_pT = pad_Electron_pT[abs(p_Truth_y)<40]\n",
    "pad_Electron_x = pad_Electron_x[abs(p_Truth_y)<40]\n",
    "pad_Electron_y = pad_Electron_y[abs(p_Truth_y)<40]\n",
    "pad_Electron_depth = pad_Electron_depth[abs(p_Truth_y)<40]\n",
    "pad_Electron_zClus = pad_Electron_zClus[abs(p_Truth_y)<40]\n",
    "pad_Electron_tp = pad_Electron_tp[abs(p_Truth_y)<40]\n",
    "pad_afterLayer = pad_afterLayer[abs(p_Truth_y)<40]\n",
    "pad_TruthEcal_E = pad_TruthEcal_E[abs(p_Truth_y)<40]\n",
    "pad_TruthEcal_px = pad_TruthEcal_px[abs(p_Truth_y)<40]\n",
    "pad_TruthEcal_py = pad_TruthEcal_py[abs(p_Truth_y)<40]\n",
    "pad_TruthEcal_dx = pad_TruthEcal_dx[abs(p_Truth_y)<40]\n",
    "pad_TruthEcal_dy = pad_TruthEcal_dy[abs(p_Truth_y)<40]\n",
    "pad_TruthEcal_pT = pad_TruthEcal_pT[abs(p_Truth_y)<40]\n",
    "pad_TruthEcal_x = pad_TruthEcal_x[abs(p_Truth_y)<40]\n",
    "pad_TruthEcal_y = pad_TruthEcal_y[abs(p_Truth_y)<40]\n",
    "pad_Truth_x = pad_Truth_x[abs(p_Truth_y)<40]\n",
    "pad_Truth_y = pad_Truth_y[abs(p_Truth_y)<40]\n",
    "pad_nElectron = pad_nElectron[abs(p_Truth_y)<40]\n",
    "p_Electron_zClus = p_Electron_zClus[abs(p_Truth_y)<40]\n",
    "p_TruthEcal_x = p_TruthEcal_x[abs(p_Truth_y)<40]\n",
    "p_TruthEcal_y = p_TruthEcal_y[abs(p_Truth_y)<40]\n",
    "p_Electron_depth = p_Electron_depth[abs(p_Truth_y)<40]\n",
    "p_Electron_py = p_Electron_py[abs(p_Truth_y)<40]"
   ]
  },
  {
   "cell_type": "markdown",
   "metadata": {},
   "source": [
    "truthEcal_x #1"
   ]
  },
  {
   "cell_type": "code",
   "execution_count": null,
   "metadata": {},
   "outputs": [],
   "source": [
    "pad_Electron_E = pad_Electron_E[abs(p_TruthEcal_x)<40]\n",
    "pad_Electron_px = pad_Electron_px[abs(p_TruthEcal_x)<40]\n",
    "pad_Electron_py = pad_Electron_py[abs(p_TruthEcal_x)<40]\n",
    "pad_Electron_dx = pad_Electron_dx[abs(p_TruthEcal_x)<40]\n",
    "pad_Electron_dy = pad_Electron_dy[abs(p_TruthEcal_x)<40]\n",
    "pad_Electron_pT = pad_Electron_pT[abs(p_TruthEcal_x)<40]\n",
    "pad_Electron_x = pad_Electron_x[abs(p_TruthEcal_x)<40]\n",
    "pad_Electron_y = pad_Electron_y[abs(p_TruthEcal_x)<40]\n",
    "pad_Electron_depth = pad_Electron_depth[abs(p_TruthEcal_x)<40]\n",
    "pad_Electron_zClus = pad_Electron_zClus[abs(p_TruthEcal_x)<40]\n",
    "pad_Electron_tp = pad_Electron_tp[abs(p_TruthEcal_x)<40]\n",
    "pad_afterLayer = pad_afterLayer[abs(p_TruthEcal_x)<40]\n",
    "pad_TruthEcal_E = pad_TruthEcal_E[abs(p_TruthEcal_x)<40]\n",
    "pad_TruthEcal_px = pad_TruthEcal_px[abs(p_TruthEcal_x)<40]\n",
    "pad_TruthEcal_py = pad_TruthEcal_py[abs(p_TruthEcal_x)<40]\n",
    "pad_TruthEcal_dx = pad_TruthEcal_dx[abs(p_TruthEcal_x)<40]\n",
    "pad_TruthEcal_dy = pad_TruthEcal_dy[abs(p_TruthEcal_x)<40]\n",
    "pad_TruthEcal_pT = pad_TruthEcal_pT[abs(p_TruthEcal_x)<40]\n",
    "pad_TruthEcal_x = pad_TruthEcal_x[abs(p_TruthEcal_x)<40]\n",
    "pad_TruthEcal_y = pad_TruthEcal_y[abs(p_TruthEcal_x)<40]\n",
    "pad_Truth_x = pad_Truth_x[abs(p_TruthEcal_x)<40]\n",
    "pad_Truth_y = pad_Truth_y[abs(p_TruthEcal_x)<40]\n",
    "pad_nElectron = pad_nElectron[abs(p_TruthEcal_x)<40]\n",
    "p_Electron_zClus = p_Electron_zClus[abs(p_TruthEcal_x)<40]\n",
    "p_TruthEcal_y = p_TruthEcal_y[abs(p_TruthEcal_x)<40]\n",
    "p_Electron_depth = p_Electron_depth[abs(p_TruthEcal_x)<40]\n",
    "p_Electron_py = p_Electron_py[abs(p_TruthEcal_x)<40]"
   ]
  },
  {
   "cell_type": "markdown",
   "metadata": {},
   "source": [
    "truthEcal_y #1"
   ]
  },
  {
   "cell_type": "code",
   "execution_count": null,
   "metadata": {},
   "outputs": [],
   "source": [
    "pad_Electron_E = pad_Electron_E[abs(p_TruthEcal_y)<40]\n",
    "pad_Electron_px = pad_Electron_px[abs(p_TruthEcal_y)<40]\n",
    "pad_Electron_py = pad_Electron_py[abs(p_TruthEcal_y)<40]\n",
    "pad_Electron_dx = pad_Electron_dx[abs(p_TruthEcal_y)<40]\n",
    "pad_Electron_dy = pad_Electron_dy[abs(p_TruthEcal_y)<40]\n",
    "pad_Electron_pT = pad_Electron_pT[abs(p_TruthEcal_y)<40]\n",
    "pad_Electron_x = pad_Electron_x[abs(p_TruthEcal_y)<40]\n",
    "pad_Electron_y = pad_Electron_y[abs(p_TruthEcal_y)<40]\n",
    "pad_Electron_depth = pad_Electron_depth[abs(p_TruthEcal_y)<40]\n",
    "pad_Electron_zClus = pad_Electron_zClus[abs(p_TruthEcal_y)<40]\n",
    "pad_Electron_tp = pad_Electron_tp[abs(p_TruthEcal_y)<40]\n",
    "pad_afterLayer = pad_afterLayer[abs(p_TruthEcal_y)<40]\n",
    "pad_TruthEcal_E = pad_TruthEcal_E[abs(p_TruthEcal_y)<40]\n",
    "pad_TruthEcal_px = pad_TruthEcal_px[abs(p_TruthEcal_y)<40]\n",
    "pad_TruthEcal_py = pad_TruthEcal_py[abs(p_TruthEcal_y)<40]\n",
    "pad_TruthEcal_dx = pad_TruthEcal_dx[abs(p_TruthEcal_y)<40]\n",
    "pad_TruthEcal_dy = pad_TruthEcal_dy[abs(p_TruthEcal_y)<40]\n",
    "pad_TruthEcal_pT = pad_TruthEcal_pT[abs(p_TruthEcal_y)<40]\n",
    "pad_TruthEcal_x = pad_TruthEcal_x[abs(p_TruthEcal_y)<40]\n",
    "pad_TruthEcal_y = pad_TruthEcal_y[abs(p_TruthEcal_y)<40]\n",
    "pad_Truth_x = pad_Truth_x[abs(p_TruthEcal_y)<40]\n",
    "pad_Truth_y = pad_Truth_y[abs(p_TruthEcal_y)<40]\n",
    "pad_nElectron = pad_nElectron[abs(p_TruthEcal_y)<40]\n",
    "p_Electron_zClus = p_Electron_zClus[abs(p_TruthEcal_y)<40]\n",
    "p_Electron_depth = p_Electron_depth[abs(p_TruthEcal_y)<40]\n",
    "p_Electron_py = p_Electron_py[abs(p_TruthEcal_y)<40]"
   ]
  },
  {
   "cell_type": "markdown",
   "metadata": {},
   "source": [
    "depth"
   ]
  },
  {
   "cell_type": "code",
   "execution_count": null,
   "metadata": {},
   "outputs": [],
   "source": [
    "pad_Electron_E = pad_Electron_E[abs(p_Electron_depth)>8]\n",
    "pad_Electron_px = pad_Electron_px[abs(p_Electron_depth)>8]\n",
    "pad_Electron_py = pad_Electron_py[abs(p_Electron_depth)>8]\n",
    "pad_Electron_dx = pad_Electron_dx[abs(p_Electron_depth)>8]\n",
    "pad_Electron_dy = pad_Electron_dy[abs(p_Electron_depth)>8]\n",
    "pad_Electron_pT = pad_Electron_pT[abs(p_Electron_depth)>8]\n",
    "pad_Electron_x = pad_Electron_x[abs(p_Electron_depth)>8]\n",
    "pad_Electron_y = pad_Electron_y[abs(p_Electron_depth)>8]\n",
    "pad_Electron_depth = pad_Electron_depth[abs(p_Electron_depth)>8]\n",
    "pad_Electron_zClus = pad_Electron_zClus[abs(p_Electron_depth)>8]\n",
    "pad_Electron_tp = pad_Electron_tp[abs(p_Electron_depth)>8]\n",
    "pad_afterLayer = pad_afterLayer[abs(p_Electron_depth)>8]\n",
    "pad_TruthEcal_E = pad_TruthEcal_E[abs(p_Electron_depth)>8]\n",
    "pad_TruthEcal_px = pad_TruthEcal_px[abs(p_Electron_depth)>8]\n",
    "pad_TruthEcal_py = pad_TruthEcal_py[abs(p_Electron_depth)>8]\n",
    "pad_TruthEcal_dx = pad_TruthEcal_dx[abs(p_Electron_depth)>8]\n",
    "pad_TruthEcal_dy = pad_TruthEcal_dy[abs(p_Electron_depth)>8]\n",
    "pad_TruthEcal_pT = pad_TruthEcal_pT[abs(p_Electron_depth)>8]\n",
    "pad_TruthEcal_x = pad_TruthEcal_x[abs(p_Electron_depth)>8]\n",
    "pad_TruthEcal_y = pad_TruthEcal_y[abs(p_Electron_depth)>8]\n",
    "pad_Truth_x = pad_Truth_x[abs(p_Electron_depth)>8]\n",
    "pad_Truth_y = pad_Truth_y[abs(p_Electron_depth)>8]\n",
    "pad_nElectron = pad_nElectron[abs(p_Electron_depth)>8]\n",
    "p_Electron_zClus = p_Electron_zClus[abs(p_Electron_depth)>8]\n",
    "p_Electron_py = p_Electron_py[abs(p_Electron_depth)>8]"
   ]
  },
  {
   "cell_type": "markdown",
   "metadata": {},
   "source": [
    "all events should have all cuts up to this point"
   ]
  },
  {
   "cell_type": "markdown",
   "metadata": {},
   "source": [
    "py"
   ]
  },
  {
   "cell_type": "code",
   "execution_count": null,
   "metadata": {},
   "outputs": [],
   "source": [
    "pad_Electron_E_py = pad_Electron_E[abs(p_Electron_py)>300]\n",
    "pad_Electron_px_py = pad_Electron_px[abs(p_Electron_py)>300]\n",
    "pad_Electron_py_py = pad_Electron_py[abs(p_Electron_py)>300]\n",
    "pad_Electron_dx_py = pad_Electron_dx[abs(p_Electron_py)>300]\n",
    "pad_Electron_dy_py = pad_Electron_dy[abs(p_Electron_py)>300]\n",
    "pad_Electron_pT_py = pad_Electron_pT[abs(p_Electron_py)>300]\n",
    "pad_Electron_x_py = pad_Electron_x[abs(p_Electron_py)>300]\n",
    "pad_Electron_y_py = pad_Electron_y[abs(p_Electron_py)>300]\n",
    "pad_Electron_depth_py = pad_Electron_depth[abs(p_Electron_py)>300]\n",
    "pad_Electron_zClus_py = pad_Electron_zClus[abs(p_Electron_py)>300]\n",
    "pad_Electron_tp_py = pad_Electron_tp[abs(p_Electron_py)>300]\n",
    "pad_afterLayer_py = pad_afterLayer[abs(p_Electron_py)>300]\n",
    "pad_TruthEcal_E_py = pad_TruthEcal_E[abs(p_Electron_py)>300]\n",
    "pad_TruthEcal_px_py = pad_TruthEcal_px[abs(p_Electron_py)>300]\n",
    "pad_TruthEcal_py_py = pad_TruthEcal_py[abs(p_Electron_py)>300]\n",
    "pad_TruthEcal_dx_py = pad_TruthEcal_dx[abs(p_Electron_py)>300]\n",
    "pad_TruthEcal_dy_py = pad_TruthEcal_dy[abs(p_Electron_py)>300]\n",
    "pad_TruthEcal_pT_py = pad_TruthEcal_pT[abs(p_Electron_py)>300]\n",
    "pad_TruthEcal_x_py = pad_TruthEcal_x[abs(p_Electron_py)>300]\n",
    "pad_TruthEcal_y_py = pad_TruthEcal_y[abs(p_Electron_py)>300]\n",
    "pad_nElectron_py = pad_nElectron[abs(p_Electron_py)>300]\n",
    "pad_Truth_x_py = pad_Truth_x[abs(p_Electron_py)>300]\n",
    "pad_Truth_y_py = pad_Truth_y[abs(p_Electron_py)>300]\n",
    "p_Electron_zClus_py = p_Electron_zClus[abs(p_Electron_py)>300]"
   ]
  },
  {
   "cell_type": "markdown",
   "metadata": {},
   "source": [
    "zClus"
   ]
  },
  {
   "cell_type": "code",
   "execution_count": null,
   "metadata": {},
   "outputs": [],
   "source": [
    "pad_Electron_E_z = pad_Electron_E[abs(p_Electron_zClus)<400]\n",
    "pad_Electron_px_z = pad_Electron_px[abs(p_Electron_zClus)<400]\n",
    "pad_Electron_py_z = pad_Electron_py[abs(p_Electron_zClus)<400]\n",
    "pad_Electron_dx_z = pad_Electron_dx[abs(p_Electron_zClus)<400]\n",
    "pad_Electron_dy_z = pad_Electron_dy[abs(p_Electron_zClus)<400]\n",
    "pad_Electron_pT_z = pad_Electron_pT[abs(p_Electron_zClus)<400]\n",
    "pad_Electron_x_z = pad_Electron_x[abs(p_Electron_zClus)<400]\n",
    "pad_Electron_y_z = pad_Electron_y[abs(p_Electron_zClus)<400]\n",
    "pad_Electron_depth_z = pad_Electron_depth[abs(p_Electron_zClus)<400]\n",
    "pad_Electron_zClus_z = pad_Electron_zClus[abs(p_Electron_zClus)<400]\n",
    "pad_Electron_tp_z = pad_Electron_tp[abs(p_Electron_zClus)<400]\n",
    "pad_afterLayer_z = pad_afterLayer[abs(p_Electron_zClus)<400]\n",
    "pad_TruthEcal_E_z = pad_TruthEcal_E[abs(p_Electron_zClus)<400]\n",
    "pad_TruthEcal_px_z = pad_TruthEcal_px[abs(p_Electron_zClus)<400]\n",
    "pad_TruthEcal_py_z = pad_TruthEcal_py[abs(p_Electron_zClus)<400]\n",
    "pad_TruthEcal_dx_z = pad_TruthEcal_dx[abs(p_Electron_zClus)<400]\n",
    "pad_TruthEcal_dy_z = pad_TruthEcal_dy[abs(p_Electron_zClus)<400]\n",
    "pad_TruthEcal_pT_z = pad_TruthEcal_pT[abs(p_Electron_zClus)<400]\n",
    "pad_TruthEcal_x_z = pad_TruthEcal_x[abs(p_Electron_zClus)<400]\n",
    "pad_TruthEcal_y_z = pad_TruthEcal_y[abs(p_Electron_zClus)<400]\n",
    "pad_nElectron_z = pad_nElectron[abs(p_Electron_zClus)<400]\n",
    "pad_Truth_x_z = pad_Truth_x[abs(p_Electron_zClus)<400]\n",
    "pad_Truth_y_z = pad_Truth_y[abs(p_Electron_zClus)<400]"
   ]
  },
  {
   "cell_type": "markdown",
   "metadata": {},
   "source": [
    "zclus and py\n",
    "- large py data with x pos cut"
   ]
  },
  {
   "cell_type": "code",
   "execution_count": null,
   "metadata": {},
   "outputs": [],
   "source": [
    "pad_Electron_E_zp = pad_Electron_E_py[abs(p_Electron_zClus_py)<400]\n",
    "pad_Electron_px_zp = pad_Electron_px_py[abs(p_Electron_zClus_py)<400]\n",
    "pad_Electron_py_zp = pad_Electron_py_py[abs(p_Electron_zClus_py)<400]\n",
    "pad_Electron_dx_zp = pad_Electron_dx_py[abs(p_Electron_zClus_py)<400]\n",
    "pad_Electron_dy_zp = pad_Electron_dy_py[abs(p_Electron_zClus_py)<400]\n",
    "pad_Electron_pT_zp = pad_Electron_pT_py[abs(p_Electron_zClus_py)<400]\n",
    "pad_Electron_x_zp = pad_Electron_x_py[abs(p_Electron_zClus_py)<400]\n",
    "pad_Electron_y_zp = pad_Electron_y_py[abs(p_Electron_zClus_py)<400]\n",
    "pad_Electron_depth_zp = pad_Electron_depth_py[abs(p_Electron_zClus_py)<400]\n",
    "pad_Electron_zClus_zp = pad_Electron_zClus_py[abs(p_Electron_zClus_py)<400]\n",
    "pad_Electron_tp_zp = pad_Electron_tp_py[abs(p_Electron_zClus_py)<400]\n",
    "pad_afterLayer_zp = pad_afterLayer_py[abs(p_Electron_zClus_py)<400]\n",
    "pad_TruthEcal_E_zp = pad_TruthEcal_E_py[abs(p_Electron_zClus_py)<400]\n",
    "pad_TruthEcal_px_zp = pad_TruthEcal_px_py[abs(p_Electron_zClus_py)<400]\n",
    "pad_TruthEcal_py_zp = pad_TruthEcal_py_py[abs(p_Electron_zClus_py)<400]\n",
    "pad_TruthEcal_dx_zp = pad_TruthEcal_dx_py[abs(p_Electron_zClus_py)<400]\n",
    "pad_TruthEcal_dy_zp = pad_TruthEcal_dy_py[abs(p_Electron_zClus_py)<400]\n",
    "pad_TruthEcal_pT_zp = pad_TruthEcal_pT_py[abs(p_Electron_zClus_py)<400]\n",
    "pad_TruthEcal_x_zp = pad_TruthEcal_x_py[abs(p_Electron_zClus_py)<400]\n",
    "pad_TruthEcal_y_zp = pad_TruthEcal_y_py[abs(p_Electron_zClus_py)<400]\n",
    "pad_nElectron_zp = pad_nElectron_py[abs(p_Electron_zClus_py)<400]\n",
    "pad_Truth_x_zp = pad_Truth_x_py[abs(p_Electron_zClus_py)<400]\n",
    "pad_Truth_y_zp = pad_Truth_y_py[abs(p_Electron_zClus_py)<400]"
   ]
  },
  {
   "cell_type": "code",
   "execution_count": null,
   "metadata": {},
   "outputs": [],
   "source": [
    "# calculations for position at ecal\n",
    "pad_Electron_ecal_x = pad_Electron_dx+pad_Electron_x\n",
    "pad_Electron_ecal_y = pad_Electron_dy+pad_Electron_y\n",
    "\n",
    "pad_Electron_ecal_x_py = pad_Electron_dx_py+pad_Electron_x_py\n",
    "pad_Electron_ecal_y_py = pad_Electron_dy_py+pad_Electron_y_py\n",
    "\n",
    "pad_Electron_ecal_x_z = pad_Electron_dx_z+pad_Electron_x_z\n",
    "pad_Electron_ecal_y_z = pad_Electron_dy_z+pad_Electron_y_z\n",
    "\n",
    "pad_Electron_ecal_x_zp = pad_Electron_dx_zp+pad_Electron_x_zp\n",
    "pad_Electron_ecal_y_zp = pad_Electron_dy_zp+pad_Electron_y_zp"
   ]
  },
  {
   "cell_type": "markdown",
   "metadata": {},
   "source": [
    "1D Histograms"
   ]
  },
  {
   "cell_type": "code",
   "execution_count": null,
   "metadata": {},
   "outputs": [
    {
     "data": {
      "image/png": "[encoded data removed]",
      "text/plain": [
       "<Figure size 800x800 with 1 Axes>"
      ]
     },
     "metadata": {},
     "output_type": "display_data"
    }
   ],
   "source": [
    "plt.style.use(hep.style.ROOT)\n",
    "plt.rcParams.update({'font.size': 32})\n",
    "\n",
    "#create axis\n",
    "gen_axis = hist.axis.Regular(7, 0, 7, name='residuals', label=r'index with largest py')\n",
    "h1 = hist.Hist(gen_axis)\n",
    "h2 = hist.Hist(gen_axis)\n",
    "h3 = hist.Hist(gen_axis)\n",
    "h4 = hist.Hist(gen_axis)\n",
    "\n",
    "#fill histogram\n",
    "h1.fill(py_index[:, 0])\n",
    "# h2.fill(pad_TruthEcal_y_z[:, 0])\n",
    "# h3.fill(Electron_E_py_3[Electron_E_py_3!=0])\n",
    "# h4.fill(truth_E_py)\n",
    "\n",
    "# #calculate means\n",
    "# m_e = np.mean(mean_x[mean_x>-15])\n",
    "# m_pos = np.mean(mean_x_pos[mean_x_pos>-15])\n",
    "# m_pT = np.mean(mean_x_pT[mean_x_pT>-15])\n",
    "\n",
    "#print out histogram\n",
    "h1\n",
    "h2\n",
    "h3\n",
    "h4\n",
    "\n",
    "\n",
    "#make real histogram\n",
    "fig, axs = plt.subplots(1, 1, figsize=(8, 8))\n",
    "\n",
    "# use mplhep to directly plot the histogram\n",
    "hep.histplot(\n",
    "    h1, # histogram\n",
    "    ax=axs,  # axis\n",
    "    density=False, # whether to normalize the histogram to 1 or not\n",
    "    label=\"full data set\", # label of histogram\n",
    "    flow=\"none\"\n",
    ")\n",
    "# hep.histplot(\n",
    "#     h2, # histogram\n",
    "#     ax=axs,  # axis\n",
    "#     density=False, # whether to normalize the histogram to 1 or not\n",
    "#     label=\"truth at ecal\", # label of histogram\n",
    "#     flow=\"none\"\n",
    "# )\n",
    "# hep.histplot(\n",
    "#     h3, # histogram\n",
    "#     ax=axs,  # axis\n",
    "#     density=True, # whether to normalize the histogram to 1 or not\n",
    "#     label=\"particle 3\", # label of histogram\n",
    "#     flow=\"none\"\n",
    "# )\n",
    "# hep.histplot(\n",
    "#     h4, # histogram\n",
    "#     ax=axs,  # axis\n",
    "#     density=True, # whether to normalize the histogram to 1 or not\n",
    "#     label=\"truth\", # label of histogram\n",
    "#     flow=\"none\"\n",
    "# )\n",
    "\n",
    "\n",
    "axs.set_ylabel(\"Electrons\")\n",
    "axs.legend(fontsize=12,bbox_to_anchor=(0.5, 0.5))\n",
    "#plt.title(r\"Layer 34\")\n",
    "fig.tight_layout()\n",
    "fig.savefig(\"y_ecal_comp.png\")"
   ]
  },
  {
   "cell_type": "markdown",
   "metadata": {},
   "source": [
    "for rate plot"
   ]
  },
  {
   "cell_type": "code",
   "execution_count": null,
   "metadata": {},
   "outputs": [],
   "source": [
    "pad_Electron_px_z_1 = pad_Electron_px_z[:, 1]\n",
    "pad_Electron_px_z_1 = pad_Electron_px_z_1[pad_Electron_px_z_1!=0]\n",
    "\n",
    "pad_Electron_px_z_2 = pad_Electron_px_z[:, 2]\n",
    "pad_Electron_px_z_2 = pad_Electron_px_z_2[pad_Electron_px_z_2!=0]\n",
    "\n",
    "pad_Electron_py_z_1 = pad_Electron_py_z[:, 1]\n",
    "pad_Electron_py_z_1 = pad_Electron_py_z_1[pad_Electron_py_z_1!=0]\n",
    "\n",
    "pad_Electron_py_z_2 = pad_Electron_py_z[:, 2]\n",
    "pad_Electron_py_z_2 = pad_Electron_py_z_2[pad_Electron_py_z_2!=0]"
   ]
  },
  {
   "cell_type": "markdown",
   "metadata": {},
   "source": [
    "multi-particle rate plot data"
   ]
  },
  {
   "cell_type": "code",
   "execution_count": null,
   "metadata": {},
   "outputs": [],
   "source": [
    "py_2 = pad_Electron_py_z[:, 1]\n",
    "py_1 = pad_Electron_py_z[:, 0]\n",
    "py_0 = py_1[py_2 != 0]\n",
    "py_100 = py_1[abs(py_2) > 100]\n",
    "py_325 = py_1[abs(py_2) > 325]"
   ]
  },
  {
   "cell_type": "markdown",
   "metadata": {},
   "source": [
    "remove 0s without z cut"
   ]
  },
  {
   "cell_type": "code",
   "execution_count": null,
   "metadata": {},
   "outputs": [],
   "source": [
    "part2 = pad_Electron_py[:, 1]\n",
    "part2 = part2[part2 != 0]\n",
    "\n",
    "part3 = pad_Electron_py[:, 2]\n",
    "part3 = part3[part3 != 0]"
   ]
  },
  {
   "cell_type": "markdown",
   "metadata": {},
   "source": [
    "remove 0s with z cut"
   ]
  },
  {
   "cell_type": "code",
   "execution_count": null,
   "metadata": {},
   "outputs": [],
   "source": [
    "part2_z = pad_Electron_py_z[:, 1]\n",
    "part2_z = part2_z[part2_z != 0]\n",
    "\n",
    "part3_z = pad_Electron_py_z[:, 2]\n",
    "part3_z = part3_z[part3_z != 0]"
   ]
  },
  {
   "cell_type": "markdown",
   "metadata": {},
   "source": [
    "filling histograms for rate plots"
   ]
  },
  {
   "cell_type": "code",
   "execution_count": null,
   "metadata": {},
   "outputs": [
    {
     "data": {
      "text/html": [
       "<html>\n",
       "<div style=\"display:flex; align-items:center;\">\n",
       "<div style=\"width:290px;\">\n",
       "<svg xmlns=\"http://www.w3.org/2000/svg\" viewBox=\"-10 -105 270 120\">\n",
       "<line x1=\"-5\" y1=\"0\" x2=\"255\" y2=\"0\" style=\"fill:none;stroke-width:2;stroke:currentColor\"/>\n",
       "<text text-anchor=\"middle\" x=\"0\" y=\"15\" style=\"fill:currentColor;\">\n",
       "0\n",
       "</text>\n",
       "<text text-anchor=\"middle\" x=\"250\" y=\"15\" style=\"fill:currentColor;\">\n",
       "1e+03\n",
       "</text>\n",
       "<text text-anchor=\"middle\" x=\"125.0\" y=\"15\" style=\"fill:currentColor;\">\n",
       "Reco py / TruthEcal py\n",
       "</text>\n",
       "<polyline points=\"  0,0   0,-100 0.25,-100 0.25,-96 0.5,-96 0.5,-92.1 0.75,-92.1 0.75,-92   1,-92   1,-85.1 1.25,-85.1 1.25,-82.6 1.5,-82.6 1.5,-78.9 1.75,-78.9 1.75,-78.7   2,-78.7   2,-75.1 2.25,-75.1 2.25,-69.5 2.5,-69.5 2.5,-68.6 2.75,-68.6 2.75,-67.1   3,-67.1   3,-65 3.25,-65 3.25,-60.4 3.5,-60.4 3.5,-58 3.75,-58 3.75,-56   4,-56   4,-54.4 4.25,-54.4 4.25,-50.7 4.5,-50.7 4.5,-48.7 4.75,-48.7 4.75,-45.9   5,-45.9   5,-44.7 5.25,-44.7 5.25,-40.2 5.5,-40.2 5.5,-40.7 5.75,-40.7 5.75,-38   6,-38   6,-36.9 6.25,-36.9 6.25,-34.3 6.5,-34.3 6.5,-33.7 6.75,-33.7 6.75,-32.2   7,-32.2   7,-29.6 7.25,-29.6 7.25,-29.5 7.5,-29.5 7.5,-27.6 7.75,-27.6 7.75,-26.7   8,-26.7   8,-25.4 8.25,-25.4 8.25,-25.5 8.5,-25.5 8.5,-22.7 8.75,-22.7 8.75,-22.1   9,-22.1   9,-21.7 9.25,-21.7 9.25,-20.6 9.5,-20.6 9.5,-19.5 9.75,-19.5 9.75,-18.3  10,-18.3  10,-18.8 10.25,-18.8 10.25,-16.9 10.5,-16.9 10.5,-15.9 10.75,-15.9 10.75,-15.6  11,-15.6  11,-15 11.25,-15 11.25,-14.2 11.5,-14.2 11.5,-13.2 11.75,-13.2 11.75,-13.1  12,-13.1  12,-12.3 12.25,-12.3 12.25,-12.4 12.5,-12.4 12.5,-10.7 12.75,-10.7 12.75,-10.7  13,-10.7  13,-9.78 13.25,-9.78 13.25,-9.02 13.5,-9.02 13.5,-9.16 13.75,-9.16 13.75,-8.86  14,-8.86  14,-8.84 14.25,-8.84 14.25,-8.32 14.5,-8.32 14.5,-7.31 14.75,-7.31 14.75,-7  15,-7  15,-6.82 15.25,-6.82 15.25,-7.21 15.5,-7.21 15.5,-6.7 15.75,-6.7 15.75,-6.41  16,-6.41  16,-5.74 16.25,-5.74 16.25,-5.33 16.5,-5.33 16.5,-5.4 16.75,-5.4 16.75,-5.15  17,-5.15  17,-5.25 17.25,-5.25 17.25,-4.24 17.5,-4.24 17.5,-4.38 17.75,-4.38 17.75,-4.3  18,-4.3  18,-3.92 18.25,-3.92 18.25,-4.28 18.5,-4.28 18.5,-3.28 18.75,-3.28 18.75,-3.52  19,-3.52  19,-3.55 19.25,-3.55 19.25,-3.26 19.5,-3.26 19.5,-3.05 19.75,-3.05 19.75,-3.26  20,-3.26  20,-2.46 20.25,-2.46 20.25,-2.71 20.5,-2.71 20.5,-2.46 20.75,-2.46 20.75,-2.25  21,-2.25  21,-2.22 21.25,-2.22 21.25,-2.15 21.5,-2.15 21.5,-1.99 21.75,-1.99 21.75,-2.1  22,-2.1  22,-1.86 22.25,-1.86 22.25,-1.58 22.5,-1.58 22.5,-1.8 22.75,-1.8 22.75,-1.54  23,-1.54  23,-1.63 23.25,-1.63 23.25,-1.34 23.5,-1.34 23.5,-1.37 23.75,-1.37 23.75,-1.53  24,-1.53  24,-1.29 24.25,-1.29 24.25,-1.37 24.5,-1.37 24.5,-1.32 24.75,-1.32 24.75,-1.34  25,-1.34  25,-1.04 25.25,-1.04 25.25,-1.04 25.5,-1.04 25.5,-1.16 25.75,-1.16 25.75,-1.09  26,-1.09  26,-1 26.25,-1 26.25,-0.952 26.5,-0.952 26.5,-0.86 26.75,-0.86 26.75,-0.704  27,-0.704  27,-0.86 27.25,-0.86 27.25,-0.704 27.5,-0.704 27.5,-0.665 27.75,-0.665 27.75,-0.73  28,-0.73  28,-0.847 28.25,-0.847 28.25,-0.717 28.5,-0.717 28.5,-0.613 28.75,-0.613 28.75,-0.743  29,-0.743  29,-0.521 29.25,-0.521 29.25,-0.508 29.5,-0.508 29.5,-0.508 29.75,-0.508 29.75,-0.495  30,-0.495  30,-0.6 30.25,-0.6 30.25,-0.574 30.5,-0.574 30.5,-0.417 30.75,-0.417 30.75,-0.456  31,-0.456  31,-0.482 31.25,-0.482 31.25,-0.534 31.5,-0.534 31.5,-0.43 31.75,-0.43 31.75,-0.326  32,-0.326  32,-0.313 32.25,-0.313 32.25,-0.261 32.5,-0.261 32.5,-0.313 32.75,-0.313 32.75,-0.3  33,-0.3  33,-0.326 33.25,-0.326 33.25,-0.352 33.5,-0.352 33.5,-0.222 33.75,-0.222 33.75,-0.261  34,-0.261  34,-0.326 34.25,-0.326 34.25,-0.248 34.5,-0.248 34.5,-0.209 34.75,-0.209 34.75,-0.248  35,-0.248  35,-0.209 35.25,-0.209 35.25,-0.182 35.5,-0.182 35.5,-0.222 35.75,-0.222 35.75,-0.196  36,-0.196  36,-0.222 36.25,-0.222 36.25,-0.209 36.5,-0.209 36.5,-0.222 36.75,-0.222 36.75,-0.169  37,-0.169  37,-0.156 37.25,-0.156 37.25,-0.209 37.5,-0.209 37.5,-0.196 37.75,-0.196 37.75,-0.182  38,-0.182  38,-0.104 38.25,-0.104 38.25,-0.117 38.5,-0.117 38.5,-0.13 38.75,-0.13 38.75,-0.156  39,-0.156  39,-0.117 39.25,-0.117 39.25,-0.156 39.5,-0.156 39.5,-0.0652 39.75,-0.0652 39.75,-0.0912  40,-0.0912  40,-0.169 40.25,-0.169 40.25,-0.156 40.5,-0.156 40.5,-0.0912 40.75,-0.0912 40.75,-0.117  41,-0.117  41,-0.0782 41.25,-0.0782 41.25,-0.117 41.5,-0.117 41.5,-0.13 41.75,-0.13 41.75,-0.0782  42,-0.0782  42,-0.117 42.25,-0.117 42.25,-0.0261 42.5,-0.0261 42.5,-0.0521 42.75,-0.0521 42.75,-0.013  43,-0.013  43,-0.0391 43.25,-0.0391 43.25,-0.0782 43.5,-0.0782 43.5,-0.104 43.75,-0.104 43.75,-0.0652  44,-0.0652  44,-0.0261 44.25,-0.0261 44.25,-0.0391 44.5,-0.0391 44.5,-0.0391 44.75,-0.0391 44.75,-0.0782  45,-0.0782  45,-0.0782 45.25,-0.0782 45.25,-0.0521 45.5,-0.0521 45.5,-0.0782 45.75,-0.0782 45.75,-0.0652  46,-0.0652  46,-0.0652 46.25,-0.0652 46.25,-0.0391 46.5,-0.0391 46.5,-0.0261 46.75,-0.0261 46.75,-0  47,-0  47,-0.0521 47.25,-0.0521 47.25,-0.013 47.5,-0.013 47.5,-0.0261 47.75,-0.0261 47.75,-0.0521  48,-0.0521  48,-0.013 48.25,-0.013 48.25,-0.0391 48.5,-0.0391 48.5,-0.0391 48.75,-0.0391 48.75,-0.0652  49,-0.0652  49,-0.0261 49.25,-0.0261 49.25,-0.0652 49.5,-0.0652 49.5,-0.0652 49.75,-0.0652 49.75,-0.0391  50,-0.0391  50,-0.013 50.25,-0.013 50.25,-0.0521 50.5,-0.0521 50.5,-0.0261 50.75,-0.0261 50.75,-0.0391  51,-0.0391  51,-0 51.25,-0 51.25,-0.0261 51.5,-0.0261 51.5,-0.0391 51.75,-0.0391 51.75,-0.013  52,-0.013  52,-0.013 52.25,-0.013 52.25,-0.013 52.5,-0.013 52.5,-0.0261 52.75,-0.0261 52.75,-0  53,-0  53,-0.013 53.25,-0.013 53.25,-0.013 53.5,-0.013 53.5,-0.013 53.75,-0.013 53.75,-0.0391  54,-0.0391  54,-0.013 54.25,-0.013 54.25,-0.013 54.5,-0.013 54.5,-0 54.75,-0 54.75,-0  55,-0  55,-0.0521 55.25,-0.0521 55.25,-0.0261 55.5,-0.0261 55.5,-0.0261 55.75,-0.0261 55.75,-0.0261  56,-0.0261  56,-0.013 56.25,-0.013 56.25,-0.0521 56.5,-0.0521 56.5,-0.0261 56.75,-0.0261 56.75,-0.013  57,-0.013  57,-0 57.25,-0 57.25,-0 57.5,-0 57.5,-0.0261 57.75,-0.0261 57.75,-0.0391  58,-0.0391  58,-0.0391 58.25,-0.0391 58.25,-0.013 58.5,-0.013 58.5,-0.013 58.75,-0.013 58.75,-0.013  59,-0.013  59,-0.013 59.25,-0.013 59.25,-0 59.5,-0 59.5,-0.0261 59.75,-0.0261 59.75,-0.013  60,-0.013  60,-0.013 60.25,-0.013 60.25,-0.013 60.5,-0.013 60.5,-0.013 60.75,-0.013 60.75,-0.013  61,-0.013  61,-0 61.25,-0 61.25,-0.0261 61.5,-0.0261 61.5,-0.013 61.75,-0.013 61.75,-0.013  62,-0.013  62,-0 62.25,-0 62.25,-0 62.5,-0 62.5,-0 62.75,-0 62.75,-0.013  63,-0.013  63,-0.013 63.25,-0.013 63.25,-0 63.5,-0 63.5,-0.013 63.75,-0.013 63.75,-0.013  64,-0.013  64,-0 64.25,-0 64.25,-0 64.5,-0 64.5,-0.013 64.75,-0.013 64.75,-0.013  65,-0.013  65,-0.013 65.25,-0.013 65.25,-0 65.5,-0 65.5,-0.013 65.75,-0.013 65.75,-0.013  66,-0.013  66,-0 66.25,-0 66.25,-0.013 66.5,-0.013 66.5,-0 66.75,-0 66.75,-0.013  67,-0.013  67,-0 67.25,-0 67.25,-0 67.5,-0 67.5,-0.013 67.75,-0.013 67.75,-0  68,-0  68,-0.013 68.25,-0.013 68.25,-0.013 68.5,-0.013 68.5,-0 68.75,-0 68.75,-0  69,-0  69,-0 69.25,-0 69.25,-0.013 69.5,-0.013 69.5,-0.013 69.75,-0.013 69.75,-0  70,-0  70,-0.0261 70.25,-0.0261 70.25,-0 70.5,-0 70.5,-0 70.75,-0 70.75,-0  71,-0  71,-0 71.25,-0 71.25,-0 71.5,-0 71.5,-0.013 71.75,-0.013 71.75,-0  72,-0  72,-0 72.25,-0 72.25,-0 72.5,-0 72.5,-0 72.75,-0 72.75,-0  73,-0  73,-0 73.25,-0 73.25,-0.013 73.5,-0.013 73.5,-0 73.75,-0 73.75,-0  74,-0  74,-0 74.25,-0 74.25,-0 74.5,-0 74.5,-0 74.75,-0 74.75,-0.013  75,-0.013  75,-0 75.25,-0 75.25,-0 75.5,-0 75.5,-0.013 75.75,-0.013 75.75,-0  76,-0  76,-0 76.25,-0 76.25,-0.013 76.5,-0.013 76.5,-0 76.75,-0 76.75,-0  77,-0  77,-0 77.25,-0 77.25,-0 77.5,-0 77.5,-0.013 77.75,-0.013 77.75,-0  78,-0  78,-0 78.25,-0 78.25,-0.013 78.5,-0.013 78.5,-0 78.75,-0 78.75,-0  79,-0  79,-0 79.25,-0 79.25,-0 79.5,-0 79.5,-0 79.75,-0 79.75,-0.013  80,-0.013  80,-0 80.25,-0 80.25,-0 80.5,-0 80.5,-0 80.75,-0 80.75,-0  81,-0  81,-0 81.25,-0 81.25,-0 81.5,-0 81.5,-0 81.75,-0 81.75,-0.013  82,-0.013  82,-0 82.25,-0 82.25,-0.013 82.5,-0.013 82.5,-0 82.75,-0 82.75,-0.013  83,-0.013  83,-0 83.25,-0 83.25,-0.013 83.5,-0.013 83.5,-0.0261 83.75,-0.0261 83.75,-0  84,-0  84,-0 84.25,-0 84.25,-0 84.5,-0 84.5,-0 84.75,-0 84.75,-0  85,-0  85,-0.0261 85.25,-0.0261 85.25,-0 85.5,-0 85.5,-0.013 85.75,-0.013 85.75,-0  86,-0  86,-0 86.25,-0 86.25,-0 86.5,-0 86.5,-0.0261 86.75,-0.0261 86.75,-0  87,-0  87,-0 87.25,-0 87.25,-0 87.5,-0 87.5,-0 87.75,-0 87.75,-0  88,-0  88,-0 88.25,-0 88.25,-0 88.5,-0 88.5,-0 88.75,-0 88.75,-0  89,-0  89,-0 89.25,-0 89.25,-0 89.5,-0 89.5,-0 89.75,-0 89.75,-0  90,-0  90,-0.0261 90.25,-0.0261 90.25,-0 90.5,-0 90.5,-0 90.75,-0 90.75,-0  91,-0  91,-0 91.25,-0 91.25,-0 91.5,-0 91.5,-0.013 91.75,-0.013 91.75,-0  92,-0  92,-0 92.25,-0 92.25,-0.013 92.5,-0.013 92.5,-0 92.75,-0 92.75,-0  93,-0  93,-0 93.25,-0 93.25,-0 93.5,-0 93.5,-0 93.75,-0 93.75,-0  94,-0  94,-0.013 94.25,-0.013 94.25,-0 94.5,-0 94.5,-0 94.75,-0 94.75,-0  95,-0  95,-0 95.25,-0 95.25,-0 95.5,-0 95.5,-0.013 95.75,-0.013 95.75,-0  96,-0  96,-0 96.25,-0 96.25,-0 96.5,-0 96.5,-0 96.75,-0 96.75,-0  97,-0  97,-0 97.25,-0 97.25,-0 97.5,-0 97.5,-0 97.75,-0 97.75,-0  98,-0  98,-0 98.25,-0 98.25,-0 98.5,-0 98.5,-0 98.75,-0 98.75,-0  99,-0  99,-0 99.25,-0 99.25,-0 99.5,-0 99.5,-0 99.75,-0 99.75,-0 100,-0 100,-0 100.25,-0 100.25,-0 100.5,-0 100.5,-0 100.75,-0 100.75,-0 101,-0 101,-0 101.25,-0 101.25,-0 101.5,-0 101.5,-0 101.75,-0 101.75,-0 102,-0 102,-0 102.25,-0 102.25,-0 102.5,-0 102.5,-0 102.75,-0 102.75,-0 103,-0 103,-0 103.25,-0 103.25,-0 103.5,-0 103.5,-0 103.75,-0 103.75,-0 104,-0 104,-0 104.25,-0 104.25,-0 104.5,-0 104.5,-0 104.75,-0 104.75,-0 105,-0 105,-0 105.25,-0 105.25,-0 105.5,-0 105.5,-0 105.75,-0 105.75,-0 106,-0 106,-0 106.25,-0 106.25,-0 106.5,-0 106.5,-0 106.75,-0 106.75,-0 107,-0 107,-0 107.25,-0 107.25,-0 107.5,-0 107.5,-0 107.75,-0 107.75,-0 108,-0 108,-0 108.25,-0 108.25,-0 108.5,-0 108.5,-0 108.75,-0 108.75,-0 109,-0 109,-0 109.25,-0 109.25,-0 109.5,-0 109.5,-0 109.75,-0 109.75,-0 110,-0 110,-0 110.25,-0 110.25,-0 110.5,-0 110.5,-0 110.75,-0 110.75,-0 111,-0 111,-0 111.25,-0 111.25,-0 111.5,-0 111.5,-0 111.75,-0 111.75,-0 112,-0 112,-0 112.25,-0 112.25,-0 112.5,-0 112.5,-0.013 112.75,-0.013 112.75,-0.013 113,-0.013 113,-0 113.25,-0 113.25,-0 113.5,-0 113.5,-0 113.75,-0 113.75,-0 114,-0 114,-0 114.25,-0 114.25,-0 114.5,-0 114.5,-0 114.75,-0 114.75,-0 115,-0 115,-0 115.25,-0 115.25,-0 115.5,-0 115.5,-0 115.75,-0 115.75,-0 116,-0 116,-0 116.25,-0 116.25,-0 116.5,-0 116.5,-0 116.75,-0 116.75,-0 117,-0 117,-0 117.25,-0 117.25,-0 117.5,-0 117.5,-0 117.75,-0 117.75,-0.013 118,-0.013 118,-0 118.25,-0 118.25,-0 118.5,-0 118.5,-0 118.75,-0 118.75,-0 119,-0 119,-0 119.25,-0 119.25,-0 119.5,-0 119.5,-0 119.75,-0 119.75,-0 120,-0 120,-0 120.25,-0 120.25,-0 120.5,-0 120.5,-0 120.75,-0 120.75,-0 121,-0 121,-0 121.25,-0 121.25,-0 121.5,-0 121.5,-0 121.75,-0 121.75,-0 122,-0 122,-0 122.25,-0 122.25,-0 122.5,-0 122.5,-0 122.75,-0 122.75,-0 123,-0 123,-0 123.25,-0 123.25,-0 123.5,-0 123.5,-0 123.75,-0 123.75,-0 124,-0 124,-0 124.25,-0 124.25,-0 124.5,-0 124.5,-0 124.75,-0 124.75,-0 125,-0 125,-0 125.25,-0 125.25,-0 125.5,-0 125.5,-0 125.75,-0 125.75,-0 126,-0 126,-0 126.25,-0 126.25,-0.013 126.5,-0.013 126.5,-0 126.75,-0 126.75,-0.013 127,-0.013 127,-0 127.25,-0 127.25,-0 127.5,-0 127.5,-0 127.75,-0 127.75,-0 128,-0 128,-0 128.25,-0 128.25,-0 128.5,-0 128.5,-0 128.75,-0 128.75,-0 129,-0 129,-0 129.25,-0 129.25,-0 129.5,-0 129.5,-0 129.75,-0 129.75,-0 130,-0 130,-0 130.25,-0 130.25,-0 130.5,-0 130.5,-0 130.75,-0 130.75,-0 131,-0 131,-0 131.25,-0 131.25,-0 131.5,-0 131.5,-0 131.75,-0 131.75,-0 132,-0 132,-0 132.25,-0 132.25,-0 132.5,-0 132.5,-0 132.75,-0 132.75,-0.013 133,-0.013 133,-0 133.25,-0 133.25,-0 133.5,-0 133.5,-0 133.75,-0 133.75,-0 134,-0 134,-0 134.25,-0 134.25,-0 134.5,-0 134.5,-0 134.75,-0 134.75,-0 135,-0 135,-0 135.25,-0 135.25,-0 135.5,-0 135.5,-0 135.75,-0 135.75,-0 136,-0 136,-0 136.25,-0 136.25,-0 136.5,-0 136.5,-0 136.75,-0 136.75,-0 137,-0 137,-0 137.25,-0 137.25,-0 137.5,-0 137.5,-0 137.75,-0 137.75,-0 138,-0 138,-0 138.25,-0 138.25,-0 138.5,-0 138.5,-0 138.75,-0 138.75,-0 139,-0 139,-0 139.25,-0 139.25,-0 139.5,-0 139.5,-0 139.75,-0 139.75,-0 140,-0 140,-0 140.25,-0 140.25,-0 140.5,-0 140.5,-0 140.75,-0 140.75,-0 141,-0 141,-0 141.25,-0 141.25,-0 141.5,-0 141.5,-0 141.75,-0 141.75,-0 142,-0 142,-0 142.25,-0 142.25,-0 142.5,-0 142.5,-0 142.75,-0 142.75,-0 143,-0 143,-0 143.25,-0 143.25,-0 143.5,-0 143.5,-0 143.75,-0 143.75,-0 144,-0 144,-0 144.25,-0 144.25,-0 144.5,-0 144.5,-0 144.75,-0 144.75,-0 145,-0 145,-0 145.25,-0 145.25,-0 145.5,-0 145.5,-0 145.75,-0 145.75,-0 146,-0 146,-0 146.25,-0 146.25,-0 146.5,-0 146.5,-0 146.75,-0 146.75,-0 147,-0 147,-0 147.25,-0 147.25,-0 147.5,-0 147.5,-0 147.75,-0 147.75,-0 148,-0 148,-0 148.25,-0 148.25,-0 148.5,-0 148.5,-0 148.75,-0 148.75,-0 149,-0 149,-0 149.25,-0 149.25,-0 149.5,-0 149.5,-0 149.75,-0 149.75,-0 150,-0 150,-0 150.25,-0 150.25,-0 150.5,-0 150.5,-0 150.75,-0 150.75,-0 151,-0 151,-0 151.25,-0 151.25,-0 151.5,-0 151.5,-0 151.75,-0 151.75,-0 152,-0 152,-0 152.25,-0 152.25,-0 152.5,-0 152.5,-0 152.75,-0 152.75,-0 153,-0 153,-0 153.25,-0 153.25,-0 153.5,-0 153.5,-0 153.75,-0 153.75,-0 154,-0 154,-0 154.25,-0 154.25,-0 154.5,-0 154.5,-0 154.75,-0 154.75,-0 155,-0 155,-0 155.25,-0 155.25,-0 155.5,-0 155.5,-0 155.75,-0 155.75,-0 156,-0 156,-0 156.25,-0 156.25,-0 156.5,-0 156.5,-0 156.75,-0 156.75,-0 157,-0 157,-0 157.25,-0 157.25,-0 157.5,-0 157.5,-0 157.75,-0 157.75,-0 158,-0 158,-0 158.25,-0 158.25,-0 158.5,-0 158.5,-0 158.75,-0 158.75,-0 159,-0 159,-0 159.25,-0 159.25,-0 159.5,-0 159.5,-0 159.75,-0 159.75,-0 160,-0 160,-0 160.25,-0 160.25,-0 160.5,-0 160.5,-0 160.75,-0 160.75,-0 161,-0 161,-0 161.25,-0 161.25,-0 161.5,-0 161.5,-0 161.75,-0 161.75,-0 162,-0 162,-0 162.25,-0 162.25,-0 162.5,-0 162.5,-0 162.75,-0 162.75,-0 163,-0 163,-0 163.25,-0 163.25,-0 163.5,-0 163.5,-0 163.75,-0 163.75,-0 164,-0 164,-0 164.25,-0 164.25,-0 164.5,-0 164.5,-0 164.75,-0 164.75,-0 165,-0 165,-0 165.25,-0 165.25,-0 165.5,-0 165.5,-0 165.75,-0 165.75,-0 166,-0 166,-0 166.25,-0 166.25,-0 166.5,-0 166.5,-0 166.75,-0 166.75,-0 167,-0 167,-0 167.25,-0 167.25,-0 167.5,-0 167.5,-0 167.75,-0 167.75,-0 168,-0 168,-0 168.25,-0 168.25,-0.013 168.5,-0.013 168.5,-0 168.75,-0 168.75,-0 169,-0 169,-0 169.25,-0 169.25,-0 169.5,-0 169.5,-0 169.75,-0 169.75,-0 170,-0 170,-0 170.25,-0 170.25,-0 170.5,-0 170.5,-0 170.75,-0 170.75,-0 171,-0 171,-0 171.25,-0 171.25,-0 171.5,-0 171.5,-0 171.75,-0 171.75,-0 172,-0 172,-0 172.25,-0 172.25,-0 172.5,-0 172.5,-0 172.75,-0 172.75,-0 173,-0 173,-0 173.25,-0 173.25,-0 173.5,-0 173.5,-0 173.75,-0 173.75,-0 174,-0 174,-0 174.25,-0 174.25,-0 174.5,-0 174.5,-0 174.75,-0 174.75,-0 175,-0 175,-0 175.25,-0 175.25,-0 175.5,-0 175.5,-0 175.75,-0 175.75,-0 176,-0 176,-0 176.25,-0 176.25,-0 176.5,-0 176.5,-0 176.75,-0 176.75,-0 177,-0 177,-0 177.25,-0 177.25,-0 177.5,-0 177.5,-0 177.75,-0 177.75,-0 178,-0 178,-0 178.25,-0 178.25,-0 178.5,-0 178.5,-0 178.75,-0 178.75,-0 179,-0 179,-0 179.25,-0 179.25,-0 179.5,-0 179.5,-0 179.75,-0 179.75,-0 180,-0 180,-0 180.25,-0 180.25,-0 180.5,-0 180.5,-0 180.75,-0 180.75,-0 181,-0 181,-0 181.25,-0 181.25,-0 181.5,-0 181.5,-0 181.75,-0 181.75,-0 182,-0 182,-0 182.25,-0 182.25,-0 182.5,-0 182.5,-0 182.75,-0 182.75,-0 183,-0 183,-0 183.25,-0 183.25,-0 183.5,-0 183.5,-0 183.75,-0 183.75,-0 184,-0 184,-0 184.25,-0 184.25,-0 184.5,-0 184.5,-0 184.75,-0 184.75,-0 185,-0 185,-0 185.25,-0 185.25,-0 185.5,-0 185.5,-0 185.75,-0 185.75,-0 186,-0 186,-0 186.25,-0 186.25,-0 186.5,-0 186.5,-0 186.75,-0 186.75,-0 187,-0 187,-0 187.25,-0 187.25,-0 187.5,-0 187.5,-0 187.75,-0 187.75,-0 188,-0 188,-0 188.25,-0 188.25,-0 188.5,-0 188.5,-0 188.75,-0 188.75,-0 189,-0 189,-0 189.25,-0 189.25,-0 189.5,-0 189.5,-0 189.75,-0 189.75,-0 190,-0 190,-0 190.25,-0 190.25,-0 190.5,-0 190.5,-0 190.75,-0 190.75,-0 191,-0 191,-0 191.25,-0 191.25,-0 191.5,-0 191.5,-0 191.75,-0 191.75,-0 192,-0 192,-0 192.25,-0 192.25,-0.013 192.5,-0.013 192.5,-0 192.75,-0 192.75,-0 193,-0 193,-0 193.25,-0 193.25,-0 193.5,-0 193.5,-0 193.75,-0 193.75,-0 194,-0 194,-0 194.25,-0 194.25,-0 194.5,-0 194.5,-0 194.75,-0 194.75,-0 195,-0 195,-0 195.25,-0 195.25,-0 195.5,-0 195.5,-0 195.75,-0 195.75,-0 196,-0 196,-0 196.25,-0 196.25,-0 196.5,-0 196.5,-0 196.75,-0 196.75,-0 197,-0 197,-0 197.25,-0 197.25,-0 197.5,-0 197.5,-0 197.75,-0 197.75,-0 198,-0 198,-0 198.25,-0 198.25,-0 198.5,-0 198.5,-0 198.75,-0 198.75,-0 199,-0 199,-0 199.25,-0 199.25,-0 199.5,-0 199.5,-0 199.75,-0 199.75,-0 200,-0 200,-0 200.25,-0 200.25,-0 200.5,-0 200.5,-0 200.75,-0 200.75,-0 201,-0 201,-0 201.25,-0 201.25,-0 201.5,-0 201.5,-0 201.75,-0 201.75,-0 202,-0 202,-0 202.25,-0 202.25,-0 202.5,-0 202.5,-0 202.75,-0 202.75,-0 203,-0 203,-0 203.25,-0 203.25,-0 203.5,-0 203.5,-0 203.75,-0 203.75,-0 204,-0 204,-0 204.25,-0 204.25,-0 204.5,-0 204.5,-0 204.75,-0 204.75,-0 205,-0 205,-0 205.25,-0 205.25,-0 205.5,-0 205.5,-0 205.75,-0 205.75,-0 206,-0 206,-0 206.25,-0 206.25,-0 206.5,-0 206.5,-0 206.75,-0 206.75,-0 207,-0 207,-0 207.25,-0 207.25,-0 207.5,-0 207.5,-0.013 207.75,-0.013 207.75,-0 208,-0 208,-0 208.25,-0 208.25,-0 208.5,-0 208.5,-0 208.75,-0 208.75,-0 209,-0 209,-0 209.25,-0 209.25,-0 209.5,-0 209.5,-0 209.75,-0 209.75,-0 210,-0 210,-0 210.25,-0 210.25,-0 210.5,-0 210.5,-0 210.75,-0 210.75,-0 211,-0 211,-0 211.25,-0 211.25,-0 211.5,-0 211.5,-0 211.75,-0 211.75,-0 212,-0 212,-0 212.25,-0 212.25,-0 212.5,-0 212.5,-0 212.75,-0 212.75,-0 213,-0 213,-0 213.25,-0 213.25,-0 213.5,-0 213.5,-0 213.75,-0 213.75,-0 214,-0 214,-0 214.25,-0 214.25,-0 214.5,-0 214.5,-0 214.75,-0 214.75,-0 215,-0 215,-0 215.25,-0 215.25,-0 215.5,-0 215.5,-0 215.75,-0 215.75,-0 216,-0 216,-0 216.25,-0 216.25,-0 216.5,-0 216.5,-0 216.75,-0 216.75,-0 217,-0 217,-0 217.25,-0 217.25,-0 217.5,-0 217.5,-0 217.75,-0 217.75,-0 218,-0 218,-0 218.25,-0 218.25,-0 218.5,-0 218.5,-0 218.75,-0 218.75,-0 219,-0 219,-0 219.25,-0 219.25,-0 219.5,-0 219.5,-0 219.75,-0 219.75,-0 220,-0 220,-0 220.25,-0 220.25,-0 220.5,-0 220.5,-0 220.75,-0 220.75,-0 221,-0 221,-0 221.25,-0 221.25,-0 221.5,-0 221.5,-0 221.75,-0 221.75,-0 222,-0 222,-0 222.25,-0 222.25,-0 222.5,-0 222.5,-0 222.75,-0 222.75,-0 223,-0 223,-0 223.25,-0 223.25,-0 223.5,-0 223.5,-0 223.75,-0 223.75,-0 224,-0 224,-0 224.25,-0 224.25,-0 224.5,-0 224.5,-0 224.75,-0 224.75,-0 225,-0 225,-0 225.25,-0 225.25,-0 225.5,-0 225.5,-0 225.75,-0 225.75,-0 226,-0 226,-0 226.25,-0 226.25,-0 226.5,-0 226.5,-0 226.75,-0 226.75,-0 227,-0 227,-0 227.25,-0 227.25,-0 227.5,-0 227.5,-0 227.75,-0 227.75,-0 228,-0 228,-0 228.25,-0 228.25,-0 228.5,-0 228.5,-0 228.75,-0 228.75,-0 229,-0 229,-0 229.25,-0 229.25,-0 229.5,-0 229.5,-0 229.75,-0 229.75,-0 230,-0 230,-0 230.25,-0 230.25,-0 230.5,-0 230.5,-0 230.75,-0 230.75,-0 231,-0 231,-0 231.25,-0 231.25,-0 231.5,-0 231.5,-0 231.75,-0 231.75,-0 232,-0 232,-0 232.25,-0 232.25,-0 232.5,-0 232.5,-0 232.75,-0 232.75,-0 233,-0 233,-0 233.25,-0 233.25,-0 233.5,-0 233.5,-0 233.75,-0 233.75,-0 234,-0 234,-0 234.25,-0 234.25,-0 234.5,-0 234.5,-0 234.75,-0 234.75,-0 235,-0 235,-0 235.25,-0 235.25,-0 235.5,-0 235.5,-0 235.75,-0 235.75,-0 236,-0 236,-0.013 236.25,-0.013 236.25,-0 236.5,-0 236.5,-0 236.75,-0 236.75,-0 237,-0 237,-0 237.25,-0 237.25,-0 237.5,-0 237.5,-0 237.75,-0 237.75,-0 238,-0 238,-0 238.25,-0 238.25,-0 238.5,-0 238.5,-0 238.75,-0 238.75,-0 239,-0 239,-0 239.25,-0 239.25,-0 239.5,-0 239.5,-0 239.75,-0 239.75,-0.013 240,-0.013 240,-0 240.25,-0 240.25,-0 240.5,-0 240.5,-0 240.75,-0 240.75,-0 241,-0 241,-0 241.25,-0 241.25,-0 241.5,-0 241.5,-0 241.75,-0 241.75,-0 242,-0 242,-0 242.25,-0 242.25,-0 242.5,-0 242.5,-0 242.75,-0 242.75,-0 243,-0 243,-0 243.25,-0 243.25,-0 243.5,-0 243.5,-0 243.75,-0 243.75,-0 244,-0 244,-0 244.25,-0 244.25,-0 244.5,-0 244.5,-0 244.75,-0 244.75,-0 245,-0 245,-0 245.25,-0 245.25,-0 245.5,-0 245.5,-0 245.75,-0 245.75,-0 246,-0 246,-0 246.25,-0 246.25,-0 246.5,-0 246.5,-0 246.75,-0 246.75,-0 247,-0 247,-0 247.25,-0 247.25,-0 247.5,-0 247.5,-0 247.75,-0 247.75,-0 248,-0 248,-0 248.25,-0 248.25,-0 248.5,-0 248.5,-0 248.75,-0 248.75,-0 249,-0 249,-0 249.25,-0 249.25,-0 249.5,-0 249.5,-0 249.75,-0 249.75,-0 250,-0 250,0\" style=\"fill:none; stroke:currentColor;\"/>\n",
       "</svg>\n",
       "</div>\n",
       "<div style=\"flex=grow:1;\">\n",
       "Regular(1000, 0, 1000, name='residuals', label='Reco py / TruthEcal py')<br/>\n",
       "<hr style=\"margin-top:.2em; margin-bottom:.2em;\"/>\n",
       "Double() Σ=185189.0 <em>(185423.0 with flow)</em>\n",
       "\n",
       "</div>\n",
       "</div>\n",
       "</html>"
      ],
      "text/plain": [
       "Hist(Regular(1000, 0, 1000, name='residuals', label='Reco py / TruthEcal py'), storage=Double()) # Sum: 185189.0 (185423.0 with flow)"
      ]
     },
     "metadata": {},
     "output_type": "display_data"
    }
   ],
   "source": [
    "gen_axis = hist.axis.Regular(1000, -0, 1000, name='residuals', label=r'Reco py / TruthEcal py')\n",
    "h1 = hist.Hist(gen_axis)\n",
    "h2 = hist.Hist(gen_axis)\n",
    "h3 = hist.Hist(gen_axis)\n",
    "h4 = hist.Hist(gen_axis)\n",
    "h5 = hist.Hist(gen_axis)\n",
    "h6 = hist.Hist(gen_axis)\n",
    "h1.fill(abs(pad_Electron_py[:, 0]))\n",
    "h2.fill(abs(part2))\n",
    "h3.fill(abs(part3))\n",
    "h4.fill(abs(pad_Electron_py_z[:, 0]))\n",
    "h5.fill(abs(part2_z))\n",
    "h6.fill(abs(part3_z))"
   ]
  },
  {
   "cell_type": "code",
   "execution_count": null,
   "metadata": {},
   "outputs": [
    {
     "data": {
      "text/html": [
       "<html>\n",
       "<div style=\"display:flex; align-items:center;\">\n",
       "<div style=\"width:290px;\">\n",
       "<svg xmlns=\"http://www.w3.org/2000/svg\" viewBox=\"-10 -105 270 120\">\n",
       "<line x1=\"-5\" y1=\"0\" x2=\"255\" y2=\"0\" style=\"fill:none;stroke-width:2;stroke:currentColor\"/>\n",
       "<text text-anchor=\"middle\" x=\"0\" y=\"15\" style=\"fill:currentColor;\">\n",
       "0\n",
       "</text>\n",
       "<text text-anchor=\"middle\" x=\"250\" y=\"15\" style=\"fill:currentColor;\">\n",
       "1e+03\n",
       "</text>\n",
       "<text text-anchor=\"middle\" x=\"125.0\" y=\"15\" style=\"fill:currentColor;\">\n",
       "Reco py / TruthEcal py\n",
       "</text>\n",
       "<polyline points=\"  0,0   0,-100 0.25,-100 0.25,-98.8 0.5,-98.8 0.5,-98.1 0.75,-98.1 0.75,-96.6   1,-96.6   1,-95.7 1.25,-95.7 1.25,-94.1 1.5,-94.1 1.5,-92.4 1.75,-92.4 1.75,-91.1   2,-91.1   2,-90.1 2.25,-90.1 2.25,-87.5 2.5,-87.5 2.5,-86.8 2.75,-86.8 2.75,-85.5   3,-85.5   3,-84.2 3.25,-84.2 3.25,-82.6 3.5,-82.6 3.5,-80.4 3.75,-80.4 3.75,-78.4   4,-78.4   4,-76.6 4.25,-76.6 4.25,-75.1 4.5,-75.1 4.5,-72.9 4.75,-72.9 4.75,-71.8   5,-71.8   5,-70.4 5.25,-70.4 5.25,-67.8 5.5,-67.8 5.5,-66.6 5.75,-66.6 5.75,-64.2   6,-64.2   6,-62.8 6.25,-62.8 6.25,-61.1 6.5,-61.1 6.5,-61.1 6.75,-61.1 6.75,-58.2   7,-58.2   7,-56.2 7.25,-56.2 7.25,-55.2 7.5,-55.2 7.5,-53.4 7.75,-53.4 7.75,-52.1   8,-52.1   8,-50.5 8.25,-50.5 8.25,-48.7 8.5,-48.7 8.5,-47.7 8.75,-47.7 8.75,-46.1   9,-46.1   9,-44.6 9.25,-44.6 9.25,-44 9.5,-44 9.5,-42 9.75,-42 9.75,-41  10,-41  10,-39.9 10.25,-39.9 10.25,-38.1 10.5,-38.1 10.5,-37.8 10.75,-37.8 10.75,-35.7  11,-35.7  11,-34.7 11.25,-34.7 11.25,-34.1 11.5,-34.1 11.5,-32.8 11.75,-32.8 11.75,-31.3  12,-31.3  12,-31.3 12.25,-31.3 12.25,-30.2 12.5,-30.2 12.5,-29 12.75,-29 12.75,-28  13,-28  13,-27 13.25,-27 13.25,-26.2 13.5,-26.2 13.5,-25.6 13.75,-25.6 13.75,-24.5  14,-24.5  14,-23.6 14.25,-23.6 14.25,-23.2 14.5,-23.2 14.5,-22.3 14.75,-22.3 14.75,-21.5  15,-21.5  15,-20.5 15.25,-20.5 15.25,-19.9 15.5,-19.9 15.5,-19.1 15.75,-19.1 15.75,-18.3  16,-18.3  16,-18.2 16.25,-18.2 16.25,-17.1 16.5,-17.1 16.5,-16.7 16.75,-16.7 16.75,-15.8  17,-15.8  17,-15.4 17.25,-15.4 17.25,-14.7 17.5,-14.7 17.5,-14.4 17.75,-14.4 17.75,-13.9  18,-13.9  18,-13.2 18.25,-13.2 18.25,-12.5 18.5,-12.5 18.5,-11.8 18.75,-11.8 18.75,-11.7  19,-11.7  19,-11.4 19.25,-11.4 19.25,-10.8 19.5,-10.8 19.5,-10.3 19.75,-10.3 19.75,-10.1  20,-10.1  20,-9.66 20.25,-9.66 20.25,-9.07 20.5,-9.07 20.5,-8.88 20.75,-8.88 20.75,-8.74  21,-8.74  21,-8.18 21.25,-8.18 21.25,-7.55 21.5,-7.55 21.5,-7.63 21.75,-7.63 21.75,-7.3  22,-7.3  22,-7.09 22.25,-7.09 22.25,-6.74 22.5,-6.74 22.5,-6.54 22.75,-6.54 22.75,-6.34  23,-6.34  23,-6.03 23.25,-6.03 23.25,-5.81 23.5,-5.81 23.5,-5.41 23.75,-5.41 23.75,-5.19  24,-5.19  24,-5.13 24.25,-5.13 24.25,-4.78 24.5,-4.78 24.5,-4.8 24.75,-4.8 24.75,-4.63  25,-4.63  25,-4.32 25.25,-4.32 25.25,-4.13 25.5,-4.13 25.5,-3.99 25.75,-3.99 25.75,-4.03  26,-4.03  26,-3.82 26.25,-3.82 26.25,-3.59 26.5,-3.59 26.5,-3.52 26.75,-3.52 26.75,-3.36  27,-3.36  27,-3.36 27.25,-3.36 27.25,-3.16 27.5,-3.16 27.5,-2.9 27.75,-2.9 27.75,-2.9  28,-2.9  28,-2.83 28.25,-2.83 28.25,-2.73 28.5,-2.73 28.5,-2.55 28.75,-2.55 28.75,-2.52  29,-2.52  29,-2.29 29.25,-2.29 29.25,-2.29 29.5,-2.29 29.5,-2.3 29.75,-2.3 29.75,-2.25  30,-2.25  30,-2.06 30.25,-2.06 30.25,-1.99 30.5,-1.99 30.5,-1.9 30.75,-1.9 30.75,-1.72  31,-1.72  31,-1.76 31.25,-1.76 31.25,-1.79 31.5,-1.79 31.5,-1.54 31.75,-1.54 31.75,-1.65  32,-1.65  32,-1.55 32.25,-1.55 32.25,-1.51 32.5,-1.51 32.5,-1.53 32.75,-1.53 32.75,-1.44  33,-1.44  33,-1.39 33.25,-1.39 33.25,-1.18 33.5,-1.18 33.5,-1.25 33.75,-1.25 33.75,-1.18  34,-1.18  34,-1.15 34.25,-1.15 34.25,-1.17 34.5,-1.17 34.5,-1.11 34.75,-1.11 34.75,-1.09  35,-1.09  35,-1.01 35.25,-1.01 35.25,-0.882 35.5,-0.882 35.5,-0.923 35.75,-0.923 35.75,-0.867  36,-0.867  36,-0.956 36.25,-0.956 36.25,-0.847 36.5,-0.847 36.5,-0.759 36.75,-0.759 36.75,-0.787  37,-0.787  37,-0.695 37.25,-0.695 37.25,-0.716 37.5,-0.716 37.5,-0.703 37.75,-0.703 37.75,-0.677  38,-0.677  38,-0.619 38.25,-0.619 38.25,-0.586 38.5,-0.586 38.5,-0.574 38.75,-0.574 38.75,-0.564  39,-0.564  39,-0.584 39.25,-0.584 39.25,-0.545 39.5,-0.545 39.5,-0.533 39.75,-0.533 39.75,-0.466  40,-0.466  40,-0.468 40.25,-0.468 40.25,-0.463 40.5,-0.463 40.5,-0.433 40.75,-0.433 40.75,-0.443  41,-0.443  41,-0.424 41.25,-0.424 41.25,-0.416 41.5,-0.416 41.5,-0.408 41.75,-0.408 41.75,-0.388  42,-0.388  42,-0.384 42.25,-0.384 42.25,-0.355 42.5,-0.355 42.5,-0.342 42.75,-0.342 42.75,-0.332  43,-0.332  43,-0.263 43.25,-0.263 43.25,-0.277 43.5,-0.277 43.5,-0.285 43.75,-0.285 43.75,-0.318  44,-0.318  44,-0.269 44.25,-0.269 44.25,-0.271 44.5,-0.271 44.5,-0.224 44.75,-0.224 44.75,-0.244  45,-0.244  45,-0.277 45.25,-0.277 45.25,-0.242 45.5,-0.242 45.5,-0.215 45.75,-0.215 45.75,-0.185  46,-0.185  46,-0.189 46.25,-0.189 46.25,-0.24 46.5,-0.24 46.5,-0.168 46.75,-0.168 46.75,-0.201  47,-0.201  47,-0.187 47.25,-0.187 47.25,-0.154 47.5,-0.154 47.5,-0.185 47.75,-0.185 47.75,-0.17  48,-0.17  48,-0.127 48.25,-0.127 48.25,-0.139 48.5,-0.139 48.5,-0.127 48.75,-0.127 48.75,-0.119  49,-0.119  49,-0.156 49.25,-0.156 49.25,-0.144 49.5,-0.144 49.5,-0.0995 49.75,-0.0995 49.75,-0.127  50,-0.127  50,-0.135 50.25,-0.135 50.25,-0.117 50.5,-0.117 50.5,-0.133 50.75,-0.133 50.75,-0.135  51,-0.135  51,-0.109 51.25,-0.109 51.25,-0.0664 51.5,-0.0664 51.5,-0.0937 51.75,-0.0937 51.75,-0.0917  52,-0.0917  52,-0.0995 52.25,-0.0995 52.25,-0.0742 52.5,-0.0742 52.5,-0.0898 52.75,-0.0898 52.75,-0.0859  53,-0.0859  53,-0.0839 53.25,-0.0839 53.25,-0.08 53.5,-0.08 53.5,-0.0859 53.75,-0.0859 53.75,-0.0644  54,-0.0644  54,-0.0839 54.25,-0.0839 54.25,-0.0859 54.5,-0.0859 54.5,-0.08 54.75,-0.08 54.75,-0.0664  55,-0.0664  55,-0.0644 55.25,-0.0644 55.25,-0.0976 55.5,-0.0976 55.5,-0.0781 55.75,-0.0781 55.75,-0.0566  56,-0.0566  56,-0.0781 56.25,-0.0781 56.25,-0.0586 56.5,-0.0586 56.5,-0.0683 56.75,-0.0683 56.75,-0.0507  57,-0.0507  57,-0.0546 57.25,-0.0546 57.25,-0.0507 57.5,-0.0507 57.5,-0.0586 57.75,-0.0586 57.75,-0.041  58,-0.041  58,-0.0605 58.25,-0.0605 58.25,-0.0625 58.5,-0.0625 58.5,-0.0546 58.75,-0.0546 58.75,-0.0566  59,-0.0566  59,-0.041 59.25,-0.041 59.25,-0.0371 59.5,-0.0371 59.5,-0.0507 59.75,-0.0507 59.75,-0.0546  60,-0.0546  60,-0.0332 60.25,-0.0332 60.25,-0.0429 60.5,-0.0429 60.5,-0.039 60.75,-0.039 60.75,-0.0429  61,-0.0429  61,-0.0195 61.25,-0.0195 61.25,-0.0507 61.5,-0.0507 61.5,-0.0312 61.75,-0.0312 61.75,-0.0332  62,-0.0332  62,-0.041 62.25,-0.041 62.25,-0.0468 62.5,-0.0468 62.5,-0.0312 62.75,-0.0312 62.75,-0.0273  63,-0.0273  63,-0.0215 63.25,-0.0215 63.25,-0.0468 63.5,-0.0468 63.5,-0.0351 63.75,-0.0351 63.75,-0.039  64,-0.039  64,-0.0293 64.25,-0.0293 64.25,-0.0293 64.5,-0.0293 64.5,-0.0293 64.75,-0.0293 64.75,-0.041  65,-0.041  65,-0.041 65.25,-0.041 65.25,-0.0254 65.5,-0.0254 65.5,-0.0215 65.75,-0.0215 65.75,-0.0215  66,-0.0215  66,-0.0234 66.25,-0.0234 66.25,-0.0195 66.5,-0.0195 66.5,-0.0332 66.75,-0.0332 66.75,-0.0195  67,-0.0195  67,-0.0312 67.25,-0.0312 67.25,-0.0195 67.5,-0.0195 67.5,-0.0137 67.75,-0.0137 67.75,-0.0254  68,-0.0254  68,-0.0273 68.25,-0.0273 68.25,-0.0254 68.5,-0.0254 68.5,-0.0215 68.75,-0.0215 68.75,-0.0254  69,-0.0254  69,-0.0215 69.25,-0.0215 69.25,-0.0351 69.5,-0.0351 69.5,-0.0293 69.75,-0.0293 69.75,-0.0195  70,-0.0195  70,-0.0234 70.25,-0.0234 70.25,-0.0293 70.5,-0.0293 70.5,-0.0117 70.75,-0.0117 70.75,-0.0351  71,-0.0351  71,-0.0156 71.25,-0.0156 71.25,-0.0234 71.5,-0.0234 71.5,-0.0176 71.75,-0.0176 71.75,-0.0215  72,-0.0215  72,-0.0234 72.25,-0.0234 72.25,-0.0176 72.5,-0.0176 72.5,-0.0234 72.75,-0.0234 72.75,-0.0117  73,-0.0117  73,-0.0234 73.25,-0.0234 73.25,-0.0195 73.5,-0.0195 73.5,-0.00586 73.75,-0.00586 73.75,-0.0215  74,-0.0215  74,-0.0117 74.25,-0.0117 74.25,-0.0039 74.5,-0.0039 74.5,-0.0156 74.75,-0.0156 74.75,-0.0195  75,-0.0195  75,-0.00976 75.25,-0.00976 75.25,-0.00976 75.5,-0.00976 75.5,-0.0215 75.75,-0.0215 75.75,-0.00781  76,-0.00781  76,-0.0137 76.25,-0.0137 76.25,-0.0176 76.5,-0.0176 76.5,-0.00976 76.75,-0.00976 76.75,-0.0137  77,-0.0137  77,-0.0137 77.25,-0.0137 77.25,-0.0234 77.5,-0.0234 77.5,-0.0137 77.75,-0.0137 77.75,-0.0156  78,-0.0156  78,-0.0176 78.25,-0.0176 78.25,-0.00586 78.5,-0.00586 78.5,-0.0176 78.75,-0.0176 78.75,-0.0195  79,-0.0195  79,-0.00586 79.25,-0.00586 79.25,-0.00586 79.5,-0.00586 79.5,-0.0215 79.75,-0.0215 79.75,-0.0273  80,-0.0273  80,-0.0156 80.25,-0.0156 80.25,-0.0156 80.5,-0.0156 80.5,-0.0117 80.75,-0.0117 80.75,-0.0137  81,-0.0137  81,-0.0234 81.25,-0.0234 81.25,-0.0117 81.5,-0.0117 81.5,-0.00781 81.75,-0.00781 81.75,-0.00976  82,-0.00976  82,-0.00586 82.25,-0.00586 82.25,-0.00586 82.5,-0.00586 82.5,-0.00976 82.75,-0.00976 82.75,-0.00976  83,-0.00976  83,-0.0195 83.25,-0.0195 83.25,-0.0137 83.5,-0.0137 83.5,-0.0117 83.75,-0.0117 83.75,-0.00976  84,-0.00976  84,-0.00976 84.25,-0.00976 84.25,-0.0156 84.5,-0.0156 84.5,-0.0039 84.75,-0.0039 84.75,-0.0137  85,-0.0137  85,-0.00976 85.25,-0.00976 85.25,-0.0137 85.5,-0.0137 85.5,-0.00976 85.75,-0.00976 85.75,-0.00976  86,-0.00976  86,-0.0195 86.25,-0.0195 86.25,-0.0215 86.5,-0.0215 86.5,-0.00781 86.75,-0.00781 86.75,-0.0117  87,-0.0117  87,-0.0156 87.25,-0.0156 87.25,-0.0117 87.5,-0.0117 87.5,-0.00781 87.75,-0.00781 87.75,-0.00195  88,-0.00195  88,-0.00586 88.25,-0.00586 88.25,-0.0117 88.5,-0.0117 88.5,-0.00976 88.75,-0.00976 88.75,-0.0117  89,-0.0117  89,-0.00586 89.25,-0.00586 89.25,-0.0039 89.5,-0.0039 89.5,-0.0117 89.75,-0.0117 89.75,-0.00586  90,-0.00586  90,-0.0117 90.25,-0.0117 90.25,-0.0215 90.5,-0.0215 90.5,-0.0039 90.75,-0.0039 90.75,-0.0117  91,-0.0117  91,-0.00976 91.25,-0.00976 91.25,-0.0039 91.5,-0.0039 91.5,-0.0195 91.75,-0.0195 91.75,-0.00781  92,-0.00781  92,-0.00586 92.25,-0.00586 92.25,-0.00781 92.5,-0.00781 92.5,-0.00586 92.75,-0.00586 92.75,-0.00976  93,-0.00976  93,-0.00586 93.25,-0.00586 93.25,-0.00976 93.5,-0.00976 93.5,-0.00586 93.75,-0.00586 93.75,-0.00781  94,-0.00781  94,-0.0117 94.25,-0.0117 94.25,-0.00976 94.5,-0.00976 94.5,-0.00976 94.75,-0.00976 94.75,-0.00195  95,-0.00195  95,-0.00781 95.25,-0.00781 95.25,-0.0117 95.5,-0.0117 95.5,-0.00976 95.75,-0.00976 95.75,-0.00976  96,-0.00976  96,-0.0039 96.25,-0.0039 96.25,-0.0117 96.5,-0.0117 96.5,-0.00586 96.75,-0.00586 96.75,-0.0234  97,-0.0234  97,-0.00195 97.25,-0.00195 97.25,-0.00586 97.5,-0.00586 97.5,-0.00781 97.75,-0.00781 97.75,-0.0117  98,-0.0117  98,-0.0117 98.25,-0.0117 98.25,-0.00781 98.5,-0.00781 98.5,-0.00586 98.75,-0.00586 98.75,-0.00586  99,-0.00586  99,-0.00781 99.25,-0.00781 99.25,-0.00195 99.5,-0.00195 99.5,-0.00586 99.75,-0.00586 99.75,-0.00586 100,-0.00586 100,-0.00781 100.25,-0.00781 100.25,-0.00976 100.5,-0.00976 100.5,-0.00781 100.75,-0.00781 100.75,-0.0195 101,-0.0195 101,-0.0039 101.25,-0.0039 101.25,-0.00976 101.5,-0.00976 101.5,-0.0039 101.75,-0.0039 101.75,-0.0117 102,-0.0117 102,-0.0039 102.25,-0.0039 102.25,-0.00586 102.5,-0.00586 102.5,-0.00586 102.75,-0.00586 102.75,-0.0117 103,-0.0117 103,-0.0039 103.25,-0.0039 103.25,-0.00586 103.5,-0.00586 103.5,-0.0117 103.75,-0.0117 103.75,-0.00586 104,-0.00586 104,-0.00976 104.25,-0.00976 104.25,-0.00781 104.5,-0.00781 104.5,-0.00195 104.75,-0.00195 104.75,-0.00976 105,-0.00976 105,-0.0039 105.25,-0.0039 105.25,-0.00586 105.5,-0.00586 105.5,-0.00586 105.75,-0.00586 105.75,-0.00586 106,-0.00586 106,-0.0039 106.25,-0.0039 106.25,-0.00781 106.5,-0.00781 106.5,-0 106.75,-0 106.75,-0.00781 107,-0.00781 107,-0.00976 107.25,-0.00976 107.25,-0.00586 107.5,-0.00586 107.5,-0.00976 107.75,-0.00976 107.75,-0.00781 108,-0.00781 108,-0.0039 108.25,-0.0039 108.25,-0.00195 108.5,-0.00195 108.5,-0.00781 108.75,-0.00781 108.75,-0.0039 109,-0.0039 109,-0.0117 109.25,-0.0117 109.25,-0.00586 109.5,-0.00586 109.5,-0.00586 109.75,-0.00586 109.75,-0.00195 110,-0.00195 110,-0.00976 110.25,-0.00976 110.25,-0.00195 110.5,-0.00195 110.5,-0.00586 110.75,-0.00586 110.75,-0.0039 111,-0.0039 111,-0.0039 111.25,-0.0039 111.25,-0.0039 111.5,-0.0039 111.5,-0.0039 111.75,-0.0039 111.75,-0.0039 112,-0.0039 112,-0.00586 112.25,-0.00586 112.25,-0.00781 112.5,-0.00781 112.5,-0.00586 112.75,-0.00586 112.75,-0.00586 113,-0.00586 113,-0.0039 113.25,-0.0039 113.25,-0 113.5,-0 113.5,-0.00586 113.75,-0.00586 113.75,-0.0117 114,-0.0117 114,-0.00586 114.25,-0.00586 114.25,-0 114.5,-0 114.5,-0.00586 114.75,-0.00586 114.75,-0.00195 115,-0.00195 115,-0.0039 115.25,-0.0039 115.25,-0.0117 115.5,-0.0117 115.5,-0.0039 115.75,-0.0039 115.75,-0.00781 116,-0.00781 116,-0.00586 116.25,-0.00586 116.25,-0.00976 116.5,-0.00976 116.5,-0.00586 116.75,-0.00586 116.75,-0.0039 117,-0.0039 117,-0.00586 117.25,-0.00586 117.25,-0.00781 117.5,-0.00781 117.5,-0.0039 117.75,-0.0039 117.75,-0.0039 118,-0.0039 118,-0.00586 118.25,-0.00586 118.25,-0.00195 118.5,-0.00195 118.5,-0.00195 118.75,-0.00195 118.75,-0 119,-0 119,-0.00586 119.25,-0.00586 119.25,-0.00781 119.5,-0.00781 119.5,-0.00781 119.75,-0.00781 119.75,-0 120,-0 120,-0.00781 120.25,-0.00781 120.25,-0.00586 120.5,-0.00586 120.5,-0.0117 120.75,-0.0117 120.75,-0.00195 121,-0.00195 121,-0.00195 121.25,-0.00195 121.25,-0.0039 121.5,-0.0039 121.5,-0.0039 121.75,-0.0039 121.75,-0.00195 122,-0.00195 122,-0.00195 122.25,-0.00195 122.25,-0.00586 122.5,-0.00586 122.5,-0.00781 122.75,-0.00781 122.75,-0.00781 123,-0.00781 123,-0.00195 123.25,-0.00195 123.25,-0.00781 123.5,-0.00781 123.5,-0.00586 123.75,-0.00586 123.75,-0.0137 124,-0.0137 124,-0.00586 124.25,-0.00586 124.25,-0 124.5,-0 124.5,-0.0039 124.75,-0.0039 124.75,-0.00586 125,-0.00586 125,-0.00586 125.25,-0.00586 125.25,-0 125.5,-0 125.5,-0.0039 125.75,-0.0039 125.75,-0.00586 126,-0.00586 126,-0.00586 126.25,-0.00586 126.25,-0.0039 126.5,-0.0039 126.5,-0.00976 126.75,-0.00976 126.75,-0.00195 127,-0.00195 127,-0 127.25,-0 127.25,-0 127.5,-0 127.5,-0.00781 127.75,-0.00781 127.75,-0.00195 128,-0.00195 128,-0.0039 128.25,-0.0039 128.25,-0.00586 128.5,-0.00586 128.5,-0.00195 128.75,-0.00195 128.75,-0.00195 129,-0.00195 129,-0 129.25,-0 129.25,-0.0117 129.5,-0.0117 129.5,-0.00195 129.75,-0.00195 129.75,-0.0039 130,-0.0039 130,-0 130.25,-0 130.25,-0.00195 130.5,-0.00195 130.5,-0.0039 130.75,-0.0039 130.75,-0.0039 131,-0.0039 131,-0.00195 131.25,-0.00195 131.25,-0.00195 131.5,-0.00195 131.5,-0.00195 131.75,-0.00195 131.75,-0.00195 132,-0.00195 132,-0.00586 132.25,-0.00586 132.25,-0.00195 132.5,-0.00195 132.5,-0.00195 132.75,-0.00195 132.75,-0.0039 133,-0.0039 133,-0.0039 133.25,-0.0039 133.25,-0.0039 133.5,-0.0039 133.5,-0.00586 133.75,-0.00586 133.75,-0.0039 134,-0.0039 134,-0.0039 134.25,-0.0039 134.25,-0.0039 134.5,-0.0039 134.5,-0.00195 134.75,-0.00195 134.75,-0 135,-0 135,-0.00195 135.25,-0.00195 135.25,-0.00586 135.5,-0.00586 135.5,-0.00195 135.75,-0.00195 135.75,-0.00781 136,-0.00781 136,-0.0039 136.25,-0.0039 136.25,-0.00781 136.5,-0.00781 136.5,-0.0039 136.75,-0.0039 136.75,-0.00195 137,-0.00195 137,-0.00781 137.25,-0.00781 137.25,-0.00976 137.5,-0.00976 137.5,-0.0039 137.75,-0.0039 137.75,-0.00195 138,-0.00195 138,-0.00195 138.25,-0.00195 138.25,-0.0117 138.5,-0.0117 138.5,-0 138.75,-0 138.75,-0.0039 139,-0.0039 139,-0.00195 139.25,-0.00195 139.25,-0.00586 139.5,-0.00586 139.5,-0.00586 139.75,-0.00586 139.75,-0.00195 140,-0.00195 140,-0.00195 140.25,-0.00195 140.25,-0.0039 140.5,-0.0039 140.5,-0 140.75,-0 140.75,-0 141,-0 141,-0.00586 141.25,-0.00586 141.25,-0.00195 141.5,-0.00195 141.5,-0.0039 141.75,-0.0039 141.75,-0.00195 142,-0.00195 142,-0.0039 142.25,-0.0039 142.25,-0.00195 142.5,-0.00195 142.5,-0.00586 142.75,-0.00586 142.75,-0.00976 143,-0.00976 143,-0.0039 143.25,-0.0039 143.25,-0.00781 143.5,-0.00781 143.5,-0.00586 143.75,-0.00586 143.75,-0.00195 144,-0.00195 144,-0.00586 144.25,-0.00586 144.25,-0.00195 144.5,-0.00195 144.5,-0.00195 144.75,-0.00195 144.75,-0 145,-0 145,-0.0039 145.25,-0.0039 145.25,-0 145.5,-0 145.5,-0.00586 145.75,-0.00586 145.75,-0 146,-0 146,-0 146.25,-0 146.25,-0.0039 146.5,-0.0039 146.5,-0.0039 146.75,-0.0039 146.75,-0.0039 147,-0.0039 147,-0.00586 147.25,-0.00586 147.25,-0.00195 147.5,-0.00195 147.5,-0.00195 147.75,-0.00195 147.75,-0.00586 148,-0.00586 148,-0.00195 148.25,-0.00195 148.25,-0 148.5,-0 148.5,-0 148.75,-0 148.75,-0.00781 149,-0.00781 149,-0 149.25,-0 149.25,-0.0039 149.5,-0.0039 149.5,-0.0039 149.75,-0.0039 149.75,-0 150,-0 150,-0.00195 150.25,-0.00195 150.25,-0.0039 150.5,-0.0039 150.5,-0.00195 150.75,-0.00195 150.75,-0.00195 151,-0.00195 151,-0.00781 151.25,-0.00781 151.25,-0.0039 151.5,-0.0039 151.5,-0.00781 151.75,-0.00781 151.75,-0.0117 152,-0.0117 152,-0.0039 152.25,-0.0039 152.25,-0.00586 152.5,-0.00586 152.5,-0.00586 152.75,-0.00586 152.75,-0.00195 153,-0.00195 153,-0.0039 153.25,-0.0039 153.25,-0.0039 153.5,-0.0039 153.5,-0.00781 153.75,-0.00781 153.75,-0.00586 154,-0.00586 154,-0.00976 154.25,-0.00976 154.25,-0 154.5,-0 154.5,-0 154.75,-0 154.75,-0.00586 155,-0.00586 155,-0 155.25,-0 155.25,-0 155.5,-0 155.5,-0.0039 155.75,-0.0039 155.75,-0 156,-0 156,-0.0039 156.25,-0.0039 156.25,-0.00195 156.5,-0.00195 156.5,-0.0039 156.75,-0.0039 156.75,-0 157,-0 157,-0.0039 157.25,-0.0039 157.25,-0.00586 157.5,-0.00586 157.5,-0.0039 157.75,-0.0039 157.75,-0.0039 158,-0.0039 158,-0.0039 158.25,-0.0039 158.25,-0 158.5,-0 158.5,-0.0039 158.75,-0.0039 158.75,-0 159,-0 159,-0.00195 159.25,-0.00195 159.25,-0.00976 159.5,-0.00976 159.5,-0.0039 159.75,-0.0039 159.75,-0.0039 160,-0.0039 160,-0 160.25,-0 160.25,-0 160.5,-0 160.5,-0.0039 160.75,-0.0039 160.75,-0.00195 161,-0.00195 161,-0.00195 161.25,-0.00195 161.25,-0.0039 161.5,-0.0039 161.5,-0.00586 161.75,-0.00586 161.75,-0 162,-0 162,-0 162.25,-0 162.25,-0.00195 162.5,-0.00195 162.5,-0.00195 162.75,-0.00195 162.75,-0.00195 163,-0.00195 163,-0.00195 163.25,-0.00195 163.25,-0.00586 163.5,-0.00586 163.5,-0.00195 163.75,-0.00195 163.75,-0.00195 164,-0.00195 164,-0.00586 164.25,-0.00586 164.25,-0.00195 164.5,-0.00195 164.5,-0.00195 164.75,-0.00195 164.75,-0.00781 165,-0.00781 165,-0 165.25,-0 165.25,-0.0039 165.5,-0.0039 165.5,-0.0039 165.75,-0.0039 165.75,-0.00195 166,-0.00195 166,-0.0039 166.25,-0.0039 166.25,-0.00195 166.5,-0.00195 166.5,-0.00195 166.75,-0.00195 166.75,-0 167,-0 167,-0.00195 167.25,-0.00195 167.25,-0 167.5,-0 167.5,-0.00195 167.75,-0.00195 167.75,-0.0039 168,-0.0039 168,-0.00586 168.25,-0.00586 168.25,-0 168.5,-0 168.5,-0.00195 168.75,-0.00195 168.75,-0.00586 169,-0.00586 169,-0 169.25,-0 169.25,-0.00195 169.5,-0.00195 169.5,-0 169.75,-0 169.75,-0 170,-0 170,-0.0039 170.25,-0.0039 170.25,-0.00586 170.5,-0.00586 170.5,-0.0039 170.75,-0.0039 170.75,-0.00781 171,-0.00781 171,-0 171.25,-0 171.25,-0 171.5,-0 171.5,-0 171.75,-0 171.75,-0.00195 172,-0.00195 172,-0.00195 172.25,-0.00195 172.25,-0.00195 172.5,-0.00195 172.5,-0.00195 172.75,-0.00195 172.75,-0 173,-0 173,-0.00586 173.25,-0.00586 173.25,-0.00195 173.5,-0.00195 173.5,-0 173.75,-0 173.75,-0 174,-0 174,-0.0039 174.25,-0.0039 174.25,-0.00195 174.5,-0.00195 174.5,-0.00195 174.75,-0.00195 174.75,-0.0039 175,-0.0039 175,-0.00195 175.25,-0.00195 175.25,-0.00195 175.5,-0.00195 175.5,-0 175.75,-0 175.75,-0 176,-0 176,-0.00195 176.25,-0.00195 176.25,-0.00195 176.5,-0.00195 176.5,-0.0039 176.75,-0.0039 176.75,-0.00195 177,-0.00195 177,-0 177.25,-0 177.25,-0.00195 177.5,-0.00195 177.5,-0.00195 177.75,-0.00195 177.75,-0.00976 178,-0.00976 178,-0 178.25,-0 178.25,-0.00195 178.5,-0.00195 178.5,-0.00195 178.75,-0.00195 178.75,-0.00195 179,-0.00195 179,-0.0039 179.25,-0.0039 179.25,-0.00195 179.5,-0.00195 179.5,-0.00586 179.75,-0.00586 179.75,-0 180,-0 180,-0.00195 180.25,-0.00195 180.25,-0.00195 180.5,-0.00195 180.5,-0 180.75,-0 180.75,-0.00195 181,-0.00195 181,-0.00195 181.25,-0.00195 181.25,-0 181.5,-0 181.5,-0 181.75,-0 181.75,-0.00195 182,-0.00195 182,-0.0039 182.25,-0.0039 182.25,-0 182.5,-0 182.5,-0.0039 182.75,-0.0039 182.75,-0 183,-0 183,-0.00195 183.25,-0.00195 183.25,-0 183.5,-0 183.5,-0.00195 183.75,-0.00195 183.75,-0.00586 184,-0.00586 184,-0 184.25,-0 184.25,-0 184.5,-0 184.5,-0.00195 184.75,-0.00195 184.75,-0.00195 185,-0.00195 185,-0.0039 185.25,-0.0039 185.25,-0 185.5,-0 185.5,-0.00195 185.75,-0.00195 185.75,-0.0039 186,-0.0039 186,-0 186.25,-0 186.25,-0 186.5,-0 186.5,-0.00195 186.75,-0.00195 186.75,-0.00195 187,-0.00195 187,-0 187.25,-0 187.25,-0.00195 187.5,-0.00195 187.5,-0.00195 187.75,-0.00195 187.75,-0 188,-0 188,-0.00195 188.25,-0.00195 188.25,-0.00195 188.5,-0.00195 188.5,-0.00586 188.75,-0.00586 188.75,-0 189,-0 189,-0 189.25,-0 189.25,-0 189.5,-0 189.5,-0.00195 189.75,-0.00195 189.75,-0.0039 190,-0.0039 190,-0.00195 190.25,-0.00195 190.25,-0.00586 190.5,-0.00586 190.5,-0.0039 190.75,-0.0039 190.75,-0.00195 191,-0.00195 191,-0.00195 191.25,-0.00195 191.25,-0.00195 191.5,-0.00195 191.5,-0 191.75,-0 191.75,-0 192,-0 192,-0.00195 192.25,-0.00195 192.25,-0.0039 192.5,-0.0039 192.5,-0.00195 192.75,-0.00195 192.75,-0 193,-0 193,-0.00195 193.25,-0.00195 193.25,-0 193.5,-0 193.5,-0.00586 193.75,-0.00586 193.75,-0 194,-0 194,-0.00195 194.25,-0.00195 194.25,-0.0039 194.5,-0.0039 194.5,-0.00586 194.75,-0.00586 194.75,-0 195,-0 195,-0.00195 195.25,-0.00195 195.25,-0.00586 195.5,-0.00586 195.5,-0 195.75,-0 195.75,-0.0039 196,-0.0039 196,-0.00195 196.25,-0.00195 196.25,-0 196.5,-0 196.5,-0.00195 196.75,-0.00195 196.75,-0.00195 197,-0.00195 197,-0.00195 197.25,-0.00195 197.25,-0.00586 197.5,-0.00586 197.5,-0 197.75,-0 197.75,-0.00195 198,-0.00195 198,-0.00195 198.25,-0.00195 198.25,-0 198.5,-0 198.5,-0 198.75,-0 198.75,-0.0039 199,-0.0039 199,-0 199.25,-0 199.25,-0 199.5,-0 199.5,-0.0039 199.75,-0.0039 199.75,-0 200,-0 200,-0.00195 200.25,-0.00195 200.25,-0 200.5,-0 200.5,-0.00195 200.75,-0.00195 200.75,-0.00781 201,-0.00781 201,-0 201.25,-0 201.25,-0.0039 201.5,-0.0039 201.5,-0.0039 201.75,-0.0039 201.75,-0 202,-0 202,-0.00195 202.25,-0.00195 202.25,-0 202.5,-0 202.5,-0 202.75,-0 202.75,-0 203,-0 203,-0 203.25,-0 203.25,-0 203.5,-0 203.5,-0 203.75,-0 203.75,-0 204,-0 204,-0 204.25,-0 204.25,-0 204.5,-0 204.5,-0.0039 204.75,-0.0039 204.75,-0 205,-0 205,-0 205.25,-0 205.25,-0.00195 205.5,-0.00195 205.5,-0.0039 205.75,-0.0039 205.75,-0.00195 206,-0.00195 206,-0.00195 206.25,-0.00195 206.25,-0 206.5,-0 206.5,-0.00195 206.75,-0.00195 206.75,-0 207,-0 207,-0 207.25,-0 207.25,-0.00195 207.5,-0.00195 207.5,-0.0039 207.75,-0.0039 207.75,-0 208,-0 208,-0.00195 208.25,-0.00195 208.25,-0.00195 208.5,-0.00195 208.5,-0 208.75,-0 208.75,-0.00586 209,-0.00586 209,-0.0039 209.25,-0.0039 209.25,-0.00195 209.5,-0.00195 209.5,-0.00195 209.75,-0.00195 209.75,-0 210,-0 210,-0.00195 210.25,-0.00195 210.25,-0 210.5,-0 210.5,-0.0039 210.75,-0.0039 210.75,-0.00195 211,-0.00195 211,-0.0039 211.25,-0.0039 211.25,-0.00195 211.5,-0.00195 211.5,-0 211.75,-0 211.75,-0.0039 212,-0.0039 212,-0.00195 212.25,-0.00195 212.25,-0 212.5,-0 212.5,-0.0039 212.75,-0.0039 212.75,-0.0039 213,-0.0039 213,-0.00195 213.25,-0.00195 213.25,-0 213.5,-0 213.5,-0 213.75,-0 213.75,-0 214,-0 214,-0 214.25,-0 214.25,-0 214.5,-0 214.5,-0.0039 214.75,-0.0039 214.75,-0 215,-0 215,-0.0039 215.25,-0.0039 215.25,-0.00195 215.5,-0.00195 215.5,-0 215.75,-0 215.75,-0 216,-0 216,-0 216.25,-0 216.25,-0 216.5,-0 216.5,-0.00195 216.75,-0.00195 216.75,-0 217,-0 217,-0.00195 217.25,-0.00195 217.25,-0.00195 217.5,-0.00195 217.5,-0.00586 217.75,-0.00586 217.75,-0 218,-0 218,-0.0039 218.25,-0.0039 218.25,-0 218.5,-0 218.5,-0.00195 218.75,-0.00195 218.75,-0.00195 219,-0.00195 219,-0.00195 219.25,-0.00195 219.25,-0.00195 219.5,-0.00195 219.5,-0.00195 219.75,-0.00195 219.75,-0.00195 220,-0.00195 220,-0.0039 220.25,-0.0039 220.25,-0 220.5,-0 220.5,-0 220.75,-0 220.75,-0 221,-0 221,-0.0039 221.25,-0.0039 221.25,-0 221.5,-0 221.5,-0 221.75,-0 221.75,-0.00586 222,-0.00586 222,-0.00195 222.25,-0.00195 222.25,-0.00195 222.5,-0.00195 222.5,-0 222.75,-0 222.75,-0.0039 223,-0.0039 223,-0 223.25,-0 223.25,-0.00195 223.5,-0.00195 223.5,-0.00586 223.75,-0.00586 223.75,-0.00195 224,-0.00195 224,-0 224.25,-0 224.25,-0 224.5,-0 224.5,-0.00195 224.75,-0.00195 224.75,-0.0039 225,-0.0039 225,-0 225.25,-0 225.25,-0.00195 225.5,-0.00195 225.5,-0.00195 225.75,-0.00195 225.75,-0 226,-0 226,-0 226.25,-0 226.25,-0 226.5,-0 226.5,-0 226.75,-0 226.75,-0 227,-0 227,-0.00195 227.25,-0.00195 227.25,-0.00195 227.5,-0.00195 227.5,-0 227.75,-0 227.75,-0 228,-0 228,-0 228.25,-0 228.25,-0 228.5,-0 228.5,-0.00195 228.75,-0.00195 228.75,-0 229,-0 229,-0 229.25,-0 229.25,-0 229.5,-0 229.5,-0.00195 229.75,-0.00195 229.75,-0.00195 230,-0.00195 230,-0.00195 230.25,-0.00195 230.25,-0.00195 230.5,-0.00195 230.5,-0 230.75,-0 230.75,-0 231,-0 231,-0 231.25,-0 231.25,-0.0039 231.5,-0.0039 231.5,-0 231.75,-0 231.75,-0 232,-0 232,-0.00195 232.25,-0.00195 232.25,-0.00195 232.5,-0.00195 232.5,-0 232.75,-0 232.75,-0.00195 233,-0.00195 233,-0.00195 233.25,-0.00195 233.25,-0.00195 233.5,-0.00195 233.5,-0.00195 233.75,-0.00195 233.75,-0 234,-0 234,-0 234.25,-0 234.25,-0 234.5,-0 234.5,-0.00195 234.75,-0.00195 234.75,-0.00195 235,-0.00195 235,-0.00195 235.25,-0.00195 235.25,-0 235.5,-0 235.5,-0 235.75,-0 235.75,-0 236,-0 236,-0 236.25,-0 236.25,-0 236.5,-0 236.5,-0 236.75,-0 236.75,-0.0039 237,-0.0039 237,-0 237.25,-0 237.25,-0.00195 237.5,-0.00195 237.5,-0.00195 237.75,-0.00195 237.75,-0 238,-0 238,-0 238.25,-0 238.25,-0.00195 238.5,-0.00195 238.5,-0.0039 238.75,-0.0039 238.75,-0 239,-0 239,-0 239.25,-0 239.25,-0.00195 239.5,-0.00195 239.5,-0.00195 239.75,-0.00195 239.75,-0.00195 240,-0.00195 240,-0 240.25,-0 240.25,-0 240.5,-0 240.5,-0 240.75,-0 240.75,-0.00195 241,-0.00195 241,-0.0039 241.25,-0.0039 241.25,-0.00195 241.5,-0.00195 241.5,-0 241.75,-0 241.75,-0 242,-0 242,-0.00195 242.25,-0.00195 242.25,-0 242.5,-0 242.5,-0.00195 242.75,-0.00195 242.75,-0 243,-0 243,-0.0039 243.25,-0.0039 243.25,-0 243.5,-0 243.5,-0 243.75,-0 243.75,-0 244,-0 244,-0.00195 244.25,-0.00195 244.25,-0 244.5,-0 244.5,-0 244.75,-0 244.75,-0 245,-0 245,-0.0039 245.25,-0.0039 245.25,-0 245.5,-0 245.5,-0 245.75,-0 245.75,-0.0039 246,-0.0039 246,-0 246.25,-0 246.25,-0 246.5,-0 246.5,-0.0039 246.75,-0.0039 246.75,-0.00195 247,-0.00195 247,-0.00195 247.25,-0.00195 247.25,-0.00195 247.5,-0.00195 247.5,-0 247.75,-0 247.75,-0 248,-0 248,-0.0039 248.25,-0.0039 248.25,-0 248.5,-0 248.5,-0 248.75,-0 248.75,-0 249,-0 249,-0 249.25,-0 249.25,-0 249.5,-0 249.5,-0.00195 249.75,-0.00195 249.75,-0.00195 250,-0.00195 250,0\" style=\"fill:none; stroke:currentColor;\"/>\n",
       "</svg>\n",
       "</div>\n",
       "<div style=\"flex=grow:1;\">\n",
       "Regular(1000, 0, 1000, name='residuals', label='Reco py / TruthEcal py')<br/>\n",
       "<hr style=\"margin-top:.2em; margin-bottom:.2em;\"/>\n",
       "Double() Σ=2042129.0 <em>(2054113.0 with flow)</em>\n",
       "\n",
       "</div>\n",
       "</div>\n",
       "</html>"
      ],
      "text/plain": [
       "Hist(Regular(1000, 0, 1000, name='residuals', label='Reco py / TruthEcal py'), storage=Double()) # Sum: 2042129.0 (2054113.0 with flow)"
      ]
     },
     "metadata": {},
     "output_type": "display_data"
    }
   ],
   "source": [
    "h5"
   ]
  },
  {
   "cell_type": "code",
   "execution_count": null,
   "metadata": {},
   "outputs": [],
   "source": [
    "test1 = h1.values()\n",
    "test2 = h2.values()\n",
    "test3 = h3.values()\n",
    "test4 = h4.values()\n",
    "test5 = h5.values()\n",
    "test6 = h6.values()\n"
   ]
  },
  {
   "cell_type": "code",
   "execution_count": null,
   "metadata": {},
   "outputs": [],
   "source": [
    "rev_cum1 = np.cumsum(test1[::-1])[::-1] \n",
    "rev_cum1 = ((rev_cum1/9999979)*37000000)\n",
    "\n",
    "rev_cum2 = np.cumsum(test2[::-1])[::-1] \n",
    "rev_cum2 = ((rev_cum2/9999979)*37000000)\n",
    "\n",
    "rev_cum3 = np.cumsum(test3[::-1])[::-1] \n",
    "rev_cum3 = ((rev_cum3/9999979)*37000000)\n",
    "\n",
    "rev_cum4 = np.cumsum(test4[::-1])[::-1] \n",
    "rev_cum4 = ((rev_cum4/9999979)*37000000)\n",
    "\n",
    "rev_cum5 = np.cumsum(test5[::-1])[::-1] \n",
    "rev_cum5 = ((rev_cum5/9999979)*37000000)\n",
    "\n",
    "rev_cum6 = np.cumsum(test6[::-1])[::-1] \n",
    "rev_cum6 = ((rev_cum6/9999979)*37000000)"
   ]
  },
  {
   "cell_type": "code",
   "execution_count": null,
   "metadata": {},
   "outputs": [
    {
     "data": {
      "image/png": "[encoded data removed]",
      "text/plain": [
       "<Figure size 800x800 with 1 Axes>"
      ]
     },
     "metadata": {},
     "output_type": "display_data"
    }
   ],
   "source": [
    "plt.style.use(hep.style.ROOT)\n",
    "plt.rcParams.update({'font.size': 32})\n",
    "\n",
    "#create axis\n",
    "gen_axis = hist.axis.Regular(1000, 0, 1000, name='residuals', label=r'particle 1 py [MeV]')\n",
    "h = hist.Hist(gen_axis)\n",
    "t = hist.Hist(gen_axis)\n",
    "r = hist.Hist(gen_axis)\n",
    "a = hist.Hist(gen_axis)\n",
    "b = hist.Hist(gen_axis)\n",
    "c = hist.Hist(gen_axis)\n",
    "\n",
    "#fill histogram\n",
    "h[0:1000] = rev_cum1\n",
    "t[0:1000] = rev_cum2\n",
    "r[0:1000] = rev_cum3\n",
    "a[0:1000] = rev_cum4\n",
    "b[0:1000] = rev_cum5\n",
    "c[0:1000] = rev_cum6\n",
    "\n",
    "#print out histogram\n",
    "h\n",
    "t\n",
    "\n",
    "#make real histogram\n",
    "fig, axs = plt.subplots(1, 1, figsize=(8, 8))\n",
    "\n",
    "# use mplhep to directly plot the histogram\n",
    "hep.histplot(\n",
    "    h, # histogram\n",
    "    ax=axs,  # axis\n",
    "    density=False, # whether to normalize the histogram to 1 or not\n",
    "    label=\"particle 1 (no zCut)\", # label of histogram\n",
    "    flow=\"none\"\n",
    ")\n",
    "hep.histplot(\n",
    "    t, # histogram\n",
    "    ax=axs,  # axis\n",
    "    density=False, # whether to normalize the histogram to 1 or not\n",
    "    label=\"particle 2 (no zCut)\", # label of histogram\n",
    "    flow=\"none\"\n",
    ")\n",
    "hep.histplot(\n",
    "    r, # histogram\n",
    "    ax=axs,  # axis\n",
    "    density=False, # whether to normalize the histogram to 1 or not\n",
    "    label=\"particle 3 (no zCut)\", # label of histogram\n",
    "    flow=\"none\"\n",
    ")\n",
    "hep.histplot(\n",
    "    a, # histogram\n",
    "    ax=axs,  # axis\n",
    "    density=False, # whether to normalize the histogram to 1 or not\n",
    "    label=\"particle 1 (zCut)\", # label of histogram\n",
    "    flow=\"none\"\n",
    ")\n",
    "hep.histplot(\n",
    "    b, # histogram\n",
    "    ax=axs,  # axis\n",
    "    density=False, # whether to normalize the histogram to 1 or not\n",
    "    label=\"particle 3 (zCut)\", # label of histogram\n",
    "    flow=\"none\"\n",
    ")\n",
    "hep.histplot(\n",
    "    c, # histogram\n",
    "    ax=axs,  # axis\n",
    "    density=False, # whether to normalize the histogram to 1 or not\n",
    "    label=\"particle 3 (zCut)\", # label of histogram\n",
    "    flow=\"none\"\n",
    ")\n",
    "\n",
    "\n",
    "axs.set_ylabel(\"rate (Hz) (1e7 events)\")\n",
    "axs.set_yscale(\"log\")\n",
    "axs.legend(fontsize=12,bbox_to_anchor=(0.5, 0.5))\n",
    "# plt.vlines(570, 0, 10e8, 'b')\n",
    "# #plt.text(263, 100000 ,'2 kHz--293 MeV',rotation=90, fontsize = 12)\n",
    "# plt.vlines(11365, 0, 10e8, 'b')\n",
    "# plt.text(10900, 100000 ,'1 kHz--11,365 MeV',rotation=90, fontsize = 12)\n",
    "# plt.vlines(600, 0, 10e8, 'y')\n",
    "# plt.vlines(655, 0, 10e8, 'y')\n",
    "fig.tight_layout()\n",
    "fig.savefig(\"comp_reco_pT_zCut_rate.png\")"
   ]
  },
  {
   "cell_type": "code",
   "execution_count": null,
   "metadata": {},
   "outputs": [],
   "source": [
    "print(h)"
   ]
  },
  {
   "cell_type": "markdown",
   "metadata": {},
   "source": [
    "2D Histograms"
   ]
  },
  {
   "cell_type": "code",
   "execution_count": null,
   "metadata": {},
   "outputs": [
    {
     "data": {
      "text/plain": [
       "ColormeshArtists(pcolormesh=<matplotlib.collections.QuadMesh object at 0x135f04590>, cbar=<matplotlib.colorbar.Colorbar object at 0x135e4eb10>, text=[])"
      ]
     },
     "metadata": {},
     "output_type": "display_data"
    },
    {
     "data": {
      "image/png": "[encoded data removed]",
      "text/plain": [
       "<Figure size 684.8x480 with 2 Axes>"
      ]
     },
     "metadata": {},
     "output_type": "display_data"
    }
   ],
   "source": [
    "x_axis = hist.axis.Regular(100, -50, 50, name='p', label=r'reco ecal x [mm]')\n",
    "y_axis = hist.axis.Regular(100, -50, 50, name='energy', label=r'reco ecal y [mm]')\n",
    "hist_ecal = hist.Hist(x_axis, y_axis)\n",
    "\n",
    "\n",
    "x = reco_ecal_x_py\n",
    "y = reco_ecal_y_py\n",
    "\n",
    "hist_ecal.fill(x,y)\n",
    "\n",
    "import matplotlib.colors as colors\n",
    "\n",
    "hep.hist2dplot(hist_ecal)"
   ]
  },
  {
   "cell_type": "markdown",
   "metadata": {},
   "source": [
    "2D log plot"
   ]
  },
  {
   "cell_type": "code",
   "execution_count": null,
   "metadata": {},
   "outputs": [
    {
     "data": {
      "text/plain": [
       "ColormeshArtists(pcolormesh=<matplotlib.collections.QuadMesh object at 0x135cda210>, cbar=<matplotlib.colorbar.Colorbar object at 0x1360a2300>, text=[])"
      ]
     },
     "metadata": {},
     "output_type": "display_data"
    },
    {
     "data": {
      "image/png": "[encoded data removed]",
      "text/plain": [
       "<Figure size 684.8x480 with 2 Axes>"
      ]
     },
     "metadata": {},
     "output_type": "display_data"
    }
   ],
   "source": [
    "hep.hist2dplot(hist_ecal, **{'norm': colors.LogNorm()})"
   ]
  },
  {
   "cell_type": "code",
   "execution_count": null,
   "metadata": {},
   "outputs": [],
   "source": [
    "pos_mask_temp = nElectron_d[abs(Electron_dx_d)>10]\n",
    "dy_temp = Electron_dy_d[abs(Electron_dx_d)>10]\n",
    "pos_data = pos_mask_temp[abs(dy_temp)>10]"
   ]
  },
  {
   "cell_type": "code",
   "execution_count": null,
   "metadata": {},
   "outputs": [],
   "source": [
    "r_E_d = pad_Electron_E[:, 0]\n",
    "t_E_d = pad_TruthEcal_E[:, 0]"
   ]
  },
  {
   "cell_type": "code",
   "execution_count": null,
   "metadata": {},
   "outputs": [
    {
     "name": "stderr",
     "output_type": "stream",
     "text": [
      "/Library/Frameworks/Python.framework/Versions/3.12/lib/python3.12/site-packages/awkward/_nplikes/array_module.py:246: RuntimeWarning: divide by zero encountered in divide\n",
      "  return impl(*broadcasted_args, **(kwargs or {}))\n"
     ]
    }
   ],
   "source": [
    "# reco x\n",
    "mult_x_1 = pad_Electron_ecal_x[r_E_d/t_E_d < 0.5]\n",
    "mult_x_2 = pad_Electron_ecal_x[r_E_d/t_E_d > 1.5]\n",
    "mult_x = np.append(mult_x_1, mult_x_2, axis=0)\n",
    "\n",
    "# reco y\n",
    "mult_y_1 = pad_Electron_ecal_y[r_E_d/t_E_d < 0.5]\n",
    "mult_y_2 = pad_Electron_ecal_y[r_E_d/t_E_d > 1.5]\n",
    "mult_y = np.append(mult_y_1, mult_y_2, axis=0)\n",
    "\n",
    "# reco E\n",
    "mult_E_1 = pad_Electron_E[r_E_d/t_E_d < 0.5]\n",
    "mult_E_2 = pad_Electron_E[r_E_d/t_E_d > 1.5]\n",
    "mult_E = np.append(mult_E_1, mult_E_2, axis=0)\n",
    "\n",
    "# truth E\n",
    "mult_t_E_1 = pad_TruthEcal_E[r_E_d/t_E_d < 0.5]\n",
    "mult_t_E_2 = pad_TruthEcal_E[r_E_d/t_E_d > 1.5]\n",
    "mult_truth_E = np.append(mult_t_E_1, mult_t_E_2, axis=0)\n",
    "\n",
    "# truth ecal x\n",
    "mult_t_x_1 = pad_TruthEcal_x[r_E_d/t_E_d < 0.5]\n",
    "mult_t_x_2 = pad_TruthEcal_x[r_E_d/t_E_d > 1.5]\n",
    "mult_truth_x = np.append(mult_t_x_1, mult_t_x_2, axis=0)\n",
    "\n",
    "# truth ecal y\n",
    "mult_t_y_1 = pad_TruthEcal_y[r_E_d/t_E_d < 0.5]\n",
    "mult_t_y_2 = pad_TruthEcal_y[r_E_d/t_E_d > 1.5]\n",
    "mult_truth_y = np.append(mult_t_y_1, mult_t_y_2, axis=0)\n",
    "\n",
    "# truth target x\n",
    "mult_tr_x = pad_Truth_x[pad_nElectron>2]\n",
    "mult_tr_x_1 = pad_Truth_x[r_E_d/t_E_d < 0.5]\n",
    "mult_tr_x_2 = pad_Truth_x[r_E_d/t_E_d > 1.5]\n",
    "mult_tr_x = np.append(mult_tr_x_1, mult_tr_x_2, axis=0)\n",
    "\n",
    "# truth target y\n",
    "mult_tr_y_1 = pad_Truth_y[r_E_d/t_E_d < 0.5]\n",
    "mult_tr_y_2 = pad_Truth_y[r_E_d/t_E_d > 1.5]\n",
    "mult_tr_y = np.append(mult_tr_y_1, mult_tr_y_2, axis=0)"
   ]
  },
  {
   "cell_type": "code",
   "execution_count": null,
   "metadata": {},
   "outputs": [],
   "source": [
    "mult_x = pad_Electron_ecal_x_py\n",
    "mult_y = pad_Electron_ecal_y_py\n",
    "mult_E = pad_Electron_E_py\n",
    "mult_truth_pT = pad_TruthEcal_pT_py\n",
    "mult_pT = pad_Electron_pT_py\n",
    "mult_truth_E = pad_TruthEcal_E_py\n",
    "mult_depth = pad_Electron_depth_py\n",
    "mult_truth_x = pad_TruthEcal_x_py\n",
    "mult_truth_y = pad_TruthEcal_y_py\n",
    "mult_tr_x = pad_Truth_x_py\n",
    "mult_tr_y = pad_Truth_y_py\n",
    "mult_z = pad_Electron_zClus_py"
   ]
  },
  {
   "cell_type": "code",
   "execution_count": null,
   "metadata": {},
   "outputs": [
    {
     "data": {
      "text/html": [
       "<pre>[[4.73e+03, 1.93e+03, 705, 651, 0, 0, 0, 0],\n",
       " [8.77e+03, 945, 0, 0, 0, 0, 0, 0],\n",
       " [8.49e+03, 0, 0, 0, 0, 0, 0, 0],\n",
       " [8.17e+03, 0, 0, 0, 0, 0, 0, 0],\n",
       " [8.92e+03, 1.38e+03, 0, 0, 0, 0, 0, 0],\n",
       " [7.3e+03, 652, 0, 0, 0, 0, 0, 0],\n",
       " [7e+03, 0, 0, 0, 0, 0, 0, 0],\n",
       " [7.58e+03, 0, 0, 0, 0, 0, 0, 0],\n",
       " [2.15e+03, 1.89e+03, -400, 0, 0, 0, 0, 0],\n",
       " [7.18e+03, 672, 0, 0, 0, 0, 0, 0],\n",
       " ...,\n",
       " [4.7e+03, 659, 0, 0, 0, 0, 0, 0],\n",
       " [7.11e+03, 0, 0, 0, 0, 0, 0, 0],\n",
       " [7.74e+03, 0, 0, 0, 0, 0, 0, 0],\n",
       " [6.17e+03, 700, 818, 0, 0, 0, 0, 0],\n",
       " [6.55e+03, 653, 873, 0, 0, 0, 0, 0],\n",
       " [7.53e+03, 822, 0, 0, 0, 0, 0, 0],\n",
       " [8.62e+03, 882, 0, 0, 0, 0, 0, 0],\n",
       " [7.04e+03, 646, 0, 0, 0, 0, 0, 0],\n",
       " [1.13e+04, 1.49e+03, 925, 0, 0, 0, 0, 0]]\n",
       "--------------------------------------------\n",
       "type: 1012 * var * float64</pre>"
      ],
      "text/plain": [
       "<Array [[4.73e+03, 1.93e+03, 705, ..., 0, 0], ...] type='1012 * var * float64'>"
      ]
     },
     "metadata": {},
     "output_type": "display_data"
    }
   ],
   "source": [
    "mult_E"
   ]
  },
  {
   "cell_type": "code",
   "execution_count": null,
   "metadata": {},
   "outputs": [],
   "source": [
    "x_data = mult_x[1006]\n",
    "y_data = mult_y[1006]\n",
    "energy_data = mult_E[1006]\n",
    "truth_pT = mult_truth_pT[1006]\n",
    "pT_data = mult_pT[1006]\n",
    "depth = mult_depth[1006]\n",
    "z_data = mult_z[1006]"
   ]
  },
  {
   "cell_type": "code",
   "execution_count": null,
   "metadata": {},
   "outputs": [
    {
     "name": "stdout",
     "output_type": "stream",
     "text": [
      "[6.17e+03, 700, 818, 0, 0, 0, 0, 0]\n"
     ]
    }
   ],
   "source": [
    "print(energy_data)"
   ]
  },
  {
   "cell_type": "code",
   "execution_count": null,
   "metadata": {},
   "outputs": [
    {
     "data": {
      "text/html": [
       "<pre>[7.87e+03,\n",
       " 7.87e+03,\n",
       " 7.87e+03,\n",
       " 7.87e+03,\n",
       " 7.87e+03,\n",
       " 7.87e+03,\n",
       " 7.87e+03,\n",
       " 7.87e+03]\n",
       "-----------------\n",
       "type: 8 * float32</pre>"
      ],
      "text/plain": [
       "<Array [7.87e+03, 7.87e+03, ..., 7.87e+03, 7.87e+03] type='8 * float32'>"
      ]
     },
     "metadata": {},
     "output_type": "display_data"
    }
   ],
   "source": [
    "mult_truth_E[1006]"
   ]
  },
  {
   "cell_type": "markdown",
   "metadata": {},
   "source": [
    "Scatter plot"
   ]
  },
  {
   "cell_type": "markdown",
   "metadata": {},
   "source": [
    "used for creating the Ecal pattern imposed on event displays"
   ]
  },
  {
   "cell_type": "code",
   "execution_count": null,
   "metadata": {},
   "outputs": [],
   "source": [
    "def plot_ecal(ax):\n",
    "    \n",
    "    from matplotlib.patches import RegularPolygon\n",
    "    \n",
    "    offCoord = [\n",
    "    [0,0],\n",
    "    [148.523,85.75],\n",
    "    [148.523,-85.75],\n",
    "    [-148.523,-85.75],\n",
    "    [-148.523,85.75],\n",
    "    [0,171.5],\n",
    "    [0,-171.5],]\n",
    "    \n",
    "    ax.set_aspect('equal')\n",
    "    for c in offCoord:\n",
    "        hex = RegularPolygon((c[1], c[0]), numVertices=6, radius=98.149546, #85.,\n",
    "                             alpha=0.2, edgecolor='k', orientation=3.1415*(2/3), facecolor = \"moccasin\")\n",
    "        ax.add_patch(hex)\n",
    "        \n",
    "    plt.autoscale(enable = True)"
   ]
  },
  {
   "cell_type": "code",
   "execution_count": null,
   "metadata": {},
   "outputs": [
    {
     "data": {
      "image/png": "[encoded data removed]",
      "text/plain": [
       "<Figure size 800x800 with 1 Axes>"
      ]
     },
     "metadata": {},
     "output_type": "display_data"
    }
   ],
   "source": [
    "fig, ax = plt.subplots(1, 1, figsize=(8, 8))\n",
    "    \n",
    "labels = [\"particle 1\", \"particle 2\", \"particle 3\", \"particle 4\"]\n",
    "for i in [0, 1, 2]:\n",
    "    x = x_data[i]\n",
    "    y = y_data[i]\n",
    "    lbl = labels[i]\n",
    "    ax.scatter(x, y, label=lbl, edgecolors='none')\n",
    "    plt.text(x-15, y+5, \"D: \"+str(depth[i])+\", z: \"+str(round(z_data[i], 1)), fontsize = 8)\n",
    "\n",
    "plot_ecal(ax)\n",
    "ax.scatter(mult_truth_x[1006], mult_truth_y[1006], label=\"truth ecal\")\n",
    "ax.scatter(mult_tr_x[1006], mult_tr_y[1006], label=\"truth target\")\n",
    "ax.legend(fontsize = 15)\n",
    "ax.grid(\"on\")\n",
    "ax.set_xlim([-140, 140])\n",
    "ax.set_ylim([-160, 160])\n",
    "plt.title(r'Truth pT @ Ecal = '+str(round(truth_pT[0], 2))+' MeV, reco pT @ Ecal of p1 = '+str(round(pT_data[0], 2))+' MeV', fontsize = 10)\n",
    "plt.text(-15, 18, 'E = 7.87e3', fontsize = 10)\n",
    "plt.text(-10, 45, 'E = 6.17e3', fontsize = 10)\n",
    "plt.text(-5, 132, 'E = 700', fontsize = 10)\n",
    "plt.text(0, -110, 'E = 818', fontsize = 10)\n",
    "#plt.text(50, 11, 'E = 651', fontsize = 10)\n",
    "\n",
    "plt.show()"
   ]
  },
  {
   "cell_type": "markdown",
   "metadata": {},
   "source": [
    "Fitting (Gaussian)"
   ]
  },
  {
   "cell_type": "code",
   "execution_count": null,
   "metadata": {},
   "outputs": [],
   "source": [
    "# cutting px data for fitting\n",
    "frac_px_e_1_fit = cut_for_fit(frac_px_e_1, 2, -2)\n",
    "frac_py_e_1_fit = cut_for_fit(frac_py_e_1, -30, 30)"
   ]
  },
  {
   "cell_type": "code",
   "execution_count": null,
   "metadata": {},
   "outputs": [],
   "source": [
    "plt.style.use(hep.style.ROOT)\n",
    "plt.rcParams.update({'font.size': 32})\n",
    "\n",
    "energy_axis = hist.axis.Regular(100, -50, 50, name='residuals', label=r'Reco py/Truth py [MeV]')\n",
    "hist_Electron_e = hist.Hist(energy_axis)\n",
    "\n",
    "hist_Electron_e.fill(frac_py_e_3)\n",
    "\n",
    "#print out histogram\n",
    "hist_Electron_e\n",
    "\n",
    "#make real histogram\n",
    "fig, axs = plt.subplots(1, 1, figsize=(8, 8))\n",
    "\n",
    "# use mplhep to directly plot the histogram\n",
    "hep.histplot(\n",
    "    hist_Electron_e, # histogram\n",
    "    ax=axs,  # axis\n",
    "    density=True, # whether to normalize the histogram to 1 or not\n",
    "    label=\"full range\", # label of histogram\n",
    "    flow=\"none\"\n",
    ")\n",
    "\n",
    "axs.set_ylabel(\"Electrons\")\n",
    "axs.legend(fontsize=12,bbox_to_anchor=(0.6, 0.5))\n",
    "axs.set_xlim([-50, 50])\n",
    "fig.tight_layout()\n",
    "fig.savefig(\"comparison_e_fit.png\")\n",
    "\n",
    "datos = frac_py_e_3\n",
    "\n",
    "(mu, sigma) = norm.fit(datos)\n",
    "\n",
    "x = np.linspace(norm.ppf(0.01),\n",
    "                norm.ppf(0.99), 100)\n",
    "axs.plot(x, norm.pdf(x, mu, sigma),\n",
    "       'r-', lw=5, alpha=0.8, label='norm pdf')\n",
    "\n",
    "#plot\n",
    "plt.xlabel('Reco py/Truth py')\n",
    "plt.ylabel('Electrons (Density)')\n",
    "plt.title(r'$\\mathrm{Histogram\\ of\\ py}\\ \\mu=%.3f,\\ \\sigma=%.3f$' %(mu, sigma))\n",
    "plt.grid(True)\n",
    "plt.show()"
   ]
  }
 ],
 "metadata": {
  "language_info": {
   "name": "python"
  }
 },
 "nbformat": 4,
 "nbformat_minor": 2
}
